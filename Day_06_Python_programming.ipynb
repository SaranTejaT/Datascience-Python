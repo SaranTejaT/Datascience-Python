{
 "cells": [
  {
   "cell_type": "markdown",
   "id": "46577ca3",
   "metadata": {},
   "source": [
    "# Python Programming\n",
    "\n",
    "## Todays Objectives"
   ]
  },
  {
   "cell_type": "markdown",
   "id": "de32c7ad",
   "metadata": {},
   "source": [
    "- Output & Input\n",
    "- Variables in python\n",
    "- Type Conversions in python\n",
    "- Operators in python\n",
    "- Conditional Statements"
   ]
  },
  {
   "cell_type": "code",
   "execution_count": 1,
   "id": "97b1f542",
   "metadata": {},
   "outputs": [
    {
     "name": "stdout",
     "output_type": "stream",
     "text": [
      "Hello World\n"
     ]
    }
   ],
   "source": [
    "print(\"Hello World\")"
   ]
  },
  {
   "cell_type": "code",
   "execution_count": 2,
   "id": "803172e8",
   "metadata": {},
   "outputs": [
    {
     "name": "stdout",
     "output_type": "stream",
     "text": [
      "Today's date is 29\n"
     ]
    }
   ],
   "source": [
    "print(\"Today's date is\",29)"
   ]
  },
  {
   "cell_type": "code",
   "execution_count": 3,
   "id": "541115a6",
   "metadata": {},
   "outputs": [
    {
     "name": "stdout",
     "output_type": "stream",
     "text": [
      "Today's date is-29\n"
     ]
    }
   ],
   "source": [
    "print(\"Today's date is\",29,sep='-')"
   ]
  },
  {
   "cell_type": "code",
   "execution_count": 4,
   "id": "801fa490",
   "metadata": {},
   "outputs": [
    {
     "name": "stdout",
     "output_type": "stream",
     "text": [
      "1abc2abc3abc4abc5abc6\n"
     ]
    }
   ],
   "source": [
    "print(1,2,3,4,5,6,sep=\"abc\")"
   ]
  },
  {
   "cell_type": "markdown",
   "id": "97f0dc85",
   "metadata": {},
   "source": [
    "### Variables\n",
    "\n",
    "It is named memory location which holds some value\n",
    "\n",
    "### Properties of declaring a variable\n",
    "\n",
    "- shouldn't start with a number\n",
    "- no special characters are allowed except underscore\n",
    "- keywords are not allowed\n",
    "- It can contain AtoZ & 0to9\n",
    "- case sensitive"
   ]
  },
  {
   "cell_type": "code",
   "execution_count": 4,
   "id": "6439cc9a",
   "metadata": {},
   "outputs": [],
   "source": [
    "a=55\n",
    "_a=2256\n",
    "#1a=66  Wrong\n",
    "#a-b=26+54 Wrong\n",
    "_=524\n",
    "a9=56.88\n",
    "a9_='Python'"
   ]
  },
  {
   "cell_type": "markdown",
   "id": "ebcb0893",
   "metadata": {},
   "source": [
    "## Data types in Python \n",
    "\n",
    "- Primary data types -> int,float,complex,string ,boolean\n",
    "- Secondary data types -> Containers -> List,Tuple,Dictionary,Set"
   ]
  },
  {
   "cell_type": "code",
   "execution_count": 5,
   "id": "25de2542",
   "metadata": {},
   "outputs": [],
   "source": [
    "a=55\n",
    "b=55.66\n",
    "c=5+6j\n",
    "d=True\n",
    "e='a+5..,'\n",
    "f=['python',65,56.65,4+6j]\n",
    "g=('python',65,56.65,4+6j)\n",
    "h={'Name':'Python'}\n",
    "i={2,3,5,7}"
   ]
  },
  {
   "cell_type": "code",
   "execution_count": 6,
   "id": "85e4b515",
   "metadata": {},
   "outputs": [
    {
     "name": "stdout",
     "output_type": "stream",
     "text": [
      "<class 'int'>\n"
     ]
    }
   ],
   "source": [
    "print(type(a))"
   ]
  },
  {
   "cell_type": "code",
   "execution_count": 8,
   "id": "d2bf50db",
   "metadata": {},
   "outputs": [
    {
     "name": "stdout",
     "output_type": "stream",
     "text": [
      "<class 'float'>\n"
     ]
    }
   ],
   "source": [
    "x=55.67\n",
    "print(type(x))"
   ]
  },
  {
   "cell_type": "code",
   "execution_count": 9,
   "id": "a77082da",
   "metadata": {},
   "outputs": [
    {
     "name": "stdout",
     "output_type": "stream",
     "text": [
      "<class 'list'> <class 'bool'> <class 'complex'> <class 'dict'>\n"
     ]
    }
   ],
   "source": [
    "print(type(f),type(d),type(c),type(h))"
   ]
  },
  {
   "cell_type": "code",
   "execution_count": 10,
   "id": "d8715dba",
   "metadata": {},
   "outputs": [
    {
     "name": "stdout",
     "output_type": "stream",
     "text": [
      "56\n"
     ]
    }
   ],
   "source": [
    "a=input()"
   ]
  },
  {
   "cell_type": "code",
   "execution_count": 11,
   "id": "2863354c",
   "metadata": {},
   "outputs": [
    {
     "data": {
      "text/plain": [
       "str"
      ]
     },
     "execution_count": 11,
     "metadata": {},
     "output_type": "execute_result"
    }
   ],
   "source": [
    "type(a)"
   ]
  },
  {
   "cell_type": "code",
   "execution_count": 12,
   "id": "3af736ff",
   "metadata": {},
   "outputs": [
    {
     "name": "stdout",
     "output_type": "stream",
     "text": [
      "[1,2,3,4]\n"
     ]
    }
   ],
   "source": [
    "b=input()"
   ]
  },
  {
   "cell_type": "code",
   "execution_count": 13,
   "id": "74d2441d",
   "metadata": {},
   "outputs": [
    {
     "name": "stdout",
     "output_type": "stream",
     "text": [
      "<class 'str'>\n"
     ]
    }
   ],
   "source": [
    "print(type(b))"
   ]
  },
  {
   "cell_type": "markdown",
   "id": "78e88ed9",
   "metadata": {},
   "source": [
    "## Type Conversions\n"
   ]
  },
  {
   "cell_type": "code",
   "execution_count": 14,
   "id": "ef04aa1c",
   "metadata": {},
   "outputs": [
    {
     "name": "stdout",
     "output_type": "stream",
     "text": [
      "56\n"
     ]
    }
   ],
   "source": [
    "a=int(input())"
   ]
  },
  {
   "cell_type": "code",
   "execution_count": 15,
   "id": "c6179949",
   "metadata": {},
   "outputs": [
    {
     "name": "stdout",
     "output_type": "stream",
     "text": [
      "56 <class 'int'>\n"
     ]
    }
   ],
   "source": [
    "print(a,type(a))\n"
   ]
  },
  {
   "cell_type": "code",
   "execution_count": 16,
   "id": "fd0a07b6",
   "metadata": {},
   "outputs": [
    {
     "name": "stdout",
     "output_type": "stream",
     "text": [
      "256.66\n"
     ]
    },
    {
     "ename": "ValueError",
     "evalue": "invalid literal for int() with base 10: '256.66'",
     "output_type": "error",
     "traceback": [
      "\u001b[1;31m---------------------------------------------------------------------------\u001b[0m",
      "\u001b[1;31mValueError\u001b[0m                                Traceback (most recent call last)",
      "\u001b[1;32m<ipython-input-16-dc4d9d8486d8>\u001b[0m in \u001b[0;36m<module>\u001b[1;34m\u001b[0m\n\u001b[1;32m----> 1\u001b[1;33m \u001b[0mb\u001b[0m\u001b[1;33m=\u001b[0m\u001b[0mint\u001b[0m\u001b[1;33m(\u001b[0m\u001b[0minput\u001b[0m\u001b[1;33m(\u001b[0m\u001b[1;33m)\u001b[0m\u001b[1;33m)\u001b[0m\u001b[1;33m\u001b[0m\u001b[1;33m\u001b[0m\u001b[0m\n\u001b[0m\u001b[0;32m      2\u001b[0m \u001b[1;33m\u001b[0m\u001b[0m\n\u001b[0;32m      3\u001b[0m \u001b[0mprint\u001b[0m\u001b[1;33m(\u001b[0m\u001b[0ma\u001b[0m\u001b[1;33m,\u001b[0m\u001b[0mtype\u001b[0m\u001b[1;33m(\u001b[0m\u001b[0ma\u001b[0m\u001b[1;33m)\u001b[0m\u001b[1;33m)\u001b[0m\u001b[1;33m\u001b[0m\u001b[1;33m\u001b[0m\u001b[0m\n",
      "\u001b[1;31mValueError\u001b[0m: invalid literal for int() with base 10: '256.66'"
     ]
    }
   ],
   "source": [
    "b=int(input())\n",
    "\n",
    "print(a,type(a))"
   ]
  },
  {
   "cell_type": "code",
   "execution_count": 17,
   "id": "58b1ce93",
   "metadata": {},
   "outputs": [
    {
     "name": "stdout",
     "output_type": "stream",
     "text": [
      "65.52\n",
      "65.52 <class 'float'>\n"
     ]
    }
   ],
   "source": [
    "c=float(input())\n",
    "\n",
    "print(c,type(c))"
   ]
  },
  {
   "cell_type": "markdown",
   "id": "e90de568",
   "metadata": {},
   "source": [
    "## Number System\n",
    "\n",
    "- Decimal -> 10 -> 0-9\n",
    "- Binary -> 2 -> 0-1\n",
    "- Octal -> 8 -> 0-7\n",
    "- Hexadecimal -> 16 -> 0-F\n"
   ]
  },
  {
   "cell_type": "code",
   "execution_count": 18,
   "id": "2b7dee13",
   "metadata": {},
   "outputs": [
    {
     "name": "stdout",
     "output_type": "stream",
     "text": [
      "0b110111 0o67 0x37\n"
     ]
    }
   ],
   "source": [
    "a=55\n",
    "\n",
    "print(bin(a),oct(a),hex(a))\n"
   ]
  },
  {
   "cell_type": "code",
   "execution_count": 19,
   "id": "8d889e3a",
   "metadata": {},
   "outputs": [
    {
     "name": "stdout",
     "output_type": "stream",
     "text": [
      "55 55 55\n"
     ]
    }
   ],
   "source": [
    "print(int('110111',2),int('67',8),int('37',16))"
   ]
  },
  {
   "cell_type": "code",
   "execution_count": 20,
   "id": "81965a24",
   "metadata": {},
   "outputs": [
    {
     "ename": "TypeError",
     "evalue": "ord() expected string of length 1, but int found",
     "output_type": "error",
     "traceback": [
      "\u001b[1;31m---------------------------------------------------------------------------\u001b[0m",
      "\u001b[1;31mTypeError\u001b[0m                                 Traceback (most recent call last)",
      "\u001b[1;32m<ipython-input-20-b5229879a071>\u001b[0m in \u001b[0;36m<module>\u001b[1;34m\u001b[0m\n\u001b[1;32m----> 1\u001b[1;33m \u001b[0mprint\u001b[0m\u001b[1;33m(\u001b[0m\u001b[0mord\u001b[0m\u001b[1;33m(\u001b[0m\u001b[0ma\u001b[0m\u001b[1;33m)\u001b[0m\u001b[1;33m)\u001b[0m\u001b[1;33m\u001b[0m\u001b[1;33m\u001b[0m\u001b[0m\n\u001b[0m",
      "\u001b[1;31mTypeError\u001b[0m: ord() expected string of length 1, but int found"
     ]
    }
   ],
   "source": [
    "print(ord(a))"
   ]
  },
  {
   "cell_type": "code",
   "execution_count": 21,
   "id": "ffbad483",
   "metadata": {},
   "outputs": [
    {
     "name": "stdout",
     "output_type": "stream",
     "text": [
      "97\n"
     ]
    }
   ],
   "source": [
    "print(ord('a'))"
   ]
  },
  {
   "cell_type": "code",
   "execution_count": 22,
   "id": "accfefd1",
   "metadata": {},
   "outputs": [
    {
     "name": "stdout",
     "output_type": "stream",
     "text": [
      "b\n"
     ]
    }
   ],
   "source": [
    "print(chr(98))"
   ]
  },
  {
   "cell_type": "markdown",
   "id": "aa19b557",
   "metadata": {},
   "source": [
    "## Operators in Python\n",
    "\n",
    "- Arithmetic operator-> +,-,*,/,//,**\n",
    "- Logical -> and,or,not\n",
    "- comparision/relational -> <,>,>=,<=,!=\n",
    "- Bitwise operator-> &,|,~,^,<<,>>\n",
    "- Assignment Operator -> +=,-=,/=,//==,*=,**=\n",
    "- Identity Operators -> is,not is\n",
    "- membership operators -> in,not in"
   ]
  },
  {
   "cell_type": "code",
   "execution_count": 24,
   "id": "b0776d57",
   "metadata": {},
   "outputs": [
    {
     "name": "stdout",
     "output_type": "stream",
     "text": [
      "14 -6 40 1048576 0.4 0\n"
     ]
    }
   ],
   "source": [
    "a=4\n",
    "b=10\n",
    "\n",
    "print(a+b,a-b,a*b,a**b,a/b,a//b)"
   ]
  },
  {
   "cell_type": "markdown",
   "id": "212edb82",
   "metadata": {},
   "source": [
    "### and(in1 * in2)\n",
    "\n",
    "|in1|in2|in1 and in2|\n",
    "|-----|---|---|\n",
    "|T|T|T|\n",
    "|T|F|F|\n",
    "|F|T|F|\n",
    "|F|F|F|"
   ]
  },
  {
   "cell_type": "markdown",
   "id": "55b6b5fb",
   "metadata": {},
   "source": [
    "### or(in1 + in2)\n",
    "\n",
    "|in1|in2|in1 and in2|\n",
    "|-----|---|---|\n",
    "|T|T|T|\n",
    "|T|F|T|\n",
    "|F|T|T|\n",
    "|F|F|F|\n"
   ]
  },
  {
   "cell_type": "markdown",
   "id": "53427134",
   "metadata": {},
   "source": [
    "### not\n",
    "\n",
    "|in1|not in1|\n",
    "|-----|---|\n",
    "|F|T|\n",
    "|T|F|"
   ]
  },
  {
   "cell_type": "code",
   "execution_count": 31,
   "id": "53bfd77b",
   "metadata": {},
   "outputs": [
    {
     "name": "stdout",
     "output_type": "stream",
     "text": [
      "0--1--False--0--<class 'str'>\n"
     ]
    }
   ],
   "source": [
    "a=1\n",
    "b=0\n",
    "c='0'\n",
    "\n",
    "print(a and b,a or b, not a,a and c,type(a and c),sep='--')"
   ]
  },
  {
   "cell_type": "code",
   "execution_count": 32,
   "id": "2f1a5189",
   "metadata": {},
   "outputs": [
    {
     "name": "stdout",
     "output_type": "stream",
     "text": [
      "1 1\n"
     ]
    }
   ],
   "source": [
    "print(c and a,a or c)"
   ]
  },
  {
   "cell_type": "code",
   "execution_count": 33,
   "id": "cd328d9f",
   "metadata": {},
   "outputs": [
    {
     "name": "stdout",
     "output_type": "stream",
     "text": [
      "6\n"
     ]
    }
   ],
   "source": [
    "a=5\n",
    "b=6\n",
    "c=0\n",
    "\n",
    "print(a and b)"
   ]
  },
  {
   "cell_type": "code",
   "execution_count": 34,
   "id": "d94b3204",
   "metadata": {},
   "outputs": [
    {
     "name": "stdout",
     "output_type": "stream",
     "text": [
      "0 0\n"
     ]
    }
   ],
   "source": [
    "print(a and c,c and a)"
   ]
  },
  {
   "cell_type": "code",
   "execution_count": 35,
   "id": "1eea0873",
   "metadata": {},
   "outputs": [
    {
     "name": "stdout",
     "output_type": "stream",
     "text": [
      "True False False\n"
     ]
    }
   ],
   "source": [
    "print(a < b,a>b,a==b)"
   ]
  },
  {
   "cell_type": "markdown",
   "id": "6d6c5207",
   "metadata": {},
   "source": [
    "## Bitwise Operators\n",
    "\n",
    "&,|,~,^\n",
    "\n",
    "a=4\n",
    "b=10\n",
    "\n",
    "    0000 -> 0 -> and\n",
    "    1110 -> 14 -> or\n",
    "~a\n",
    "4   ->  0100\n",
    "        0001\n",
    "        0101 -> -5\n",
    "        \n",
    "        "
   ]
  },
  {
   "cell_type": "code",
   "execution_count": 36,
   "id": "c0b8ff6d",
   "metadata": {},
   "outputs": [
    {
     "name": "stdout",
     "output_type": "stream",
     "text": [
      "0 14 -5\n"
     ]
    }
   ],
   "source": [
    "a=4\n",
    "b=10\n",
    "\n",
    "print(a & b,a | b, ~a)"
   ]
  },
  {
   "cell_type": "markdown",
   "id": "d152c311",
   "metadata": {},
   "source": [
    "### XOR -> A'B+AB'\n",
    "\n",
    "|in1|in2|in1 xor in2|\n",
    "|-----|---|---|\n",
    "|T|T|F|\n",
    "|T|F|T|\n",
    "|F|T|T|\n",
    "|F|F|F|\n",
    "\n",
    "a=4 -> 0100\n",
    "b=10 ->1010\n",
    "      ------\n",
    "       1110 -> 14"
   ]
  },
  {
   "cell_type": "code",
   "execution_count": 37,
   "id": "18a419b3",
   "metadata": {},
   "outputs": [
    {
     "name": "stdout",
     "output_type": "stream",
     "text": [
      "14\n"
     ]
    }
   ],
   "source": [
    "print(a ^ b)"
   ]
  },
  {
   "cell_type": "markdown",
   "id": "af815b2f",
   "metadata": {},
   "source": [
    "## Left shift and Right shift\n",
    "\n",
    "a=4 -> 0100\n",
    "a<<2 -> 010000 -> 16\n",
    "a>>2 -> 0001 -> 1\n"
   ]
  },
  {
   "cell_type": "code",
   "execution_count": 38,
   "id": "cb7c155f",
   "metadata": {},
   "outputs": [
    {
     "name": "stdout",
     "output_type": "stream",
     "text": [
      "16 1\n"
     ]
    }
   ],
   "source": [
    "a=4\n",
    "\n",
    "print(a<<2,a>>2)"
   ]
  },
  {
   "cell_type": "code",
   "execution_count": 39,
   "id": "f9b18bd9",
   "metadata": {},
   "outputs": [
    {
     "name": "stdout",
     "output_type": "stream",
     "text": [
      "15\n",
      "25\n",
      "20\n",
      "40\n",
      "1600\n"
     ]
    }
   ],
   "source": [
    "a=5\n",
    "\n",
    "a=a+10\n",
    "print(a)\n",
    "a+=10\n",
    "print(a)\n",
    "a-=5\n",
    "print(a)\n",
    "a*=2\n",
    "print(a)\n",
    "a**=2\n",
    "print(a)\n"
   ]
  },
  {
   "cell_type": "markdown",
   "id": "c03d2a93",
   "metadata": {},
   "source": [
    "## Membership operators"
   ]
  },
  {
   "cell_type": "code",
   "execution_count": 40,
   "id": "b0c2331d",
   "metadata": {},
   "outputs": [
    {
     "name": "stdout",
     "output_type": "stream",
     "text": [
      "False False True\n"
     ]
    }
   ],
   "source": [
    "a='Python'\n",
    "b='Py'\n",
    "c='py'\n",
    "\n",
    "print(a in b,a in c,a not in c)"
   ]
  },
  {
   "cell_type": "markdown",
   "id": "6e1b645d",
   "metadata": {},
   "source": [
    "## Identity operators\n"
   ]
  },
  {
   "cell_type": "code",
   "execution_count": 51,
   "id": "f167e6e9",
   "metadata": {},
   "outputs": [],
   "source": [
    "a=5\n",
    "b=5.5\n",
    "c=5\n",
    "d=[1,2,3]\n",
    "e=[1,2,3]\n",
    "f=d"
   ]
  },
  {
   "cell_type": "code",
   "execution_count": 43,
   "id": "99e71200",
   "metadata": {},
   "outputs": [
    {
     "name": "stdout",
     "output_type": "stream",
     "text": [
      "[1, 2, 3]\n"
     ]
    }
   ],
   "source": [
    "print(f)"
   ]
  },
  {
   "cell_type": "code",
   "execution_count": 44,
   "id": "00732f0d",
   "metadata": {},
   "outputs": [
    {
     "name": "stdout",
     "output_type": "stream",
     "text": [
      "True True True\n"
     ]
    }
   ],
   "source": [
    "print(a==c,d==e,d==f)"
   ]
  },
  {
   "cell_type": "code",
   "execution_count": 49,
   "id": "2cab7579",
   "metadata": {},
   "outputs": [
    {
     "name": "stdout",
     "output_type": "stream",
     "text": [
      "140718833870768\n",
      "140718833870768\n",
      "1879103132992\n",
      "1879103133248\n",
      "1879103132992\n"
     ]
    }
   ],
   "source": [
    "print(id(a))\n",
    "print(id(c))\n",
    "print(id(d))\n",
    "print(id(e))\n",
    "print(id(f))\n"
   ]
  },
  {
   "cell_type": "code",
   "execution_count": 50,
   "id": "d2cab347",
   "metadata": {},
   "outputs": [
    {
     "name": "stdout",
     "output_type": "stream",
     "text": [
      "[1, 2, 3, 'Python', 'Python', 'Python', 'Python']\n",
      "[1, 2, 3, 'Python', 'Python', 'Python', 'Python']\n"
     ]
    }
   ],
   "source": [
    "d.append('Python')\n",
    "\n",
    "print(d)\n",
    "print(f)\n"
   ]
  },
  {
   "cell_type": "code",
   "execution_count": 52,
   "id": "34e9e0cf",
   "metadata": {},
   "outputs": [
    {
     "name": "stdout",
     "output_type": "stream",
     "text": [
      "[1, 2, 3] [1, 2, 3] [1, 2, 3]\n",
      "False True False True\n"
     ]
    }
   ],
   "source": [
    "print(d,e,f)\n",
    "print(d is e,d is f,e is f,d is not e)"
   ]
  },
  {
   "cell_type": "code",
   "execution_count": null,
   "id": "aa176bf7",
   "metadata": {},
   "outputs": [],
   "source": []
  }
 ],
 "metadata": {
  "kernelspec": {
   "display_name": "Python 3",
   "language": "python",
   "name": "python3"
  },
  "language_info": {
   "codemirror_mode": {
    "name": "ipython",
    "version": 3
   },
   "file_extension": ".py",
   "mimetype": "text/x-python",
   "name": "python",
   "nbconvert_exporter": "python",
   "pygments_lexer": "ipython3",
   "version": "3.8.8"
  }
 },
 "nbformat": 4,
 "nbformat_minor": 5
}
