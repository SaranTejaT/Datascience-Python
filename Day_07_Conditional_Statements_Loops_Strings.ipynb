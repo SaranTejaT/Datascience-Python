{
 "cells": [
  {
   "cell_type": "markdown",
   "id": "06cc9fc1",
   "metadata": {},
   "source": [
    "# Day Objectives\n",
    "\n",
    "- Conditional Statements\n",
    "    - If\n",
    "    - If - else\n",
    "    - If - elif - else\n",
    "- Loops in Python\n",
    "    - For loop\n",
    "    - While loop\n",
    "- Strings\n",
    "    - Declaring a String\n",
    "    - Accesing the elements from String\n",
    "    - String Methods\n",
    "    "
   ]
  },
  {
   "cell_type": "markdown",
   "id": "01625a74",
   "metadata": {},
   "source": [
    "## Conditional Statements\n",
    "\n",
    "- Controlling the flow of execution\n",
    "\n",
    "### Syntax\n",
    "\n",
    "- If\n",
    "\n",
    "```python\n",
    "\n",
    "if(condition):\n",
    "    Block of code\n",
    "    \n",
    "```\n",
    "\n",
    "- If-else\n",
    "\n",
    "```python\n",
    "\n",
    "if(condition):\n",
    "    Block of code\n",
    "else:\n",
    "    Block of code\n",
    "    \n",
    "```\n",
    "\n",
    "- If-elif-else\n",
    "\n",
    "```python\n",
    "\n",
    "if(condition):\n",
    "    Block of code\n",
    "elif(condition):\n",
    "    Block of code\n",
    "else:\n",
    "    Block of code\n",
    "```\n",
    "\n"
   ]
  },
  {
   "cell_type": "markdown",
   "id": "ea763d0d",
   "metadata": {},
   "source": [
    "- Biggest of 2 numbers"
   ]
  },
  {
   "cell_type": "code",
   "execution_count": 3,
   "id": "97d77051",
   "metadata": {},
   "outputs": [
    {
     "name": "stdout",
     "output_type": "stream",
     "text": [
      "15 is the biggest number\n"
     ]
    }
   ],
   "source": [
    "a=5\n",
    "b=15\n",
    "\n",
    "if(a > b):\n",
    "    print(a,\"is the biggest number\")\n",
    "else:\n",
    "    print(b,\"is the biggest number\")\n"
   ]
  },
  {
   "cell_type": "code",
   "execution_count": 4,
   "id": "90836e9e",
   "metadata": {},
   "outputs": [
    {
     "name": "stdout",
     "output_type": "stream",
     "text": [
      "15 is the biggest number\n"
     ]
    }
   ],
   "source": [
    "a=5\n",
    "b=15\n",
    "\n",
    "if(a > b):\n",
    "    print(a,\"is biggest number\")\n",
    "elif(b>a):\n",
    "    print(b,\"is the biggest number\")\n",
    "else:\n",
    "    print(\"Both numbers are equal\")\n",
    "    "
   ]
  },
  {
   "cell_type": "markdown",
   "id": "ec164ce1",
   "metadata": {},
   "source": [
    "- Biggest of Three numbers"
   ]
  },
  {
   "cell_type": "code",
   "execution_count": 5,
   "id": "b13f8e75",
   "metadata": {},
   "outputs": [
    {
     "name": "stdout",
     "output_type": "stream",
     "text": [
      "15 is the biggest number\n"
     ]
    }
   ],
   "source": [
    "a=5\n",
    "b=15\n",
    "c=8\n",
    "\n",
    "if(a>b and a>c):\n",
    "    print(a,\"is biggest number\")\n",
    "elif(b>c):\n",
    "    print(b,\"is the biggest number\")\n",
    "else:\n",
    "    print(c,\"is the biggest number\")\n",
    "    "
   ]
  },
  {
   "cell_type": "markdown",
   "id": "b0403887",
   "metadata": {},
   "source": [
    "- checking the number is even or not"
   ]
  },
  {
   "cell_type": "code",
   "execution_count": 1,
   "id": "bd16d902",
   "metadata": {},
   "outputs": [
    {
     "name": "stdout",
     "output_type": "stream",
     "text": [
      "Enter a number:78986545\n",
      "78986545 is the odd number\n"
     ]
    }
   ],
   "source": [
    "n= int(input(\"Enter a number:\"))\n",
    "\n",
    "if(n % 2 == 0):\n",
    "    print(n,\"is the even number\")\n",
    "else:\n",
    "    print(n,\"is the odd number\")\n",
    "    "
   ]
  },
  {
   "cell_type": "markdown",
   "id": "4aa92121",
   "metadata": {},
   "source": [
    "Verify given year is leap year or not\n",
    "\n",
    "- divisible by 4 remainder as 0\n",
    "- shouldn't divisible by 100\n",
    "- divisible by 400\n"
   ]
  },
  {
   "cell_type": "code",
   "execution_count": 3,
   "id": "75f422eb",
   "metadata": {},
   "outputs": [
    {
     "name": "stdout",
     "output_type": "stream",
     "text": [
      "Enter a year: 2100\n",
      "2100 is not a leap year\n"
     ]
    }
   ],
   "source": [
    "year=int(input(\"Enter a year: \"))\n",
    "\n",
    "if (year % 400 == 0) or (year % 4 == 0 and year % 100 != 0):\n",
    "    print(year,\"is a leap year\")\n",
    "else:\n",
    "    print(year,\"is not a leap year\")\n",
    "    "
   ]
  },
  {
   "cell_type": "markdown",
   "id": "76e01739",
   "metadata": {},
   "source": [
    "## Calculator Application\n",
    "\n",
    "- 2 input numbers\n",
    "- Arithmetic operations"
   ]
  },
  {
   "cell_type": "code",
   "execution_count": 4,
   "id": "5cb753d8",
   "metadata": {},
   "outputs": [
    {
     "name": "stdout",
     "output_type": "stream",
     "text": [
      "Enter a number:45\n",
      "Enter a number:646\n",
      "What arithmetic I need to perform:*\n",
      "29070\n",
      "691\n",
      "-601\n",
      "29070\n"
     ]
    }
   ],
   "source": [
    "a= int(input(\"Enter a number:\"))\n",
    "b= int(input(\"Enter a number:\"))\n",
    "arth =input('What arithmetic I need to perform:')\n",
    "\n",
    "if arth =='+':\n",
    "    print(a+b)\n",
    "elif arth == '-':\n",
    "    print(a-b)\n",
    "elif arth =='*':\n",
    "    print(a*b)\n",
    "else:\n",
    "    print(\"Given arithmetic operation is invalid\")\n",
    "    \n",
    "print(a+b)\n",
    "print(a-b)\n",
    "print(a*b)\n"
   ]
  },
  {
   "cell_type": "markdown",
   "id": "c8b51f94",
   "metadata": {},
   "source": [
    "## Loops in python\n",
    "\n",
    "execute the block of code for multiple times\n",
    "- Initialization\n",
    "- Condition\n",
    "- Inc/Dec\n",
    "\n",
    "### Syntax\n",
    "\n",
    "- for loop -> How many times I need to execute the loop\n",
    "\n",
    "```python\n",
    "for Iterative variable in GroupofData:\n",
    "    Block of data\n",
    "```\n",
    "\n",
    "- While loop -> Based on condition\n",
    "\n",
    "```python\n",
    "init \n",
    "while condition:\n",
    "    Block of code\n",
    "    inc/dec\n",
    "```\n",
    "\n",
    "### GroupofData\n",
    "\n",
    " range(init,cond,inc/dec)\n",
    "\n",
    " range(start,stop,step)\n",
    "\n",
    " cond -> required arg\n",
    " \n",
    " init -> 0\n",
    " \n",
    " inc/dec -> +1\n",
    "\n",
    "\n",
    "\n"
   ]
  },
  {
   "cell_type": "markdown",
   "id": "5d790c31",
   "metadata": {},
   "source": [
    "Display 1 to 100 numbers to users\n",
    "\n"
   ]
  },
  {
   "cell_type": "code",
   "execution_count": 5,
   "id": "73140b3f",
   "metadata": {
    "collapsed": true
   },
   "outputs": [
    {
     "name": "stdout",
     "output_type": "stream",
     "text": [
      "1\t2\t3\t4\t5\t6\t7\t8\t9\t10\t11\t12\t13\t14\t15\t16\t17\t18\t19\t20\t21\t22\t23\t24\t25\t26\t27\t28\t29\t30\t31\t32\t33\t34\t35\t36\t37\t38\t39\t40\t41\t42\t43\t44\t45\t46\t47\t48\t49\t50\t51\t52\t53\t54\t55\t56\t57\t58\t59\t60\t61\t62\t63\t64\t65\t66\t67\t68\t69\t70\t71\t72\t73\t74\t75\t76\t77\t78\t79\t80\t81\t82\t83\t84\t85\t86\t87\t88\t89\t90\t91\t92\t93\t94\t95\t96\t97\t98\t99\t100\t"
     ]
    }
   ],
   "source": [
    "for i in range(1,101,1):\n",
    "    print(i,end='\\t')"
   ]
  },
  {
   "cell_type": "code",
   "execution_count": 6,
   "id": "ad5cb203",
   "metadata": {
    "collapsed": true
   },
   "outputs": [
    {
     "name": "stdout",
     "output_type": "stream",
     "text": [
      "0\t1\t2\t3\t4\t5\t6\t7\t8\t9\t10\t11\t12\t13\t14\t15\t16\t17\t18\t19\t20\t21\t22\t23\t24\t25\t26\t27\t28\t29\t30\t31\t32\t33\t34\t35\t36\t37\t38\t39\t40\t41\t42\t43\t44\t45\t46\t47\t48\t49\t50\t51\t52\t53\t54\t55\t56\t57\t58\t59\t60\t61\t62\t63\t64\t65\t66\t67\t68\t69\t70\t71\t72\t73\t74\t75\t76\t77\t78\t79\t80\t81\t82\t83\t84\t85\t86\t87\t88\t89\t90\t91\t92\t93\t94\t95\t96\t97\t98\t99\t100\t"
     ]
    }
   ],
   "source": [
    "for i in range(101):\n",
    "    print(i,end='\\t')"
   ]
  },
  {
   "cell_type": "code",
   "execution_count": 7,
   "id": "811bed2e",
   "metadata": {
    "collapsed": true
   },
   "outputs": [
    {
     "name": "stdout",
     "output_type": "stream",
     "text": [
      "1\t3\t5\t7\t9\t11\t13\t15\t17\t19\t21\t23\t25\t27\t29\t31\t33\t35\t37\t39\t41\t43\t45\t47\t49\t51\t53\t55\t57\t59\t61\t63\t65\t67\t69\t71\t73\t75\t77\t79\t81\t83\t85\t87\t89\t91\t93\t95\t97\t99\t"
     ]
    }
   ],
   "source": [
    "for i in range(1,101,2):\n",
    "    print(i,end='\\t')"
   ]
  },
  {
   "cell_type": "markdown",
   "id": "29845525",
   "metadata": {},
   "source": [
    " Even numbers between 1 to 500"
   ]
  },
  {
   "cell_type": "code",
   "execution_count": 8,
   "id": "7c42a845",
   "metadata": {
    "collapsed": true
   },
   "outputs": [
    {
     "name": "stdout",
     "output_type": "stream",
     "text": [
      "2\t4\t6\t8\t10\t12\t14\t16\t18\t20\t22\t24\t26\t28\t30\t32\t34\t36\t38\t40\t42\t44\t46\t48\t50\t52\t54\t56\t58\t60\t62\t64\t66\t68\t70\t72\t74\t76\t78\t80\t82\t84\t86\t88\t90\t92\t94\t96\t98\t100\t102\t104\t106\t108\t110\t112\t114\t116\t118\t120\t122\t124\t126\t128\t130\t132\t134\t136\t138\t140\t142\t144\t146\t148\t150\t152\t154\t156\t158\t160\t162\t164\t166\t168\t170\t172\t174\t176\t178\t180\t182\t184\t186\t188\t190\t192\t194\t196\t198\t200\t202\t204\t206\t208\t210\t212\t214\t216\t218\t220\t222\t224\t226\t228\t230\t232\t234\t236\t238\t240\t242\t244\t246\t248\t250\t252\t254\t256\t258\t260\t262\t264\t266\t268\t270\t272\t274\t276\t278\t280\t282\t284\t286\t288\t290\t292\t294\t296\t298\t300\t302\t304\t306\t308\t310\t312\t314\t316\t318\t320\t322\t324\t326\t328\t330\t332\t334\t336\t338\t340\t342\t344\t346\t348\t350\t352\t354\t356\t358\t360\t362\t364\t366\t368\t370\t372\t374\t376\t378\t380\t382\t384\t386\t388\t390\t392\t394\t396\t398\t400\t402\t404\t406\t408\t410\t412\t414\t416\t418\t420\t422\t424\t426\t428\t430\t432\t434\t436\t438\t440\t442\t444\t446\t448\t450\t452\t454\t456\t458\t460\t462\t464\t466\t468\t470\t472\t474\t476\t478\t480\t482\t484\t486\t488\t490\t492\t494\t496\t498\t500\t"
     ]
    }
   ],
   "source": [
    "for num in range(1,501):\n",
    "    if num%2 ==0:\n",
    "        print(num,end='\\t')"
   ]
  },
  {
   "cell_type": "markdown",
   "id": "f53ec811",
   "metadata": {},
   "source": [
    "1. Get the leap year between the given range\n",
    "    - Starting range,ending range is given as input"
   ]
  },
  {
   "cell_type": "code",
   "execution_count": 10,
   "id": "4aed81d5",
   "metadata": {
    "collapsed": true
   },
   "outputs": [
    {
     "name": "stdout",
     "output_type": "stream",
     "text": [
      "Enter Starting range:1800\n",
      "Enter Ending range:2020\n",
      "1804\t1808\t1812\t1816\t1820\t1824\t1828\t1832\t1836\t1840\t1844\t1848\t1852\t1856\t1860\t1864\t1868\t1872\t1876\t1880\t1884\t1888\t1892\t1896\t1904\t1908\t1912\t1916\t1920\t1924\t1928\t1932\t1936\t1940\t1944\t1948\t1952\t1956\t1960\t1964\t1968\t1972\t1976\t1980\t1984\t1988\t1992\t1996\t2000\t2004\t2008\t2012\t2016\t"
     ]
    }
   ],
   "source": [
    "start=int(input(\"Enter Starting range:\"))\n",
    "endr=int(input(\"Enter Ending range:\"))\n",
    "\n",
    "for i in range(start,endr,1):\n",
    "    if (i%400 ==0) or (i%4 ==0 and i%100 !=0):\n",
    "        print(i,end='\\t')"
   ]
  },
  {
   "cell_type": "markdown",
   "id": "26c50603",
   "metadata": {},
   "source": [
    "2. Get prime numbers between given range"
   ]
  },
  {
   "cell_type": "code",
   "execution_count": 2,
   "id": "28eabd58",
   "metadata": {},
   "outputs": [
    {
     "name": "stdout",
     "output_type": "stream",
     "text": [
      "100\n",
      "200\n",
      "Prime numbers between 100 and 200 are:\n",
      "101\t103\t107\t109\t113\t127\t131\t137\t139\t149\t151\t157\t163\t167\t173\t179\t181\t191\t193\t197\t199\t"
     ]
    }
   ],
   "source": [
    "# Python program to display all the prime numbers within an interval\n",
    "\n",
    "lower = int(input())\n",
    "upper = int(input())\n",
    "\n",
    "print(\"Prime numbers between\", lower, \"and\", upper, \"are:\")\n",
    "\n",
    "for num in range(lower, upper + 1):\n",
    "   # all prime numbers are greater than 1\n",
    "   if num > 1:\n",
    "       for i in range(2, num):\n",
    "           if (num % i) == 0:\n",
    "               break\n",
    "       else:\n",
    "           print(num,end='\\t')\n"
   ]
  },
  {
   "cell_type": "markdown",
   "id": "bbfd73d1",
   "metadata": {},
   "source": [
    "3. Get n number of fibonacci series "
   ]
  },
  {
   "cell_type": "code",
   "execution_count": 5,
   "id": "b60071ba",
   "metadata": {},
   "outputs": [
    {
     "name": "stdout",
     "output_type": "stream",
     "text": [
      "How many terms? 10\n",
      "Fibonacci sequence:\n",
      "0\t1\t1\t2\t3\t5\t8\t13\t21\t34\t"
     ]
    }
   ],
   "source": [
    "#Program to display the Fibonacci sequence up to n-th term\n",
    "\n",
    "nterms = int(input(\"How many terms? \"))\n",
    "\n",
    "# first two terms\n",
    "n1, n2 = 0, 1\n",
    "count = 0\n",
    "\n",
    "# check if the number of terms is valid\n",
    "if nterms <= 0:\n",
    "   print(\"Please enter a positive integer\")\n",
    "elif nterms == 1:\n",
    "   print(\"Fibonacci sequence upto\",nterms,\":\")\n",
    "   print(n1)\n",
    "else:\n",
    "   print(\"Fibonacci sequence:\")\n",
    "   while count < nterms:\n",
    "       print(n1,end='\\t')\n",
    "       nth = n1 + n2\n",
    "       # update values\n",
    "       n1 = n2\n",
    "       n2 = nth\n",
    "       count += 1\n"
   ]
  },
  {
   "cell_type": "markdown",
   "id": "990cae32",
   "metadata": {},
   "source": [
    "## While loop"
   ]
  },
  {
   "cell_type": "code",
   "execution_count": 11,
   "id": "1d303611",
   "metadata": {
    "collapsed": true
   },
   "outputs": [
    {
     "name": "stdout",
     "output_type": "stream",
     "text": [
      "1\t2\t3\t4\t5\t6\t7\t8\t9\t10\t11\t12\t13\t14\t15\t16\t17\t18\t19\t20\t21\t22\t23\t24\t25\t26\t27\t28\t29\t30\t31\t32\t33\t34\t35\t36\t37\t38\t39\t40\t41\t42\t43\t44\t45\t46\t47\t48\t49\t50\t51\t52\t53\t54\t55\t56\t57\t58\t59\t60\t61\t62\t63\t64\t65\t66\t67\t68\t69\t70\t71\t72\t73\t74\t75\t76\t77\t78\t79\t80\t81\t82\t83\t84\t85\t86\t87\t88\t89\t90\t91\t92\t93\t94\t95\t96\t97\t98\t99\t100\t"
     ]
    }
   ],
   "source": [
    "i=1\n",
    "while(i<101):\n",
    "    print(i,end='\\t')\n",
    "    i+=1"
   ]
  },
  {
   "cell_type": "markdown",
   "id": "ceab4993",
   "metadata": {},
   "source": [
    "- Break : To terminate the execution of the loop\n",
    "- Continue : Skip the current execution of the loop"
   ]
  },
  {
   "cell_type": "markdown",
   "id": "31dab20c",
   "metadata": {},
   "source": [
    "print the numbers between 1 to 100 whenever I reached 50 stop travelling  "
   ]
  },
  {
   "cell_type": "code",
   "execution_count": 2,
   "id": "8c9e4191",
   "metadata": {},
   "outputs": [
    {
     "name": "stdout",
     "output_type": "stream",
     "text": [
      "1\t2\t3\t4\t5\t6\t7\t8\t9\t10\t11\t12\t13\t14\t15\t16\t17\t18\t19\t20\t21\t22\t23\t24\t25\t26\t27\t28\t29\t30\t31\t32\t33\t34\t35\t36\t37\t38\t39\t40\t41\t42\t43\t44\t45\t46\t47\t48\t49\t"
     ]
    }
   ],
   "source": [
    "for travel in range(1,101,1):\n",
    "    if travel==50:\n",
    "        break\n",
    "    print(travel,end='\\t')"
   ]
  },
  {
   "cell_type": "code",
   "execution_count": 1,
   "id": "ad5000b7",
   "metadata": {},
   "outputs": [
    {
     "name": "stdout",
     "output_type": "stream",
     "text": [
      "1\t3\t5\t7\t9\t11\t13\t15\t17\t19\t21\t23\t25\t27\t29\t31\t33\t35\t37\t39\t41\t43\t45\t47\t49\t"
     ]
    }
   ],
   "source": [
    "for travel in range(1,101,1):\n",
    "    if travel==50:\n",
    "        break\n",
    "    elif travel%2==0:\n",
    "        continue\n",
    "    print(travel,end='\\t')"
   ]
  },
  {
   "cell_type": "code",
   "execution_count": 2,
   "id": "7dc51562",
   "metadata": {
    "collapsed": true
   },
   "outputs": [
    {
     "name": "stdout",
     "output_type": "stream",
     "text": [
      "idh\n",
      "idh\n",
      "fuhe\n",
      "fuhe\n",
      "ghjgs\n",
      "ghjgs\n",
      "euhfjs\n",
      "euhfjs\n",
      "cancel\n",
      "Loop Terminated\n"
     ]
    }
   ],
   "source": [
    "while True:\n",
    "    inp=input()\n",
    "    if inp=='cancel':\n",
    "        print(\"Loop Terminated\")\n",
    "        break\n",
    "    print(inp)\n",
    "    "
   ]
  },
  {
   "cell_type": "markdown",
   "id": "818a0b05",
   "metadata": {},
   "source": [
    "## Strings\n",
    "\n",
    "It is a group of data enclosed in '',\"\" are called strings in python\n",
    "\n",
    "### Properties of strings\n",
    "\n",
    "- It is immutable data type\n",
    "- it is iterable"
   ]
  },
  {
   "cell_type": "code",
   "execution_count": 6,
   "id": "9c4b1742",
   "metadata": {},
   "outputs": [],
   "source": [
    "s1=\"\"\"I'm\n",
    "a\n",
    "multi \n",
    "line \n",
    "string\"\"\""
   ]
  },
  {
   "cell_type": "code",
   "execution_count": 7,
   "id": "93ca1a39",
   "metadata": {},
   "outputs": [
    {
     "name": "stdout",
     "output_type": "stream",
     "text": [
      "I\t'\tm\t\n",
      "\ta\t\n",
      "\tm\tu\tl\tt\ti\t \t\n",
      "\tl\ti\tn\te\t \t\n",
      "\ts\tt\tr\ti\tn\tg\t"
     ]
    }
   ],
   "source": [
    "for char in s1:\n",
    "    print(char,end='\\t')"
   ]
  },
  {
   "cell_type": "code",
   "execution_count": 8,
   "id": "032cb600",
   "metadata": {},
   "outputs": [],
   "source": [
    "s2=\"\"\"Python is an interpreted high-level general-purpose programming language. Python's design philosophy emphasizes code readability with its notable use of significant indentation. Wikipedia\n",
    "Developer: Python Software Foundation\n",
    "Stable release: 3.9.5 / 3 May 2021; 19 days ago\n",
    "Preview release: 3.10.0b1 / 3 May 2021; 19 days ago\n",
    "Typing discipline: Duck, dynamic, strong typing; gradual (since 3.5, but ignored in CPython)\n",
    "First appeared: February 1991; 30 years ago\n",
    "Paradigm: Multi-paradigm: object-oriented, procedural (imperative), functional, structured, reflective\n",
    "\n",
    "\"\"\""
   ]
  },
  {
   "cell_type": "code",
   "execution_count": 9,
   "id": "d64d261e",
   "metadata": {
    "collapsed": true
   },
   "outputs": [
    {
     "name": "stdout",
     "output_type": "stream",
     "text": [
      "P\ty\tt\th\to\tn\t \ti\ts\t \ta\tn\t \ti\tn\tt\te\tr\tp\tr\te\tt\te\td\t \th\ti\tg\th\t-\tl\te\tv\te\tl\t \tg\te\tn\te\tr\ta\tl\t-\tp\tu\tr\tp\to\ts\te\t \tp\tr\to\tg\tr\ta\tm\tm\ti\tn\tg\t \tl\ta\tn\tg\tu\ta\tg\te\t.\t \tP\ty\tt\th\to\tn\t'\ts\t \td\te\ts\ti\tg\tn\t \tp\th\ti\tl\to\ts\to\tp\th\ty\t \te\tm\tp\th\ta\ts\ti\tz\te\ts\t \tc\to\td\te\t \tr\te\ta\td\ta\tb\ti\tl\ti\tt\ty\t \tw\ti\tt\th\t \ti\tt\ts\t \tn\to\tt\ta\tb\tl\te\t \tu\ts\te\t \to\tf\t \ts\ti\tg\tn\ti\tf\ti\tc\ta\tn\tt\t \ti\tn\td\te\tn\tt\ta\tt\ti\to\tn\t.\t \tW\ti\tk\ti\tp\te\td\ti\ta\t\n",
      "\tD\te\tv\te\tl\to\tp\te\tr\t:\t \tP\ty\tt\th\to\tn\t \tS\to\tf\tt\tw\ta\tr\te\t \tF\to\tu\tn\td\ta\tt\ti\to\tn\t\n",
      "\tS\tt\ta\tb\tl\te\t \tr\te\tl\te\ta\ts\te\t:\t \t3\t.\t9\t.\t5\t \t/\t \t3\t \tM\ta\ty\t \t2\t0\t2\t1\t;\t \t1\t9\t \td\ta\ty\ts\t \ta\tg\to\t\n",
      "\tP\tr\te\tv\ti\te\tw\t \tr\te\tl\te\ta\ts\te\t:\t \t3\t.\t1\t0\t.\t0\tb\t1\t \t/\t \t3\t \tM\ta\ty\t \t2\t0\t2\t1\t;\t \t1\t9\t \td\ta\ty\ts\t \ta\tg\to\t\n",
      "\tT\ty\tp\ti\tn\tg\t \td\ti\ts\tc\ti\tp\tl\ti\tn\te\t:\t \tD\tu\tc\tk\t,\t \td\ty\tn\ta\tm\ti\tc\t,\t \ts\tt\tr\to\tn\tg\t \tt\ty\tp\ti\tn\tg\t;\t \tg\tr\ta\td\tu\ta\tl\t \t(\ts\ti\tn\tc\te\t \t3\t.\t5\t,\t \tb\tu\tt\t \ti\tg\tn\to\tr\te\td\t \ti\tn\t \tC\tP\ty\tt\th\to\tn\t)\t\n",
      "\tF\ti\tr\ts\tt\t \ta\tp\tp\te\ta\tr\te\td\t:\t \tF\te\tb\tr\tu\ta\tr\ty\t \t1\t9\t9\t1\t;\t \t3\t0\t \ty\te\ta\tr\ts\t \ta\tg\to\t\n",
      "\tP\ta\tr\ta\td\ti\tg\tm\t:\t \tM\tu\tl\tt\ti\t-\tp\ta\tr\ta\td\ti\tg\tm\t:\t \to\tb\tj\te\tc\tt\t-\to\tr\ti\te\tn\tt\te\td\t,\t \tp\tr\to\tc\te\td\tu\tr\ta\tl\t \t(\ti\tm\tp\te\tr\ta\tt\ti\tv\te\t)\t,\t \tf\tu\tn\tc\tt\ti\to\tn\ta\tl\t,\t \ts\tt\tr\tu\tc\tt\tu\tr\te\td\t,\t \tr\te\tf\tl\te\tc\tt\ti\tv\te\t\n",
      "\t\n",
      "\t"
     ]
    }
   ],
   "source": [
    "for char in s2:\n",
    "    print(char,end='\\t')"
   ]
  },
  {
   "cell_type": "code",
   "execution_count": 10,
   "id": "d74997a3",
   "metadata": {},
   "outputs": [
    {
     "name": "stdout",
     "output_type": "stream",
     "text": [
      "o i a i e e e i e e e e a u o e o a i a u a e o e i i o o e a i e o e e a a i i i i o a e u e o i i i a i e a i o i i e i a e e o e o o a e o u a i o a e e e a e a a a o e i e e e a e a a a o i i i i e u a i o i a u a i e u i o e i o i a e a e e u a e a a o a a i u i a a i o e o i e e o e u a i e a i e u i o a u u e e e i e "
     ]
    }
   ],
   "source": [
    "for char in s2:\n",
    "    if char in 'aeiouAEIOU':\n",
    "        print(char,end=' ')"
   ]
  },
  {
   "cell_type": "code",
   "execution_count": 12,
   "id": "4d5d7ba3",
   "metadata": {},
   "outputs": [
    {
     "name": "stdout",
     "output_type": "stream",
     "text": [
      "Upper case vowels  0 Lower case 163 Consonants 567\n"
     ]
    }
   ],
   "source": [
    "lo=0\n",
    "uo=0\n",
    "c=0\n",
    "\n",
    "for char in s2:\n",
    "    if char in 'aeiou':\n",
    "        lo+=1\n",
    "    if char in 'AEIOU':\n",
    "        uo+=1\n",
    "    else:\n",
    "        c+=1\n",
    "print('Upper case vowels ',uo ,'Lower case',lo ,'Consonants',c )\n"
   ]
  },
  {
   "cell_type": "markdown",
   "id": "289925ad",
   "metadata": {},
   "source": [
    "## Accessing the characters from string\n",
    "\n",
    "- Indexing\n",
    "    - +ve/forward\n",
    "    - -ve/backward\n",
    "- Slicing\n",
    "    - +ve/forward\n",
    "    - -ve/backward"
   ]
  },
  {
   "cell_type": "code",
   "execution_count": 13,
   "id": "869cbceb",
   "metadata": {},
   "outputs": [
    {
     "name": "stdout",
     "output_type": "stream",
     "text": [
      "Python is an interpreted high-level general-purpose programming language. Python's design philosophy emphasizes code readability with its notable use of significant indentation. Wikipedia\n",
      "Developer: Python Software Foundation\n",
      "Stable release: 3.9.5 / 3 May 2021; 19 days ago\n",
      "Preview release: 3.10.0b1 / 3 May 2021; 19 days ago\n",
      "Typing discipline: Duck, dynamic, strong typing; gradual (since 3.5, but ignored in CPython)\n",
      "First appeared: February 1991; 30 years ago\n",
      "Paradigm: Multi-paradigm: object-oriented, procedural (imperative), functional, structured, reflective\n",
      "\n",
      "\n"
     ]
    }
   ],
   "source": [
    "print(s2)"
   ]
  },
  {
   "cell_type": "code",
   "execution_count": 14,
   "id": "6b618484",
   "metadata": {},
   "outputs": [
    {
     "name": "stdout",
     "output_type": "stream",
     "text": [
      "P\n"
     ]
    }
   ],
   "source": [
    "print(s2[0])"
   ]
  },
  {
   "cell_type": "code",
   "execution_count": 15,
   "id": "d61547d0",
   "metadata": {},
   "outputs": [
    {
     "name": "stdout",
     "output_type": "stream",
     "text": [
      "r\n"
     ]
    }
   ],
   "source": [
    "print(s2[40])"
   ]
  },
  {
   "cell_type": "code",
   "execution_count": 16,
   "id": "d408f69a",
   "metadata": {},
   "outputs": [
    {
     "name": "stdout",
     "output_type": "stream",
     "text": [
      "e\n"
     ]
    }
   ],
   "source": [
    "print(s2[-40])"
   ]
  },
  {
   "cell_type": "code",
   "execution_count": null,
   "id": "be036ce6",
   "metadata": {},
   "outputs": [],
   "source": []
  }
 ],
 "metadata": {
  "kernelspec": {
   "display_name": "Python 3",
   "language": "python",
   "name": "python3"
  },
  "language_info": {
   "codemirror_mode": {
    "name": "ipython",
    "version": 3
   },
   "file_extension": ".py",
   "mimetype": "text/x-python",
   "name": "python",
   "nbconvert_exporter": "python",
   "pygments_lexer": "ipython3",
   "version": "3.8.8"
  }
 },
 "nbformat": 4,
 "nbformat_minor": 5
}
