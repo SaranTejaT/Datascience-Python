{
 "cells": [
  {
   "cell_type": "markdown",
   "id": "86e4ca5b",
   "metadata": {},
   "source": [
    "## Objectives\n",
    "\n",
    "- Strings\n",
    "    - Slicing in python\n",
    "    - String Methods\n",
    "- Lists\n",
    "    - Accesing elements from list\n",
    "    - List methods\n",
    "- Tuples\n",
    "    - Accesing elements from tuple\n",
    "    - Tuple methods\n",
    "    "
   ]
  },
  {
   "cell_type": "markdown",
   "id": "387afe74",
   "metadata": {},
   "source": [
    "## String Slicing\n",
    "\n",
    "### Syntax:\n",
    "\n",
    "string_var[starting index,ending index]\n",
    "\n",
    "\n"
   ]
  },
  {
   "cell_type": "code",
   "execution_count": 17,
   "id": "202078c0",
   "metadata": {},
   "outputs": [],
   "source": [
    "s1=\"\"\"Python is an interpreted high-level general-purpose programming language.\n",
    "Python's design philosophy emphasizes code readability with its notable use of significant indentation.\n",
    "Its language constructs as well as its object-oriented approach aim to help programmers write clear,\n",
    "logical code for small and large-scale projects.[30]\n",
    "Python is dynamically-typed and garbage-collected. It supports multiple programming paradigms,\n",
    "including structured (particularly, procedural), object-oriented and functional programming.\n",
    "Python is often described as a \"batteries included\" language due to its comprehensive standard \n",
    "library.[31]\"\"\""
   ]
  },
  {
   "cell_type": "code",
   "execution_count": 18,
   "id": "1b885fd3",
   "metadata": {},
   "outputs": [
    {
     "name": "stdout",
     "output_type": "stream",
     "text": [
      "Python\n"
     ]
    }
   ],
   "source": [
    "print(s1[0:6])"
   ]
  },
  {
   "cell_type": "code",
   "execution_count": 19,
   "id": "8f9f2a0a",
   "metadata": {},
   "outputs": [
    {
     "name": "stdout",
     "output_type": "stream",
     "text": [
      "Python is an interpreted high-level general-purpose programming language.\n",
      "Python's design philosophy\n"
     ]
    }
   ],
   "source": [
    "print(s1[0:100])"
   ]
  },
  {
   "cell_type": "code",
   "execution_count": 20,
   "id": "890e8fa9",
   "metadata": {},
   "outputs": [
    {
     "name": "stdout",
     "output_type": "stream",
     "text": [
      "P e ] a\n"
     ]
    }
   ],
   "source": [
    "print(s1[0],s1[50],s1[-1],s1[-55])"
   ]
  },
  {
   "cell_type": "code",
   "execution_count": 21,
   "id": "8c167a39",
   "metadata": {},
   "outputs": [
    {
     "name": "stdout",
     "output_type": "stream",
     "text": [
      "s often described as a \"batteries included\" language due to its comprehensive standard \n",
      "library.[31]\n"
     ]
    }
   ],
   "source": [
    "print(s1[-100: ])"
   ]
  },
  {
   "cell_type": "code",
   "execution_count": 22,
   "id": "bf71f28e",
   "metadata": {},
   "outputs": [
    {
     "name": "stdout",
     "output_type": "stream",
     "text": [
      "Python is an in\n"
     ]
    }
   ],
   "source": [
    "print(s1[:15])"
   ]
  },
  {
   "cell_type": "markdown",
   "id": "8af8b29b",
   "metadata": {},
   "source": [
    "string_var[starting inex,ending index,step size]"
   ]
  },
  {
   "cell_type": "code",
   "execution_count": 23,
   "id": "508b7192",
   "metadata": {},
   "outputs": [
    {
     "name": "stdout",
     "output_type": "stream",
     "text": [
      "Pto s\n"
     ]
    }
   ],
   "source": [
    "print(s1[0:10:2])"
   ]
  },
  {
   "cell_type": "code",
   "execution_count": 24,
   "id": "c51c2342",
   "metadata": {},
   "outputs": [
    {
     "name": "stdout",
     "output_type": "stream",
     "text": [
      "bl rdaseinhrmcsio u gunl\"eucisietb  adbrsdntos otP.nmagr aotnfdadter-cjo,lrdcr yrlcta(drtut ndln\n",
      "sgdrpgimropeptu topst dtelceargdadptylcmnds otP]3.teopeaserldalasrfeo aio\n",
      "receiwsemroppe tmaharp enioteb t ale ascrso gunlsI.otten ncfni oeuebtnsihi tlbde dcszshm hooipnie 'otP.gunlgimropeorplrnglvlhi eepen as otP\n"
     ]
    }
   ],
   "source": [
    "print(s1[-10: :-2])"
   ]
  },
  {
   "cell_type": "code",
   "execution_count": 25,
   "id": "0070f83a",
   "metadata": {},
   "outputs": [
    {
     "name": "stdout",
     "output_type": "stream",
     "text": [
      "bay[1\n"
     ]
    }
   ],
   "source": [
    "print(s1[-10: :2])"
   ]
  },
  {
   "cell_type": "code",
   "execution_count": 26,
   "id": "4c462f5e",
   "metadata": {},
   "outputs": [
    {
     "name": "stdout",
     "output_type": "stream",
     "text": [
      "]13[.yrarbil\n",
      " dradnats evisneherpmoc sti ot eud egaugnal \"dedulcni seirettab\" a sa debircsed netfo si nohtyP\n",
      ".gnimmargorp lanoitcnuf dna detneiro-tcejbo ,)larudecorp ,ylralucitrap( derutcurts gnidulcni\n",
      ",smgidarap gnimmargorp elpitlum stroppus tI .detcelloc-egabrag dna depyt-yllacimanyd si nohtyP\n",
      "]03[.stcejorp elacs-egral dna llams rof edoc lacigol\n",
      ",raelc etirw sremmargorp pleh ot mia hcaorppa detneiro-tcejbo sti sa llew sa stcurtsnoc egaugnal stI\n",
      ".noitatnedni tnacifingis fo esu elbaton sti htiw ytilibadaer edoc sezisahpme yhposolihp ngised s'nohtyP\n",
      ".egaugnal gnimmargorp esoprup-lareneg level-hgih deterpretni na si nohtyP\n"
     ]
    }
   ],
   "source": [
    "print(s1[::-1])"
   ]
  },
  {
   "cell_type": "code",
   "execution_count": 27,
   "id": "faa17195",
   "metadata": {},
   "outputs": [
    {
     "name": "stdout",
     "output_type": "stream",
     "text": [
      "]3.rri\n",
      "dant vseepo t tedeaga ddln erta\"as eice ef inhy\n",
      "gimroplnicu n enioteb )aueop,lauirp eucrsgiuci,miaa nmagr lilmsrpu I.eclo-gba n ey-laiay inhy\n",
      "0[scjr lc-ga n lm o dclcgl,al tr rmagr lho i copadter-cjosis lws tutnceaga t\n",
      "nianditaiigsf s lao t twyiiaareo eiapeypslh gsdsnhy\n",
      "eaga nmagr spu-aee ee-ghdtrrtin inhy\n"
     ]
    }
   ],
   "source": [
    "print(s1[::-2])"
   ]
  },
  {
   "cell_type": "code",
   "execution_count": 28,
   "id": "0000b151",
   "metadata": {},
   "outputs": [
    {
     "name": "stdout",
     "output_type": "stream",
     "text": [
      "Python is an interpreted high-level general-purpose programming language.\n",
      "Python's design philosophy emphasizes code readability with its notable use of significant indentation.\n",
      "Its language constructs as well as its object-oriented approach aim to help programmers write clear,\n",
      "logical code for small and large-scale projects.[30]\n",
      "Python is dynamically-typed and garbage-collected. It supports multiple programming paradigms,\n",
      "including structured (particularly, procedural), object-oriented and functional programming.\n",
      "Python is often described as a \"batteries included\" language due to its comprehensive standard \n",
      "library.[31]\n"
     ]
    }
   ],
   "source": [
    "print(s1[::1])"
   ]
  },
  {
   "cell_type": "code",
   "execution_count": 29,
   "id": "a561b3d6",
   "metadata": {},
   "outputs": [
    {
     "name": "stdout",
     "output_type": "stream",
     "text": [
      "Pto sa nepee ihlvlgnrlproepormiglnug.Pto' einpiooh mhszscd edblt ihisntbeueo infcn netto.Islnug osrcsa ela t betoine prahamt eppormeswiecer\n",
      "oia oefrsaladlresaepoet.3]Pto sdnmclytpdadgraecletd tspot utpepormigprdgs\n",
      "nldn tutrd(atclry rcdrl,ojc-retdadfntoa rgamn.Pto sotndsrbda  bteisicue\"lnug u oiscmrhniesadr lbay[1\n"
     ]
    }
   ],
   "source": [
    "print(s1[::2])"
   ]
  },
  {
   "cell_type": "markdown",
   "id": "1a2d0eb1",
   "metadata": {},
   "source": [
    "## String Methods"
   ]
  },
  {
   "cell_type": "code",
   "execution_count": 31,
   "id": "aac06a33",
   "metadata": {},
   "outputs": [
    {
     "name": "stdout",
     "output_type": "stream",
     "text": [
      "APSSDC TRAINING PROGRAM\n"
     ]
    }
   ],
   "source": [
    "s=\"Apssdc Training Program\"\n",
    "\n",
    "print(s.upper())"
   ]
  },
  {
   "cell_type": "code",
   "execution_count": 33,
   "id": "2376016b",
   "metadata": {},
   "outputs": [
    {
     "name": "stdout",
     "output_type": "stream",
     "text": [
      "apssdc training program\n"
     ]
    }
   ],
   "source": [
    "print(s.lower())"
   ]
  },
  {
   "cell_type": "code",
   "execution_count": 34,
   "id": "c9d4d605",
   "metadata": {},
   "outputs": [
    {
     "name": "stdout",
     "output_type": "stream",
     "text": [
      "aPSSDC tRAINING pROGRAM\n"
     ]
    }
   ],
   "source": [
    "print(s.swapcase())"
   ]
  },
  {
   "cell_type": "code",
   "execution_count": 36,
   "id": "9ce7b840",
   "metadata": {},
   "outputs": [
    {
     "name": "stdout",
     "output_type": "stream",
     "text": [
      "True False\n",
      "False True\n"
     ]
    }
   ],
   "source": [
    "sa=\"APSSDC\"\n",
    "se=\"python\"\n",
    "si=\"7095821816\"\n",
    "\n",
    "print(sa.isupper(),se.isupper())\n",
    "print(sa.islower(),se.islower())"
   ]
  },
  {
   "cell_type": "code",
   "execution_count": 37,
   "id": "db538126",
   "metadata": {},
   "outputs": [
    {
     "name": "stdout",
     "output_type": "stream",
     "text": [
      "True\n"
     ]
    }
   ],
   "source": [
    "print(si.isdigit())"
   ]
  },
  {
   "cell_type": "markdown",
   "id": "f5229c7b",
   "metadata": {},
   "source": [
    "## Validating Indian Mobile number\n",
    "\n",
    "- +91, 0 ->\n",
    "- 10 digits -> len()\n",
    "- 9,8,7,6\n"
   ]
  },
  {
   "cell_type": "code",
   "execution_count": 1,
   "id": "84f00713",
   "metadata": {},
   "outputs": [
    {
     "name": "stdout",
     "output_type": "stream",
     "text": [
      "+917095821816 is not valid Mobile number\n"
     ]
    }
   ],
   "source": [
    "n1=\"+917095821816\"\n",
    "n2=\"7095821816\"\n",
    "n3=\"+91709582181\"\n",
    "n4=\"+7095821816\"\n",
    "n5=\"+915332184762\"\n",
    "\n",
    "if n1[0] == '+':\n",
    "    if n1[1:3] == '91' and len(n1[3:]) == 10 and n1[3] in '9876' and n1.isdigit():\n",
    "        print(n1,\"is a valid Indian Mobile number\")\n",
    "    else:\n",
    "        print(n1,\"is not valid Mobile number\")\n",
    "elif len(n1) == 10 and n1[0] in '9876':\n",
    "    print(n1,\"is a valid Indian Mobile number\")\n",
    "else:\n",
    "    print(n1,\"is not valid Mobile number\")\n"
   ]
  },
  {
   "cell_type": "code",
   "execution_count": 2,
   "id": "1b977a26",
   "metadata": {},
   "outputs": [
    {
     "name": "stdout",
     "output_type": "stream",
     "text": [
      "True\n"
     ]
    }
   ],
   "source": [
    "rollNo = \"182U1A04G4\"\n",
    "print(rollNo.startswith('18'))"
   ]
  },
  {
   "cell_type": "code",
   "execution_count": 1,
   "id": "f8686436",
   "metadata": {},
   "outputs": [],
   "source": [
    "s=\"\"\"Python is an interpreted high-level general-purpose programming language. Python's design philosophy emphasizes code readability with its notable use of significant indentation. Wikipedia\n",
    "Developer: Python Software Foundation\n",
    "Stable release: 3.9.5 / 3 May 2021; 19 days ago\n",
    "Preview release: 3.10.0b1 / 3 May 2021; 19 days ago\n",
    "Typing discipline: Duck, dynamic, strong typing; gradual (since 3.5, but ignored in CPython)\n",
    "First appeared: February 1991; 30 years ago\n",
    "Paradigm: Multi-paradigm: object-oriented, procedural (imperative), functional, structured, reflective\n",
    "\"\"\""
   ]
  },
  {
   "cell_type": "code",
   "execution_count": 3,
   "id": "9d4b5af3",
   "metadata": {},
   "outputs": [
    {
     "name": "stdout",
     "output_type": "stream",
     "text": [
      "3\t9\t5\t3\t2\t0\t2\t1\t1\t9\t3\t1\t0\t0\t1\t3\t2\t0\t2\t1\t1\t9\t3\t5\t1\t9\t9\t1\t3\t0\t"
     ]
    }
   ],
   "source": [
    "for char in s:\n",
    "    if char.isdigit():\n",
    "        print(char,end='\\t')"
   ]
  },
  {
   "cell_type": "code",
   "execution_count": 4,
   "id": "a9e01fb7",
   "metadata": {},
   "outputs": [
    {
     "name": "stdout",
     "output_type": "stream",
     "text": [
      "P\ty\tt\th\to\tn\ti\ts\ta\tn\ti\tn\tt\te\tr\tp\tr\te\tt\te\td\th\ti\tg\th\tl\te\tv\te\tl\tg\te\tn\te\tr\ta\tl\tp\tu\tr\tp\to\ts\te\tp\tr\to\tg\tr\ta\tm\tm\ti\tn\tg\tl\ta\tn\tg\tu\ta\tg\te\tP\ty\tt\th\to\tn\ts\td\te\ts\ti\tg\tn\tp\th\ti\tl\to\ts\to\tp\th\ty\te\tm\tp\th\ta\ts\ti\tz\te\ts\tc\to\td\te\tr\te\ta\td\ta\tb\ti\tl\ti\tt\ty\tw\ti\tt\th\ti\tt\ts\tn\to\tt\ta\tb\tl\te\tu\ts\te\to\tf\ts\ti\tg\tn\ti\tf\ti\tc\ta\tn\tt\ti\tn\td\te\tn\tt\ta\tt\ti\to\tn\tW\ti\tk\ti\tp\te\td\ti\ta\tD\te\tv\te\tl\to\tp\te\tr\tP\ty\tt\th\to\tn\tS\to\tf\tt\tw\ta\tr\te\tF\to\tu\tn\td\ta\tt\ti\to\tn\tS\tt\ta\tb\tl\te\tr\te\tl\te\ta\ts\te\tM\ta\ty\td\ta\ty\ts\ta\tg\to\tP\tr\te\tv\ti\te\tw\tr\te\tl\te\ta\ts\te\tb\tM\ta\ty\td\ta\ty\ts\ta\tg\to\tT\ty\tp\ti\tn\tg\td\ti\ts\tc\ti\tp\tl\ti\tn\te\tD\tu\tc\tk\td\ty\tn\ta\tm\ti\tc\ts\tt\tr\to\tn\tg\tt\ty\tp\ti\tn\tg\tg\tr\ta\td\tu\ta\tl\ts\ti\tn\tc\te\tb\tu\tt\ti\tg\tn\to\tr\te\td\ti\tn\tC\tP\ty\tt\th\to\tn\tF\ti\tr\ts\tt\ta\tp\tp\te\ta\tr\te\td\tF\te\tb\tr\tu\ta\tr\ty\ty\te\ta\tr\ts\ta\tg\to\tP\ta\tr\ta\td\ti\tg\tm\tM\tu\tl\tt\ti\tp\ta\tr\ta\td\ti\tg\tm\to\tb\tj\te\tc\tt\to\tr\ti\te\tn\tt\te\td\tp\tr\to\tc\te\td\tu\tr\ta\tl\ti\tm\tp\te\tr\ta\tt\ti\tv\te\tf\tu\tn\tc\tt\ti\to\tn\ta\tl\ts\tt\tr\tu\tc\tt\tu\tr\te\td\tr\te\tf\tl\te\tc\tt\ti\tv\te\t"
     ]
    }
   ],
   "source": [
    "for char in s:\n",
    "    if char.isalpha():\n",
    "        print(char,end='\\t')"
   ]
  },
  {
   "cell_type": "markdown",
   "id": "c9e96c13",
   "metadata": {},
   "source": [
    "## Problems\n",
    "\n",
    "1. Sum of the digits in the String"
   ]
  },
  {
   "cell_type": "code",
   "execution_count": 5,
   "id": "2435d6e4",
   "metadata": {},
   "outputs": [
    {
     "name": "stdout",
     "output_type": "stream",
     "text": [
      "89\n"
     ]
    }
   ],
   "source": [
    "sum_all=0\n",
    "for char in s:\n",
    "    if char.isdigit():\n",
    "        sum_all += int(char)\n",
    "print(sum_all)"
   ]
  },
  {
   "cell_type": "markdown",
   "id": "85ad2bb7",
   "metadata": {},
   "source": [
    "2. Sum of even digits and odd digits in the String"
   ]
  },
  {
   "cell_type": "code",
   "execution_count": 6,
   "id": "0be93ffc",
   "metadata": {},
   "outputs": [
    {
     "name": "stdout",
     "output_type": "stream",
     "text": [
      "8\n",
      "81\n"
     ]
    }
   ],
   "source": [
    "sum_even=0\n",
    "sum_odd=0\n",
    "for char in s:\n",
    "    if char.isdigit():\n",
    "        if int(char)%2 == 0:\n",
    "            sum_even += int(char)\n",
    "        else:\n",
    "            sum_odd += int(char)\n",
    "print(sum_even)\n",
    "print(sum_odd)"
   ]
  },
  {
   "cell_type": "code",
   "execution_count": 19,
   "id": "b35196ee",
   "metadata": {},
   "outputs": [
    {
     "name": "stdout",
     "output_type": "stream",
     "text": [
      "anilkumar\n",
      "gmail\n",
      "True\n",
      "5\n",
      "12\n",
      "2\n",
      "1\n"
     ]
    }
   ],
   "source": [
    "email1 = \"anilkumar@apssdc.in\"\n",
    "email2 = \"anil@gmail.com\"\n",
    "email3 = \"swamy@apssdc@in\"\n",
    "\n",
    "print(email1[0:email1.index('@')])\n",
    "print(email2[email2.index('@')+1:email2.index('.')])\n",
    "print(email2.endswith('com'))\n",
    "print(email3.index('@'))\n",
    "print(email3.index('@',6))\n",
    "print(email3.count('@'))\n",
    "print(email1.count('ss'))"
   ]
  },
  {
   "cell_type": "code",
   "execution_count": 22,
   "id": "601e3657",
   "metadata": {},
   "outputs": [
    {
     "name": "stdout",
     "output_type": "stream",
     "text": [
      "Apssdc Python++++\n",
      "++++Apssdc Python\n",
      "Apssdc Python\n"
     ]
    }
   ],
   "source": [
    "s2= \"++++Apssdc Python++++\"\n",
    "print(s2.lstrip('+'))\n",
    "print(s2.rstrip('+'))\n",
    "print(s2.strip('+'))"
   ]
  },
  {
   "cell_type": "code",
   "execution_count": 24,
   "id": "46652f60",
   "metadata": {},
   "outputs": [
    {
     "name": "stdout",
     "output_type": "stream",
     "text": [
      "Cleaned data(((((([[[[[{{{{{{}}}}}}]]]]]))))))\n",
      "((((([[[{{{{{{}}}]]]]))))Cleaned data\n",
      "Cleaned data\n"
     ]
    }
   ],
   "source": [
    "s3 = \"((((([[[{{{{{{}}}]]]]))))Cleaned data(((((([[[[[{{{{{{}}}}}}]]]]]))))))\"\n",
    "print(s3.lstrip('([{}])'))\n",
    "print(s3.rstrip('([{}])'))\n",
    "print(s3.strip('([{}])'))"
   ]
  },
  {
   "cell_type": "code",
   "execution_count": 7,
   "id": "9bd390b0",
   "metadata": {},
   "outputs": [
    {
     "name": "stdout",
     "output_type": "stream",
     "text": [
      "Python is an interpreted high-level general-purpose programming language. Python's design philosophy emphasizes code readability with its notable use of significant indentation. Wikipedia\n",
      "Developer: Python Software Foundation\n",
      "Stable release: 3.9.5 / 3 May 2021; 19 days ago\n",
      "Preview release: 3.10.0b1 / 3 May 2021; 19 days ago\n",
      "Typing discipline: Duck, dynamic, strong typing; gradual (since 3.5, but ignored in CPython)\n",
      "First appeared: February 1991; 30 years ago\n",
      "Paradigm: Multi-paradigm: object-oriented, procedural (imperative), functional, structured, reflective\n",
      "\n"
     ]
    }
   ],
   "source": [
    "print(s)"
   ]
  },
  {
   "cell_type": "code",
   "execution_count": 26,
   "id": "f1c54326",
   "metadata": {},
   "outputs": [
    {
     "name": "stdout",
     "output_type": "stream",
     "text": [
      "P\ty\tt\th\to\tn\t \ti\ts\t \ta\tn\t \ti\tn\tt\te\tr\tp\tr\te\tt\te\td\t \th\ti\tg\th\t-\tl\te\tv\te\tl\t \tg\te\tn\te\tr\ta\tl\t-\tp\tu\tr\tp\to\ts\te\t \tp\tr\to\tg\tr\ta\tm\tm\ti\tn\tg\t \tl\ta\tn\tg\tu\ta\tg\te\t.\t \tP\ty\tt\th\to\tn\t'\ts\t \td\te\ts\ti\tg\tn\t \tp\th\ti\tl\to\ts\to\tp\th\ty\t \te\tm\tp\th\ta\ts\ti\tz\te\ts\t \tc\to\td\te\t \tr\te\ta\td\ta\tb\ti\tl\ti\tt\ty\t \tw\ti\tt\th\t \ti\tt\ts\t \tn\to\tt\ta\tb\tl\te\t \tu\ts\te\t \to\tf\t \ts\ti\tg\tn\ti\tf\ti\tc\ta\tn\tt\t \ti\tn\td\te\tn\tt\ta\tt\ti\to\tn\t.\t \tW\ti\tk\ti\tp\te\td\ti\ta\t\n",
      "\tD\te\tv\te\tl\to\tp\te\tr\t:\t \tP\ty\tt\th\to\tn\t \tS\to\tf\tt\tw\ta\tr\te\t \tF\to\tu\tn\td\ta\tt\ti\to\tn\t\n",
      "\tS\tt\ta\tb\tl\te\t \tr\te\tl\te\ta\ts\te\t:\t \t3\t.\t9\t.\t5\t \t/\t \t3\t \tM\ta\ty\t \t2\t0\t2\t1\t;\t \t1\t9\t \td\ta\ty\ts\t \ta\tg\to\t\n",
      "\tP\tr\te\tv\ti\te\tw\t \tr\te\tl\te\ta\ts\te\t:\t \t3\t.\t1\t0\t.\t0\tb\t1\t \t/\t \t3\t \tM\ta\ty\t \t2\t0\t2\t1\t;\t \t1\t9\t \td\ta\ty\ts\t \ta\tg\to\t\n",
      "\tT\ty\tp\ti\tn\tg\t \td\ti\ts\tc\ti\tp\tl\ti\tn\te\t:\t \tD\tu\tc\tk\t,\t \td\ty\tn\ta\tm\ti\tc\t,\t \ts\tt\tr\to\tn\tg\t \tt\ty\tp\ti\tn\tg\t;\t \tg\tr\ta\td\tu\ta\tl\t \t(\ts\ti\tn\tc\te\t \t3\t.\t5\t,\t \tb\tu\tt\t \ti\tg\tn\to\tr\te\td\t \ti\tn\t \tC\tP\ty\tt\th\to\tn\t)\t\n",
      "\tF\ti\tr\ts\tt\t \ta\tp\tp\te\ta\tr\te\td\t:\t \tF\te\tb\tr\tu\ta\tr\ty\t \t1\t9\t9\t1\t;\t \t3\t0\t \ty\te\ta\tr\ts\t \ta\tg\to\t\n",
      "\tP\ta\tr\ta\td\ti\tg\tm\t:\t \tM\tu\tl\tt\ti\t-\tp\ta\tr\ta\td\ti\tg\tm\t:\t \to\tb\tj\te\tc\tt\t-\to\tr\ti\te\tn\tt\te\td\t,\t \tp\tr\to\tc\te\td\tu\tr\ta\tl\t \t(\ti\tm\tp\te\tr\ta\tt\ti\tv\te\t)\t,\t \tf\tu\tn\tc\tt\ti\to\tn\ta\tl\t,\t \ts\tt\tr\tu\tc\tt\tu\tr\te\td\t,\t \tr\te\tf\tl\te\tc\tt\ti\tv\te\t\n",
      "\t\n",
      "\t"
     ]
    }
   ],
   "source": [
    "for char in s:\n",
    "    print(char,end='\\t')"
   ]
  },
  {
   "cell_type": "code",
   "execution_count": 27,
   "id": "edc70658",
   "metadata": {},
   "outputs": [
    {
     "name": "stdout",
     "output_type": "stream",
     "text": [
      "o\ti\ta\ti\te\te\te\ti\te\te\te\te\ta\tu\to\te\to\ta\ti\ta\tu\ta\te\to\te\ti\ti\to\to\te\ta\ti\te\to\te\te\ta\ta\ti\ti\ti\ti\to\ta\te\tu\te\to\ti\ti\ti\ta\ti\te\ta\ti\to\ti\ti\te\ti\ta\te\te\to\te\to\to\ta\te\to\tu\ta\ti\to\ta\te\te\te\ta\te\ta\ta\ta\to\te\ti\te\te\te\ta\te\ta\ta\ta\to\ti\ti\ti\ti\te\tu\ta\ti\to\ti\ta\tu\ta\ti\te\tu\ti\to\te\ti\to\ti\ta\te\ta\te\te\tu\ta\te\ta\ta\to\ta\ta\ti\tu\ti\ta\ta\ti\to\te\to\ti\te\te\to\te\tu\ta\ti\te\ta\ti\te\tu\ti\to\ta\tu\tu\te\te\te\ti\te\t"
     ]
    }
   ],
   "source": [
    "for char in s:\n",
    "    if char in 'aeiouAEIOU':\n",
    "        print(char,end='\\t')"
   ]
  },
  {
   "cell_type": "code",
   "execution_count": 29,
   "id": "ed3f32e8",
   "metadata": {},
   "outputs": [
    {
     "name": "stdout",
     "output_type": "stream",
     "text": [
      "Alpha : 426 Digits : 30 Special Charactrs : 111\n"
     ]
    }
   ],
   "source": [
    "ac=0\n",
    "nc=0\n",
    "sc=0\n",
    "\n",
    "for char in s:\n",
    "    if char.isalpha():\n",
    "        ac += 1\n",
    "    elif char.isdigit():\n",
    "        nc += 1\n",
    "    else:\n",
    "        sc += 1\n",
    "print('Alpha :',ac,\"Digits :\",nc,\"Special Charactrs :\",sc)\n"
   ]
  },
  {
   "cell_type": "markdown",
   "id": "22cf8df4",
   "metadata": {},
   "source": [
    "## Lists\n",
    "\n",
    "It is used to store the non-homogeneous group of valid data types in python\n",
    "\n",
    "### Properties\n",
    "\n",
    "- It is declared as [].\n",
    "- List mutable data type\n",
    "- List is an Ordered Data\n",
    "- It is Iterable"
   ]
  },
  {
   "cell_type": "code",
   "execution_count": 32,
   "id": "6c959c1c",
   "metadata": {},
   "outputs": [],
   "source": [
    "li = []\n",
    "li2 = list()"
   ]
  },
  {
   "cell_type": "code",
   "execution_count": 33,
   "id": "4a757cf2",
   "metadata": {},
   "outputs": [
    {
     "name": "stdout",
     "output_type": "stream",
     "text": [
      "<class 'list'> <class 'list'>\n"
     ]
    }
   ],
   "source": [
    "print(type(li),type(li2))"
   ]
  },
  {
   "cell_type": "code",
   "execution_count": 35,
   "id": "c3e1f69f",
   "metadata": {},
   "outputs": [
    {
     "name": "stdout",
     "output_type": "stream",
     "text": [
      "[1, 5.5, (5+7j), 'Python', [1, 2, 3, 4]]\n"
     ]
    }
   ],
   "source": [
    "li = [1 ,5.5 ,5+7j ,'Python' ,[1,2,3,4]]\n",
    "print(li)"
   ]
  },
  {
   "cell_type": "code",
   "execution_count": 36,
   "id": "d4225e4d",
   "metadata": {},
   "outputs": [
    {
     "name": "stdout",
     "output_type": "stream",
     "text": [
      "182U1A04G4\n"
     ]
    }
   ],
   "source": [
    "print(rollNo)"
   ]
  },
  {
   "cell_type": "code",
   "execution_count": 38,
   "id": "632e31a0",
   "metadata": {},
   "outputs": [
    {
     "data": {
      "text/plain": [
       "True"
      ]
     },
     "execution_count": 38,
     "metadata": {},
     "output_type": "execute_result"
    }
   ],
   "source": [
    "rollNo[-4:-2] == '04'"
   ]
  },
  {
   "cell_type": "code",
   "execution_count": 39,
   "id": "dfc4c188",
   "metadata": {},
   "outputs": [
    {
     "data": {
      "text/plain": [
       "True"
      ]
     },
     "execution_count": 39,
     "metadata": {},
     "output_type": "execute_result"
    }
   ],
   "source": [
    "rollNo[-4:-2].endswith('04')"
   ]
  },
  {
   "cell_type": "code",
   "execution_count": 8,
   "id": "5aefc4bc",
   "metadata": {},
   "outputs": [
    {
     "name": "stdout",
     "output_type": "stream",
     "text": [
      "Python is an interpreted high-level general-purpose programming language. Python's design philosophy emphasizes code readability with its notable use of significant indentation. Wikipedia\n",
      "Developer: Python Software Foundation\n",
      "Stable release: 3.9.5 / 3 May 2021; 19 days ago\n",
      "Preview release: 3.10.0b1 / 3 May 2021; 19 days ago\n",
      "Typing discipline: Duck, dynamic, strong typing; gradual (since 3.5, but ignored in CPython)\n",
      "First appeared: February 1991; 30 years ago\n",
      "Paradigm: Multi-paradigm: object-oriented, procedural (imperative), functional, structured, reflective\n",
      "\n"
     ]
    }
   ],
   "source": [
    "print(s)"
   ]
  },
  {
   "cell_type": "code",
   "execution_count": 4,
   "id": "8627f51b",
   "metadata": {},
   "outputs": [
    {
     "name": "stdout",
     "output_type": "stream",
     "text": [
      "['Python', 'is', 'an', 'interpreted', 'high-level', 'general-purpose', 'programming', 'language.', \"Python's\", 'design', 'philosophy', 'emphasizes', 'code', 'readability', 'with', 'its', 'notable', 'use', 'of', 'significant', 'indentation.', 'Wikipedia', 'Developer:', 'Python', 'Software', 'Foundation', 'Stable', 'release:', '3.9.5', '/', '3', 'May', '2021;', '19', 'days', 'ago', 'Preview', 'release:', '3.10.0b1', '/', '3', 'May', '2021;', '19', 'days', 'ago', 'Typing', 'discipline:', 'Duck,', 'dynamic,', 'strong', 'typing;', 'gradual', '(since', '3.5,', 'but', 'ignored', 'in', 'CPython)', 'First', 'appeared:', 'February', '1991;', '30', 'years', 'ago', 'Paradigm:', 'Multi-paradigm:', 'object-oriented,', 'procedural', '(imperative),', 'functional,', 'structured,', 'reflective']\n"
     ]
    }
   ],
   "source": [
    "print(s.split())"
   ]
  },
  {
   "cell_type": "code",
   "execution_count": 10,
   "id": "2128212e",
   "metadata": {},
   "outputs": [
    {
     "name": "stdout",
     "output_type": "stream",
     "text": [
      "[\"Python is an interpreted high-level general-purpose programming language. Python's design philosophy emphasizes code readability with its notable use of significant indentation. Wikipedia\", 'Developer: Python Software Foundation', 'Stable release: 3.9.5 / 3 May 2021; 19 days ago', 'Preview release: 3.10.0b1 / 3 May 2021; 19 days ago', 'Typing discipline: Duck, dynamic, strong typing; gradual (since 3.5, but ignored in CPython)', 'First appeared: February 1991; 30 years ago', 'Paradigm: Multi-paradigm: object-oriented, procedural (imperative), functional, structured, reflective', '']\n"
     ]
    }
   ],
   "source": [
    "print(s.split('\\n'))"
   ]
  },
  {
   "cell_type": "code",
   "execution_count": 11,
   "id": "e8f115c4",
   "metadata": {},
   "outputs": [
    {
     "name": "stdout",
     "output_type": "stream",
     "text": [
      "['Python is an interpreted high-level general-purpose programming language', \" Python's design philosophy emphasizes code readability with its notable use of significant indentation\", ' Wikipedia\\nDeveloper: Python Software Foundation\\nStable release: 3', '9', '5 / 3 May 2021; 19 days ago\\nPreview release: 3', '10', '0b1 / 3 May 2021; 19 days ago\\nTyping discipline: Duck, dynamic, strong typing; gradual (since 3', '5, but ignored in CPython)\\nFirst appeared: February 1991; 30 years ago\\nParadigm: Multi-paradigm: object-oriented, procedural (imperative), functional, structured, reflective\\n']\n"
     ]
    }
   ],
   "source": [
    "print(s.split('.'))\n",
    "\n",
    "sen=s.split('.')"
   ]
  },
  {
   "cell_type": "code",
   "execution_count": 12,
   "id": "661bb77b",
   "metadata": {},
   "outputs": [
    {
     "data": {
      "text/plain": [
       "\"Python is an interpreted high-level general-purpose programming language. Python's design philosophy emphasizes code readability with its notable use of significant indentation. Wikipedia\\nDeveloper: Python Software Foundation\\nStable release: 3.9.5 / 3 May 2021; 19 days ago\\nPreview release: 3.10.0b1 / 3 May 2021; 19 days ago\\nTyping discipline: Duck, dynamic, strong typing; gradual (since 3.5, but ignored in CPython)\\nFirst appeared: February 1991; 30 years ago\\nParadigm: Multi-paradigm: object-oriented, procedural (imperative), functional, structured, reflective\\n\""
      ]
     },
     "execution_count": 12,
     "metadata": {},
     "output_type": "execute_result"
    }
   ],
   "source": [
    "'.'.join(sen)"
   ]
  },
  {
   "cell_type": "code",
   "execution_count": 13,
   "id": "d9afd98d",
   "metadata": {},
   "outputs": [
    {
     "name": "stdout",
     "output_type": "stream",
     "text": [
      "Python-is-an-interpreted-high-level-general-purpose-programming-language.-Python's-design-philosophy-emphasizes-code-readability-with-its-notable-use-of-significant-indentation.-Wikipedia\n",
      "Developer:-Python-Software-Foundation\n",
      "Stable-release:-3.9.5-/-3-May-2021;-19-days-ago\n",
      "Preview-release:-3.10.0b1-/-3-May-2021;-19-days-ago\n",
      "Typing-discipline:-Duck,-dynamic,-strong-typing;-gradual-(since-3.5,-but-ignored-in-CPython)\n",
      "First-appeared:-February-1991;-30-years-ago\n",
      "Paradigm:-Multi-paradigm:-object-oriented,-procedural-(imperative),-functional,-structured,-reflective\n",
      "\n"
     ]
    }
   ],
   "source": [
    "print(s.replace(' ','-'))"
   ]
  },
  {
   "cell_type": "code",
   "execution_count": 14,
   "id": "7ab3d5a6",
   "metadata": {},
   "outputs": [
    {
     "name": "stdout",
     "output_type": "stream",
     "text": [
      "Python Is An Interpreted High-Level General-Purpose Programming Language. Python'S Design Philosophy Emphasizes Code Readability With Its Notable Use Of Significant Indentation. Wikipedia\n",
      "Developer: Python Software Foundation\n",
      "Stable Release: 3.9.5 / 3 May 2021; 19 Days Ago\n",
      "Preview Release: 3.10.0B1 / 3 May 2021; 19 Days Ago\n",
      "Typing Discipline: Duck, Dynamic, Strong Typing; Gradual (Since 3.5, But Ignored In Cpython)\n",
      "First Appeared: February 1991; 30 Years Ago\n",
      "Paradigm: Multi-Paradigm: Object-Oriented, Procedural (Imperative), Functional, Structured, Reflective\n",
      "\n"
     ]
    }
   ],
   "source": [
    "print(s.title())"
   ]
  },
  {
   "cell_type": "code",
   "execution_count": 15,
   "id": "f4991db8",
   "metadata": {},
   "outputs": [
    {
     "name": "stdout",
     "output_type": "stream",
     "text": [
      "Python is an interpreted high-level general-purpose programming language. python's design philosophy emphasizes code readability with its notable use of significant indentation. wikipedia\n",
      "developer: python software foundation\n",
      "stable release: 3.9.5 / 3 may 2021; 19 days ago\n",
      "preview release: 3.10.0b1 / 3 may 2021; 19 days ago\n",
      "typing discipline: duck, dynamic, strong typing; gradual (since 3.5, but ignored in cpython)\n",
      "first appeared: february 1991; 30 years ago\n",
      "paradigm: multi-paradigm: object-oriented, procedural (imperative), functional, structured, reflective\n",
      "\n"
     ]
    }
   ],
   "source": [
    "print(s.capitalize())"
   ]
  },
  {
   "cell_type": "code",
   "execution_count": 16,
   "id": "d1264e56",
   "metadata": {},
   "outputs": [
    {
     "name": "stdout",
     "output_type": "stream",
     "text": [
      "False\n"
     ]
    }
   ],
   "source": [
    "print(s.istitle())"
   ]
  },
  {
   "cell_type": "code",
   "execution_count": 17,
   "id": "c14654bd",
   "metadata": {},
   "outputs": [
    {
     "name": "stdout",
     "output_type": "stream",
     "text": [
      "python is an interpreted high-level general-purpose programming language. python's design philosophy emphasizes code readability with its notable use of significant indentation. wikipedia\n",
      "developer: python software foundation\n",
      "stable release: 3.9.5 / 3 may 2021; 19 days ago\n",
      "preview release: 3.10.0b1 / 3 may 2021; 19 days ago\n",
      "typing discipline: duck, dynamic, strong typing; gradual (since 3.5, but ignored in cpython)\n",
      "first appeared: february 1991; 30 years ago\n",
      "paradigm: multi-paradigm: object-oriented, procedural (imperative), functional, structured, reflective\n",
      "\n"
     ]
    }
   ],
   "source": [
    "print(s.casefold())"
   ]
  },
  {
   "cell_type": "code",
   "execution_count": 18,
   "id": "25ccf400",
   "metadata": {},
   "outputs": [
    {
     "name": "stdout",
     "output_type": "stream",
     "text": [
      "I'm certifying that Saran Teja from GIST college on python program from 01-Jun \n"
     ]
    }
   ],
   "source": [
    "cert= \"I'm certifying that {} from {} college on python program from {} \".format('Saran Teja','GIST','01-Jun')\n",
    "\n",
    "print(cert)"
   ]
  },
  {
   "cell_type": "code",
   "execution_count": 19,
   "id": "ae6ae98f",
   "metadata": {},
   "outputs": [
    {
     "name": "stdout",
     "output_type": "stream",
     "text": [
      "False\n"
     ]
    }
   ],
   "source": [
    "s3 = \"Saran Teja 4901\"\n",
    "print(s3.isalnum())"
   ]
  },
  {
   "cell_type": "code",
   "execution_count": null,
   "id": "4369f377",
   "metadata": {},
   "outputs": [],
   "source": []
  },
  {
   "cell_type": "code",
   "execution_count": null,
   "id": "c16a7628",
   "metadata": {},
   "outputs": [],
   "source": []
  }
 ],
 "metadata": {
  "kernelspec": {
   "display_name": "Python 3",
   "language": "python",
   "name": "python3"
  },
  "language_info": {
   "codemirror_mode": {
    "name": "ipython",
    "version": 3
   },
   "file_extension": ".py",
   "mimetype": "text/x-python",
   "name": "python",
   "nbconvert_exporter": "python",
   "pygments_lexer": "ipython3",
   "version": "3.8.8"
  }
 },
 "nbformat": 4,
 "nbformat_minor": 5
}
