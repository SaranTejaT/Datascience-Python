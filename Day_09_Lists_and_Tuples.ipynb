{
 "cells": [
  {
   "cell_type": "markdown",
   "id": "f6fe037c",
   "metadata": {},
   "source": [
    "## Today's Objectives\n",
    "\n",
    "- List\n",
    "    - Accessing elements from list\n",
    "        - Indexing\n",
    "        - Slicing\n",
    "    - List Methods\n",
    "- Tuple\n",
    "    - Accessing elements from Tuple\n",
    "        - Indexing\n",
    "        - Slicing\n",
    "    - Tuple Methods"
   ]
  },
  {
   "cell_type": "code",
   "execution_count": 1,
   "id": "8c1f5a59",
   "metadata": {},
   "outputs": [],
   "source": [
    "li= [1,2,5,4,8,85]"
   ]
  },
  {
   "cell_type": "code",
   "execution_count": 2,
   "id": "b52fc25f",
   "metadata": {},
   "outputs": [
    {
     "name": "stdout",
     "output_type": "stream",
     "text": [
      "6 85 1 105\n"
     ]
    }
   ],
   "source": [
    "print(len(li),max(li),min(li),sum(li))"
   ]
  },
  {
   "cell_type": "code",
   "execution_count": 3,
   "id": "4809eb2b",
   "metadata": {},
   "outputs": [
    {
     "name": "stdout",
     "output_type": "stream",
     "text": [
      "7\n"
     ]
    },
    {
     "ename": "TypeError",
     "evalue": "'<' not supported between instances of 'str' and 'int'",
     "output_type": "error",
     "traceback": [
      "\u001b[1;31m---------------------------------------------------------------------------\u001b[0m",
      "\u001b[1;31mTypeError\u001b[0m                                 Traceback (most recent call last)",
      "\u001b[1;32m<ipython-input-3-674770361693>\u001b[0m in \u001b[0;36m<module>\u001b[1;34m\u001b[0m\n\u001b[0;32m      2\u001b[0m \u001b[1;33m\u001b[0m\u001b[0m\n\u001b[0;32m      3\u001b[0m \u001b[0mprint\u001b[0m\u001b[1;33m(\u001b[0m\u001b[0mlen\u001b[0m\u001b[1;33m(\u001b[0m\u001b[0mli1\u001b[0m\u001b[1;33m)\u001b[0m\u001b[1;33m)\u001b[0m\u001b[1;33m\u001b[0m\u001b[1;33m\u001b[0m\u001b[0m\n\u001b[1;32m----> 4\u001b[1;33m \u001b[0mprint\u001b[0m\u001b[1;33m(\u001b[0m\u001b[0mmin\u001b[0m\u001b[1;33m(\u001b[0m\u001b[0mli1\u001b[0m\u001b[1;33m)\u001b[0m\u001b[1;33m)\u001b[0m\u001b[1;33m\u001b[0m\u001b[1;33m\u001b[0m\u001b[0m\n\u001b[0m",
      "\u001b[1;31mTypeError\u001b[0m: '<' not supported between instances of 'str' and 'int'"
     ]
    }
   ],
   "source": [
    "li1 = [1,2,5,4,8,85,'Python']\n",
    "\n",
    "print(len(li1))\n",
    "print(min(li1))"
   ]
  },
  {
   "cell_type": "markdown",
   "id": "4759d6b9",
   "metadata": {},
   "source": [
    "## Accessing Elements from the List\n",
    "\n",
    "- Indexing\n",
    "    - +ve\n",
    "    - -ve\n",
    "- Slicing\n",
    "    - +ve\n",
    "    - -ve"
   ]
  },
  {
   "cell_type": "code",
   "execution_count": 4,
   "id": "de16b169",
   "metadata": {},
   "outputs": [
    {
     "name": "stdout",
     "output_type": "stream",
     "text": [
      "1 85 85 5\n"
     ]
    }
   ],
   "source": [
    "print(li[0],li[5],li[-1],li[-4])"
   ]
  },
  {
   "cell_type": "markdown",
   "id": "e58229e5",
   "metadata": {},
   "source": [
    "## Syntax\n",
    "\n",
    "list_var[SI : EI]\n"
   ]
  },
  {
   "cell_type": "code",
   "execution_count": 6,
   "id": "1d8bd484",
   "metadata": {},
   "outputs": [
    {
     "name": "stdout",
     "output_type": "stream",
     "text": [
      "[1, 2, 5, 4, 8, 85]\n"
     ]
    }
   ],
   "source": [
    "print(li)"
   ]
  },
  {
   "cell_type": "code",
   "execution_count": 7,
   "id": "4773b433",
   "metadata": {},
   "outputs": [
    {
     "name": "stdout",
     "output_type": "stream",
     "text": [
      "[1, 2, 5, 4, 8] [1, 2, 5, 4, 8] [1, 2] [2, 5, 4, 8, 85]\n"
     ]
    }
   ],
   "source": [
    "print(li[0:5],li[:5],li[:2],li[1:])"
   ]
  },
  {
   "cell_type": "code",
   "execution_count": 8,
   "id": "da558fd4",
   "metadata": {},
   "outputs": [
    {
     "name": "stdout",
     "output_type": "stream",
     "text": [
      "[1] [1, 2] [1, 2] [1, 2, 5, 4, 8, 85]\n"
     ]
    }
   ],
   "source": [
    "print(li[0:1],li[:2],li[0:2],li[0:])"
   ]
  },
  {
   "cell_type": "code",
   "execution_count": 9,
   "id": "e79b4331",
   "metadata": {},
   "outputs": [
    {
     "name": "stdout",
     "output_type": "stream",
     "text": [
      "[1, 2, 5, 4] [] [8, 85] 8 [1, 2, 5]\n"
     ]
    }
   ],
   "source": [
    "print(li[:-2],li[-1:-3],li[4:],li[len(li)-2],li[:-3])"
   ]
  },
  {
   "cell_type": "code",
   "execution_count": 10,
   "id": "26ce5ed5",
   "metadata": {},
   "outputs": [
    {
     "name": "stdout",
     "output_type": "stream",
     "text": [
      "[4, 8]\n"
     ]
    }
   ],
   "source": [
    "print(li[-3:-1])"
   ]
  },
  {
   "cell_type": "code",
   "execution_count": 11,
   "id": "d89e7e4a",
   "metadata": {},
   "outputs": [
    {
     "name": "stdout",
     "output_type": "stream",
     "text": [
      "[8, 85] [4, 8, 85]\n"
     ]
    }
   ],
   "source": [
    "print(li[-2:],li[-3:])"
   ]
  },
  {
   "cell_type": "code",
   "execution_count": 12,
   "id": "d881bdb2",
   "metadata": {},
   "outputs": [
    {
     "name": "stdout",
     "output_type": "stream",
     "text": [
      "[85, 8, 4]\n"
     ]
    }
   ],
   "source": [
    "print(li[:2:-1])"
   ]
  },
  {
   "cell_type": "code",
   "execution_count": 13,
   "id": "c67a0226",
   "metadata": {},
   "outputs": [
    {
     "name": "stdout",
     "output_type": "stream",
     "text": [
      "[]\n"
     ]
    }
   ],
   "source": [
    "print(li[0:2:-1])"
   ]
  },
  {
   "cell_type": "code",
   "execution_count": 14,
   "id": "349a7a0f",
   "metadata": {},
   "outputs": [
    {
     "name": "stdout",
     "output_type": "stream",
     "text": [
      "[85, 8, 4, 5, 2, 1]\n"
     ]
    }
   ],
   "source": [
    "print(li[::-1])"
   ]
  },
  {
   "cell_type": "code",
   "execution_count": 15,
   "id": "d6f8becc",
   "metadata": {},
   "outputs": [
    {
     "name": "stdout",
     "output_type": "stream",
     "text": [
      "[1, 5, 8]\n"
     ]
    }
   ],
   "source": [
    "print(li[0::2])"
   ]
  },
  {
   "cell_type": "code",
   "execution_count": 16,
   "id": "fe2599f0",
   "metadata": {},
   "outputs": [
    {
     "name": "stdout",
     "output_type": "stream",
     "text": [
      "[1, 5, 8]\n"
     ]
    }
   ],
   "source": [
    "print(li[::2])"
   ]
  },
  {
   "cell_type": "code",
   "execution_count": 19,
   "id": "622d8f86",
   "metadata": {},
   "outputs": [
    {
     "name": "stdout",
     "output_type": "stream",
     "text": [
      "[1, 2, 5, 4, 8, 85, 'Python']\n",
      "7\n"
     ]
    }
   ],
   "source": [
    "print(li1)\n",
    "\n",
    "print(len(li1))"
   ]
  },
  {
   "cell_type": "code",
   "execution_count": 20,
   "id": "28999e59",
   "metadata": {},
   "outputs": [
    {
     "name": "stdout",
     "output_type": "stream",
     "text": [
      "Python 2\n"
     ]
    }
   ],
   "source": [
    "print(li1[-1],li1[-6])"
   ]
  },
  {
   "cell_type": "code",
   "execution_count": 21,
   "id": "22069454",
   "metadata": {},
   "outputs": [
    {
     "data": {
      "text/plain": [
       "'PYTHON'"
      ]
     },
     "execution_count": 21,
     "metadata": {},
     "output_type": "execute_result"
    }
   ],
   "source": [
    "li1[-1].upper()"
   ]
  },
  {
   "cell_type": "code",
   "execution_count": 22,
   "id": "095cccaf",
   "metadata": {},
   "outputs": [
    {
     "name": "stdout",
     "output_type": "stream",
     "text": [
      "[1, 2, 5, 4, 8] [1, 2, 5, 4, 8]\n"
     ]
    }
   ],
   "source": [
    "print(li1[0:5],li1[:5])"
   ]
  },
  {
   "cell_type": "code",
   "execution_count": 23,
   "id": "ab17ad6c",
   "metadata": {},
   "outputs": [
    {
     "name": "stdout",
     "output_type": "stream",
     "text": [
      "['Python', 85, 8, 4]\n"
     ]
    }
   ],
   "source": [
    "print(li1[:2:-1])"
   ]
  },
  {
   "cell_type": "code",
   "execution_count": 24,
   "id": "23518d70",
   "metadata": {},
   "outputs": [
    {
     "name": "stdout",
     "output_type": "stream",
     "text": [
      "['Python', 8, 5]\n"
     ]
    }
   ],
   "source": [
    "print(li1[-1:-6:-2])"
   ]
  },
  {
   "cell_type": "code",
   "execution_count": 25,
   "id": "6a95dcf5",
   "metadata": {},
   "outputs": [
    {
     "name": "stdout",
     "output_type": "stream",
     "text": [
      "['Python', 8]\n"
     ]
    }
   ],
   "source": [
    "print(li1[-1:-5:-2])"
   ]
  },
  {
   "cell_type": "code",
   "execution_count": 26,
   "id": "f71472e9",
   "metadata": {},
   "outputs": [
    {
     "name": "stdout",
     "output_type": "stream",
     "text": [
      "['Python', 85, 8, 4, 5, 2, 1]\n"
     ]
    }
   ],
   "source": [
    "print(li1[::-1])"
   ]
  },
  {
   "cell_type": "code",
   "execution_count": 27,
   "id": "f9a01a21",
   "metadata": {},
   "outputs": [
    {
     "name": "stdout",
     "output_type": "stream",
     "text": [
      "['Python', 8, 5, 1]\n"
     ]
    }
   ],
   "source": [
    "print(li1[::-2])"
   ]
  },
  {
   "cell_type": "code",
   "execution_count": 28,
   "id": "26d448ea",
   "metadata": {},
   "outputs": [
    {
     "name": "stdout",
     "output_type": "stream",
     "text": [
      "[1, 5, 8, 'Python']\n"
     ]
    }
   ],
   "source": [
    "print(li1[::2])"
   ]
  },
  {
   "cell_type": "code",
   "execution_count": 2,
   "id": "7b6185fe",
   "metadata": {},
   "outputs": [
    {
     "name": "stdout",
     "output_type": "stream",
     "text": [
      "[[1, 2, 3], [4, 5, 6], [7, 8, 9]]\n"
     ]
    }
   ],
   "source": [
    "mat = [[1,2,3],[4,5,6],[7,8,9]]\n",
    "\n",
    "print(mat)"
   ]
  },
  {
   "cell_type": "code",
   "execution_count": 31,
   "id": "aecbbfbe",
   "metadata": {},
   "outputs": [
    {
     "name": "stdout",
     "output_type": "stream",
     "text": [
      "[1, 2, 3]\n"
     ]
    }
   ],
   "source": [
    "print(mat[0])"
   ]
  },
  {
   "cell_type": "code",
   "execution_count": 32,
   "id": "6ba1776b",
   "metadata": {},
   "outputs": [
    {
     "name": "stdout",
     "output_type": "stream",
     "text": [
      "3\n"
     ]
    }
   ],
   "source": [
    "print(mat[0][2])"
   ]
  },
  {
   "cell_type": "code",
   "execution_count": 33,
   "id": "3d7ac548",
   "metadata": {},
   "outputs": [
    {
     "name": "stdout",
     "output_type": "stream",
     "text": [
      "[4, 5, 6]\n"
     ]
    }
   ],
   "source": [
    "print(mat[1][0:])"
   ]
  },
  {
   "cell_type": "code",
   "execution_count": 35,
   "id": "6619c07d",
   "metadata": {},
   "outputs": [
    {
     "name": "stdout",
     "output_type": "stream",
     "text": [
      "[7, 8]\n"
     ]
    }
   ],
   "source": [
    "print(mat[2][:2])"
   ]
  },
  {
   "cell_type": "code",
   "execution_count": 36,
   "id": "e5054d02",
   "metadata": {},
   "outputs": [
    {
     "name": "stdout",
     "output_type": "stream",
     "text": [
      "[6, 5, 4]\n"
     ]
    }
   ],
   "source": [
    "print(mat[1][::-1])"
   ]
  },
  {
   "cell_type": "code",
   "execution_count": 37,
   "id": "abb49471",
   "metadata": {},
   "outputs": [
    {
     "name": "stdout",
     "output_type": "stream",
     "text": [
      "[1, 2, 3]\n",
      "[4, 5, 6]\n",
      "[7, 8, 9]\n"
     ]
    }
   ],
   "source": [
    "for ele in mat:\n",
    "    print(ele)"
   ]
  },
  {
   "cell_type": "code",
   "execution_count": 38,
   "id": "672e43a1",
   "metadata": {},
   "outputs": [
    {
     "name": "stdout",
     "output_type": "stream",
     "text": [
      "2\n",
      "5\n",
      "8\n"
     ]
    }
   ],
   "source": [
    "for i in range(3):\n",
    "    for j in range(3):\n",
    "        if j==1:\n",
    "            print(mat[i][j])"
   ]
  },
  {
   "cell_type": "code",
   "execution_count": 39,
   "id": "19ae7b36",
   "metadata": {},
   "outputs": [
    {
     "name": "stdout",
     "output_type": "stream",
     "text": [
      "3\n",
      "6\n",
      "9\n"
     ]
    }
   ],
   "source": [
    "for ele in mat:\n",
    "    print(ele[2])"
   ]
  },
  {
   "cell_type": "code",
   "execution_count": 40,
   "id": "878d9b72",
   "metadata": {},
   "outputs": [
    {
     "name": "stdout",
     "output_type": "stream",
     "text": [
      "[[1, 2, 3], [4, 5, 6], [7, 8, 9]] [7, 8, 9]\n"
     ]
    }
   ],
   "source": [
    "print(mat[:],mat[:][2])"
   ]
  },
  {
   "cell_type": "code",
   "execution_count": 41,
   "id": "ed07e85a",
   "metadata": {},
   "outputs": [
    {
     "name": "stdout",
     "output_type": "stream",
     "text": [
      "[7, 8, 9]\n"
     ]
    }
   ],
   "source": [
    "print(mat[2])"
   ]
  },
  {
   "cell_type": "code",
   "execution_count": 3,
   "id": "7d03a65e",
   "metadata": {},
   "outputs": [
    {
     "name": "stdout",
     "output_type": "stream",
     "text": [
      "[[1, 2, 3], [4, 5, 6], [7, 8, 9]] [7, 8, 9] 8\n"
     ]
    }
   ],
   "source": [
    "print(mat[:],mat[:][2],mat[:][2][1])"
   ]
  },
  {
   "cell_type": "code",
   "execution_count": 4,
   "id": "b634329e",
   "metadata": {},
   "outputs": [
    {
     "name": "stdout",
     "output_type": "stream",
     "text": [
      "[1, 2]\n",
      "[4, 5]\n",
      "[7, 8]\n",
      "2 3\n",
      "5 6\n",
      "8 9\n"
     ]
    }
   ],
   "source": [
    "for ele in mat:\n",
    "    print(ele[:2])\n",
    "    \n",
    "for ele in mat:\n",
    "    print(ele[1],ele[2])"
   ]
  },
  {
   "cell_type": "markdown",
   "id": "1692e226",
   "metadata": {},
   "source": [
    "## List methods"
   ]
  },
  {
   "cell_type": "code",
   "execution_count": 5,
   "id": "c634513a",
   "metadata": {},
   "outputs": [],
   "source": [
    "empty=[]"
   ]
  },
  {
   "cell_type": "code",
   "execution_count": 6,
   "id": "7e473d47",
   "metadata": {},
   "outputs": [
    {
     "name": "stdout",
     "output_type": "stream",
     "text": [
      "[5, 55, [1, 2, 3]]\n"
     ]
    }
   ],
   "source": [
    "empty.append(5)\n",
    "empty.append(55)\n",
    "empty.append([1,2,3])\n",
    "\n",
    "print(empty)"
   ]
  },
  {
   "cell_type": "code",
   "execution_count": 7,
   "id": "1f7e346c",
   "metadata": {},
   "outputs": [
    {
     "name": "stdout",
     "output_type": "stream",
     "text": [
      "Enter elements to add into list:56.55\n",
      "Enter elements to add into list:fgdg\n",
      "Enter elements to add into list:dgd\n",
      "Enter elements to add into list:343\n"
     ]
    }
   ],
   "source": [
    "for i in range(4):\n",
    "    empty.append(input(\"Enter elements to add into list:\"))"
   ]
  },
  {
   "cell_type": "code",
   "execution_count": 8,
   "id": "f2bf2137",
   "metadata": {},
   "outputs": [
    {
     "name": "stdout",
     "output_type": "stream",
     "text": [
      "[5, 55, [1, 2, 3], '56.55', 'fgdg', 'dgd', '343']\n"
     ]
    }
   ],
   "source": [
    "print(empty)"
   ]
  },
  {
   "cell_type": "code",
   "execution_count": 9,
   "id": "a23b9108",
   "metadata": {},
   "outputs": [
    {
     "name": "stdout",
     "output_type": "stream",
     "text": [
      "[1, 2, 5, 4, 8, 85]\n"
     ]
    }
   ],
   "source": [
    "print(li)"
   ]
  },
  {
   "cell_type": "code",
   "execution_count": 11,
   "id": "4cb81d47",
   "metadata": {},
   "outputs": [
    {
     "name": "stdout",
     "output_type": "stream",
     "text": [
      "[5, 55, [1, 2, 3], '56.55', 'fgdg', 'dgd', '343', 1, 2, 5, 4, 8, 85, 1, 2, 5, 4, 8, 85]\n"
     ]
    }
   ],
   "source": [
    "empty.extend(li)\n",
    "\n",
    "print(empty)"
   ]
  },
  {
   "cell_type": "code",
   "execution_count": 17,
   "id": "51472299",
   "metadata": {},
   "outputs": [
    {
     "name": "stdout",
     "output_type": "stream",
     "text": [
      "[5, 55, [1, 2, 3], '56.55', 'fgdg', 'dgd', '343', 1, 2, 5, 4, 8, 85]\n"
     ]
    }
   ],
   "source": [
    "empty.pop()\n",
    "print(empty)"
   ]
  },
  {
   "cell_type": "code",
   "execution_count": 18,
   "id": "f31b5161",
   "metadata": {},
   "outputs": [
    {
     "name": "stdout",
     "output_type": "stream",
     "text": [
      "[5, 55, [1, 2, 3], '56.55', 'fgdg', 'dgd', '343', 1, 2, 5, 4, 8, 85, 1, 2, 5, 4, 8, 85]\n"
     ]
    }
   ],
   "source": [
    "print(empty + li)"
   ]
  },
  {
   "cell_type": "code",
   "execution_count": 19,
   "id": "88a14e8a",
   "metadata": {},
   "outputs": [
    {
     "name": "stdout",
     "output_type": "stream",
     "text": [
      "[5, 55, [1, 2, 3], '56.55', 'fgdg', 'dgd', '343', 1, 2, 5, 4, 8, 85, 1, 2, 5, 4, 8, 85]\n"
     ]
    }
   ],
   "source": [
    "emp2 = empty +li\n",
    "\n",
    "print(emp2)"
   ]
  },
  {
   "cell_type": "code",
   "execution_count": 20,
   "id": "4756cf82",
   "metadata": {},
   "outputs": [
    {
     "name": "stdout",
     "output_type": "stream",
     "text": [
      "[1, 2, 3]\n"
     ]
    }
   ],
   "source": [
    "print(emp2[2])"
   ]
  },
  {
   "cell_type": "code",
   "execution_count": 21,
   "id": "712ba32c",
   "metadata": {},
   "outputs": [
    {
     "name": "stdout",
     "output_type": "stream",
     "text": [
      "[5, 55, [1, 2, 5, 4, 8, 85], '56.55', 'fgdg', 'dgd', '343', 1, 2, 5, 4, 8, 85, 1, 2, 5, 4, 8, 85]\n"
     ]
    }
   ],
   "source": [
    "emp2[2] = li\n",
    "\n",
    "print(emp2)"
   ]
  },
  {
   "cell_type": "code",
   "execution_count": 22,
   "id": "45e01bf2",
   "metadata": {},
   "outputs": [
    {
     "name": "stdout",
     "output_type": "stream",
     "text": [
      "[5, 55, 1, 2, 5, 4, 8, 85, 'fgdg', 'dgd', '343', 1, 2, 5, 4, 8, 85, 1, 2, 5, 4, 8, 85]\n"
     ]
    }
   ],
   "source": [
    "emp2[2:4] = li\n",
    "\n",
    "print(emp2)"
   ]
  },
  {
   "cell_type": "code",
   "execution_count": 23,
   "id": "0b1f189a",
   "metadata": {},
   "outputs": [
    {
     "name": "stdout",
     "output_type": "stream",
     "text": [
      "[5, 10, 55, 1, 2, 5, 4, 8, 85, 'fgdg', 'dgd', '343', 1, 2, 5, 4, 8, 85, 1, 2, 5, 4, 8, 85]\n"
     ]
    }
   ],
   "source": [
    "emp2.insert(1,10)\n",
    "\n",
    "print(emp2)"
   ]
  },
  {
   "cell_type": "code",
   "execution_count": 24,
   "id": "81e12ada",
   "metadata": {},
   "outputs": [
    {
     "name": "stdout",
     "output_type": "stream",
     "text": [
      "[5, 10, 55, 1, 2, 5, 4, 8, 85, 'fgdg', 'dgd', '343', 1, 2, 5, 4, 8, 85, 1, 2, 5, 4, 8]\n"
     ]
    }
   ],
   "source": [
    "emp2.pop()\n",
    "\n",
    "print(emp2)"
   ]
  },
  {
   "cell_type": "code",
   "execution_count": 25,
   "id": "e96c468a",
   "metadata": {},
   "outputs": [
    {
     "name": "stdout",
     "output_type": "stream",
     "text": [
      "[5, 10, 1, 2, 5, 4, 8, 85, 'fgdg', 'dgd', '343', 1, 2, 5, 4, 8, 85, 1, 2, 5, 4, 8]\n"
     ]
    }
   ],
   "source": [
    "emp2.pop(2)\n",
    "\n",
    "print(emp2)"
   ]
  },
  {
   "cell_type": "code",
   "execution_count": 28,
   "id": "602e12ac",
   "metadata": {},
   "outputs": [
    {
     "ename": "ValueError",
     "evalue": "list.remove(x): x not in list",
     "output_type": "error",
     "traceback": [
      "\u001b[1;31m---------------------------------------------------------------------------\u001b[0m",
      "\u001b[1;31mValueError\u001b[0m                                Traceback (most recent call last)",
      "\u001b[1;32m<ipython-input-28-298691aed0c4>\u001b[0m in \u001b[0;36m<module>\u001b[1;34m\u001b[0m\n\u001b[1;32m----> 1\u001b[1;33m \u001b[0memp2\u001b[0m\u001b[1;33m.\u001b[0m\u001b[0mremove\u001b[0m\u001b[1;33m(\u001b[0m\u001b[1;34m'dgd'\u001b[0m\u001b[1;33m)\u001b[0m\u001b[1;33m\u001b[0m\u001b[1;33m\u001b[0m\u001b[0m\n\u001b[0m",
      "\u001b[1;31mValueError\u001b[0m: list.remove(x): x not in list"
     ]
    }
   ],
   "source": [
    "emp2.remove('dgd')"
   ]
  },
  {
   "cell_type": "code",
   "execution_count": 27,
   "id": "d6aa2f6c",
   "metadata": {},
   "outputs": [
    {
     "name": "stdout",
     "output_type": "stream",
     "text": [
      "[5, 10, 1, 2, 5, 4, 8, 85, 'fgdg', '343', 1, 2, 5, 4, 8, 85, 1, 2, 5, 4, 8]\n"
     ]
    }
   ],
   "source": [
    "print(emp2)"
   ]
  },
  {
   "cell_type": "code",
   "execution_count": 33,
   "id": "728413b7",
   "metadata": {},
   "outputs": [
    {
     "name": "stdout",
     "output_type": "stream",
     "text": [
      "5\n",
      "[5, 10, 1, 2, 5, 4, 8, 85, 'fgdg', '343', 1, 2, 5, 4, 8, 85, 1, 2]\n"
     ]
    }
   ],
   "source": [
    "print(emp2.pop())\n",
    "\n",
    "print(emp2)"
   ]
  },
  {
   "cell_type": "code",
   "execution_count": 34,
   "id": "cd93d3e8",
   "metadata": {},
   "outputs": [
    {
     "name": "stdout",
     "output_type": "stream",
     "text": [
      "[5, 10, 1, 2, 5, 4, 8, 85, 'fgdg', '343', 1, 2, 5, 4, 8, 85, 1, 2] [5, 10, 1, 2, 5, 4, 8, 85, 'fgdg', '343', 1, 2, 5, 4, 8, 85, 1, 2]\n"
     ]
    }
   ],
   "source": [
    "emp3 = emp2\n",
    "\n",
    "print(emp3,emp2)"
   ]
  },
  {
   "cell_type": "code",
   "execution_count": 35,
   "id": "acbde13e",
   "metadata": {},
   "outputs": [
    {
     "name": "stdout",
     "output_type": "stream",
     "text": [
      "2\n",
      "[5, 10, 1, 2, 5, 4, 8, 85, 'fgdg', '343', 1, 2, 5, 4, 8, 85, 1] [5, 10, 1, 2, 5, 4, 8, 85, 'fgdg', '343', 1, 2, 5, 4, 8, 85, 1]\n"
     ]
    }
   ],
   "source": [
    "print(emp3.pop())\n",
    "\n",
    "print(emp2,emp3)"
   ]
  },
  {
   "cell_type": "code",
   "execution_count": 38,
   "id": "6e9a7f64",
   "metadata": {},
   "outputs": [
    {
     "name": "stdout",
     "output_type": "stream",
     "text": [
      "[1, 85, 8, 4, 5, 2, 1, '343', 'fgdg', 85, 8, 4, 5, 2, 1, 10, 5]\n"
     ]
    }
   ],
   "source": [
    "emp2.reverse()\n",
    "\n",
    "print(emp2)"
   ]
  },
  {
   "cell_type": "code",
   "execution_count": 39,
   "id": "780eeb68",
   "metadata": {},
   "outputs": [
    {
     "name": "stdout",
     "output_type": "stream",
     "text": [
      "[1, 4, 7, 21, 33, 45]\n",
      "[45, 33, 21, 7, 4, 1]\n"
     ]
    }
   ],
   "source": [
    "li=[1,4,7,33,45,21]\n",
    "li.sort()\n",
    "print(li)\n",
    "li.sort(reverse=True)\n",
    "print(li)"
   ]
  },
  {
   "cell_type": "code",
   "execution_count": 41,
   "id": "b9bfcfe2",
   "metadata": {},
   "outputs": [
    {
     "name": "stdout",
     "output_type": "stream",
     "text": [
      "[[8, 56, 42], [23, 4, 12], [23, 5, 90]]\n",
      "[[23, 5, 90], [8, 56, 42], [23, 4, 12]]\n"
     ]
    }
   ],
   "source": [
    "mat=[[23,4,12],[8,56,42],[23,5,90]]\n",
    "mat.sort()\n",
    "print(mat)\n",
    "mat.sort(key=lambda x:x[2],reverse=True)\n",
    "print(mat)"
   ]
  },
  {
   "cell_type": "code",
   "execution_count": 43,
   "id": "c5d37035",
   "metadata": {},
   "outputs": [
    {
     "name": "stdout",
     "output_type": "stream",
     "text": [
      "[[8, 56, 42], [23, 4, 12], [23, 5, 90]]\n"
     ]
    }
   ],
   "source": [
    "print(sorted(mat))"
   ]
  },
  {
   "cell_type": "code",
   "execution_count": 44,
   "id": "0d35140e",
   "metadata": {},
   "outputs": [
    {
     "name": "stdout",
     "output_type": "stream",
     "text": [
      "[[23, 4, 12], [8, 56, 42], [23, 5, 90]]\n"
     ]
    }
   ],
   "source": [
    "print(list(reversed(mat)))"
   ]
  },
  {
   "cell_type": "code",
   "execution_count": 45,
   "id": "16094794",
   "metadata": {},
   "outputs": [
    {
     "name": "stdout",
     "output_type": "stream",
     "text": [
      "[]\n"
     ]
    }
   ],
   "source": [
    "emp3.clear()\n",
    "print(emp3)"
   ]
  },
  {
   "cell_type": "code",
   "execution_count": 46,
   "id": "2570d738",
   "metadata": {},
   "outputs": [
    {
     "ename": "NameError",
     "evalue": "name 'emp3' is not defined",
     "output_type": "error",
     "traceback": [
      "\u001b[1;31m---------------------------------------------------------------------------\u001b[0m",
      "\u001b[1;31mNameError\u001b[0m                                 Traceback (most recent call last)",
      "\u001b[1;32m<ipython-input-46-23c5dbb3fbbf>\u001b[0m in \u001b[0;36m<module>\u001b[1;34m\u001b[0m\n\u001b[0;32m      1\u001b[0m \u001b[1;32mdel\u001b[0m \u001b[0memp3\u001b[0m\u001b[1;33m\u001b[0m\u001b[1;33m\u001b[0m\u001b[0m\n\u001b[1;32m----> 2\u001b[1;33m \u001b[0mprint\u001b[0m\u001b[1;33m(\u001b[0m\u001b[0memp3\u001b[0m\u001b[1;33m)\u001b[0m\u001b[1;33m\u001b[0m\u001b[1;33m\u001b[0m\u001b[0m\n\u001b[0m",
      "\u001b[1;31mNameError\u001b[0m: name 'emp3' is not defined"
     ]
    }
   ],
   "source": [
    "del emp3\n",
    "print(emp3)"
   ]
  },
  {
   "cell_type": "markdown",
   "id": "b022bb7c",
   "metadata": {},
   "source": [
    "## Tuples\n",
    "\n",
    "Storing the group of non-homogeneous data\n",
    "\n",
    "- It is created using ()\n",
    "- Immutable\n",
    "- Iterable\n",
    "- Ordered"
   ]
  },
  {
   "cell_type": "code",
   "execution_count": 47,
   "id": "ce280fd0",
   "metadata": {},
   "outputs": [],
   "source": [
    "t=(1,2,3,4,(5,6,7),[2,4,6])"
   ]
  },
  {
   "cell_type": "code",
   "execution_count": 48,
   "id": "50ed9f03",
   "metadata": {},
   "outputs": [
    {
     "name": "stdout",
     "output_type": "stream",
     "text": [
      "1 [2, 4, 6] 3\n"
     ]
    }
   ],
   "source": [
    "print(t[0],t[-1],t[2])"
   ]
  },
  {
   "cell_type": "code",
   "execution_count": 49,
   "id": "f2291f71",
   "metadata": {},
   "outputs": [],
   "source": [
    "t1=(2,4,(1,3,5),'Python')"
   ]
  },
  {
   "cell_type": "code",
   "execution_count": 50,
   "id": "6c8a2b03",
   "metadata": {},
   "outputs": [
    {
     "name": "stdout",
     "output_type": "stream",
     "text": [
      "2 4 (1, 3, 5) Python "
     ]
    }
   ],
   "source": [
    "for ele in t1:\n",
    "    print(ele,end=' ')"
   ]
  },
  {
   "cell_type": "markdown",
   "id": "a6306098",
   "metadata": {},
   "source": [
    "## Tuple Methods"
   ]
  },
  {
   "cell_type": "code",
   "execution_count": 52,
   "id": "be714a98",
   "metadata": {},
   "outputs": [
    {
     "name": "stdout",
     "output_type": "stream",
     "text": [
      "3\n"
     ]
    }
   ],
   "source": [
    "print(t1.index('Python'))"
   ]
  },
  {
   "cell_type": "markdown",
   "id": "a7eee5a1",
   "metadata": {},
   "source": [
    "Python is an interpreted high-level general-purpose programming language. Python's design philosophy emphasizes code readability with its notable use of significant indentation. Wikipedia\n",
    "Developer: Python Software Foundation\n",
    "Stable release: 3.9.5 / 3 May 2021; 19 days ago\n",
    "Preview release: 3.10.0b1 / 3 May 2021; 19 days ago\n",
    "Typing discipline: Duck, dynamic, strong typing; gradual (since 3.5, but ignored in CPython)\n",
    "First appeared: February 1991; 30 years ago\n",
    "Paradigm: Multi-paradigm: object-oriented, procedural (imperative), functional, structured, reflective"
   ]
  },
  {
   "cell_type": "code",
   "execution_count": 1,
   "id": "bc812254",
   "metadata": {},
   "outputs": [],
   "source": [
    "s=\"\"\"Python is an interpreted high-level general-purpose programming language. Python's design philosophy emphasizes code readability with its notable use of significant indentation. Wikipedia\n",
    "Developer: Python Software Foundation\n",
    "Stable release: 3.9.5 / 3 May 2021; 19 days ago\n",
    "Preview release: 3.10.0b1 / 3 May 2021; 19 days ago\n",
    "Typing discipline: Duck, dynamic, strong typing; gradual (since 3.5, but ignored in CPython)\n",
    "First appeared: February 1991; 30 years ago\n",
    "Paradigm: Multi-paradigm: object-oriented, procedural (imperative), functional, structured, reflective\"\"\""
   ]
  },
  {
   "cell_type": "code",
   "execution_count": 2,
   "id": "540ccc72",
   "metadata": {},
   "outputs": [
    {
     "name": "stdout",
     "output_type": "stream",
     "text": [
      "['Python', 'is', 'an', 'interpreted', 'high-level', 'general-purpose', 'programming', 'language.', \"Python's\", 'design', 'philosophy', 'emphasizes', 'code', 'readability', 'with', 'its', 'notable', 'use', 'of', 'significant', 'indentation.', 'Wikipedia', 'Developer:', 'Python', 'Software', 'Foundation', 'Stable', 'release:', '3.9.5', '/', '3', 'May', '2021;', '19', 'days', 'ago', 'Preview', 'release:', '3.10.0b1', '/', '3', 'May', '2021;', '19', 'days', 'ago', 'Typing', 'discipline:', 'Duck,', 'dynamic,', 'strong', 'typing;', 'gradual', '(since', '3.5,', 'but', 'ignored', 'in', 'CPython)', 'First', 'appeared:', 'February', '1991;', '30', 'years', 'ago', 'Paradigm:', 'Multi-paradigm:', 'object-oriented,', 'procedural', '(imperative),', 'functional,', 'structured,', 'reflective']\n"
     ]
    }
   ],
   "source": [
    "print(s.split())"
   ]
  },
  {
   "cell_type": "markdown",
   "id": "91994097",
   "metadata": {},
   "source": [
    "## Tasks\n",
    "\n",
    "1. Reverse every element in list and update them in another list."
   ]
  },
  {
   "cell_type": "code",
   "execution_count": 55,
   "id": "19ec95ba",
   "metadata": {},
   "outputs": [
    {
     "name": "stdout",
     "output_type": "stream",
     "text": [
      "['nohtyP', 'si', 'na', 'deterpretni', 'level-hgih', 'esoprup-lareneg', 'gnimmargorp', '.egaugnal', \"s'nohtyP\", 'ngised', 'yhposolihp', 'sezisahpme', 'edoc', 'ytilibadaer', 'htiw', 'sti', 'elbaton', 'esu', 'fo', 'tnacifingis', '.noitatnedni', 'aidepikiW', ':repoleveD', 'nohtyP', 'erawtfoS', 'noitadnuoF', 'elbatS', ':esaeler', '5.9.3', '/', '3', 'yaM', ';1202', '91', 'syad', 'oga', 'weiverP', ':esaeler', '1b0.01.3', '/', '3', 'yaM', ';1202', '91', 'syad', 'oga', 'gnipyT', ':enilpicsid', ',kcuD', ',cimanyd', 'gnorts', ';gnipyt', 'laudarg', 'ecnis(', ',5.3', 'tub', 'derongi', 'ni', ')nohtyPC', 'tsriF', ':deraeppa', 'yraurbeF', ';1991', '03', 'sraey', 'oga', ':mgidaraP', ':mgidarap-itluM', ',detneiro-tcejbo', 'larudecorp', ',)evitarepmi(', ',lanoitcnuf', ',derutcurts', 'evitcelfer']\n"
     ]
    }
   ],
   "source": [
    "ans1=[]\n",
    "for ele in s.split():\n",
    "    sen=ans1.append(ele[::-1])\n",
    "\n",
    "print(ans1)"
   ]
  },
  {
   "cell_type": "markdown",
   "id": "7bc346de",
   "metadata": {},
   "source": [
    "2. extract lower case alpha from each element and update in another list"
   ]
  },
  {
   "cell_type": "code",
   "execution_count": 5,
   "id": "7c2811a0",
   "metadata": {},
   "outputs": [
    {
     "name": "stdout",
     "output_type": "stream",
     "text": [
      "['y', 't', 'h', 'o', 'n', 'i', 's', 'a', 'n', 'i', 'n', 't', 'e', 'r', 'p', 'r', 'e', 't', 'e', 'd', 'h', 'i', 'g', 'h', 'l', 'e', 'v', 'e', 'l', 'g', 'e', 'n', 'e', 'r', 'a', 'l', 'p', 'u', 'r', 'p', 'o', 's', 'e', 'p', 'r', 'o', 'g', 'r', 'a', 'm', 'm', 'i', 'n', 'g', 'l', 'a', 'n', 'g', 'u', 'a', 'g', 'e', 'y', 't', 'h', 'o', 'n', 's', 'd', 'e', 's', 'i', 'g', 'n', 'p', 'h', 'i', 'l', 'o', 's', 'o', 'p', 'h', 'y', 'e', 'm', 'p', 'h', 'a', 's', 'i', 'z', 'e', 's', 'c', 'o', 'd', 'e', 'r', 'e', 'a', 'd', 'a', 'b', 'i', 'l', 'i', 't', 'y', 'w', 'i', 't', 'h', 'i', 't', 's', 'n', 'o', 't', 'a', 'b', 'l', 'e', 'u', 's', 'e', 'o', 'f', 's', 'i', 'g', 'n', 'i', 'f', 'i', 'c', 'a', 'n', 't', 'i', 'n', 'd', 'e', 'n', 't', 'a', 't', 'i', 'o', 'n', 'i', 'k', 'i', 'p', 'e', 'd', 'i', 'a', 'e', 'v', 'e', 'l', 'o', 'p', 'e', 'r', 'y', 't', 'h', 'o', 'n', 'o', 'f', 't', 'w', 'a', 'r', 'e', 'o', 'u', 'n', 'd', 'a', 't', 'i', 'o', 'n', 't', 'a', 'b', 'l', 'e', 'r', 'e', 'l', 'e', 'a', 's', 'e', 'a', 'y', 'd', 'a', 'y', 's', 'a', 'g', 'o', 'r', 'e', 'v', 'i', 'e', 'w', 'r', 'e', 'l', 'e', 'a', 's', 'e', 'b', 'a', 'y', 'd', 'a', 'y', 's', 'a', 'g', 'o', 'y', 'p', 'i', 'n', 'g', 'd', 'i', 's', 'c', 'i', 'p', 'l', 'i', 'n', 'e', 'u', 'c', 'k', 'd', 'y', 'n', 'a', 'm', 'i', 'c', 's', 't', 'r', 'o', 'n', 'g', 't', 'y', 'p', 'i', 'n', 'g', 'g', 'r', 'a', 'd', 'u', 'a', 'l', 's', 'i', 'n', 'c', 'e', 'b', 'u', 't', 'i', 'g', 'n', 'o', 'r', 'e', 'd', 'i', 'n', 'y', 't', 'h', 'o', 'n', 'i', 'r', 's', 't', 'a', 'p', 'p', 'e', 'a', 'r', 'e', 'd', 'e', 'b', 'r', 'u', 'a', 'r', 'y', 'y', 'e', 'a', 'r', 's', 'a', 'g', 'o', 'a', 'r', 'a', 'd', 'i', 'g', 'm', 'u', 'l', 't', 'i', 'p', 'a', 'r', 'a', 'd', 'i', 'g', 'm', 'o', 'b', 'j', 'e', 'c', 't', 'o', 'r', 'i', 'e', 'n', 't', 'e', 'd', 'p', 'r', 'o', 'c', 'e', 'd', 'u', 'r', 'a', 'l', 'i', 'm', 'p', 'e', 'r', 'a', 't', 'i', 'v', 'e', 'f', 'u', 'n', 'c', 't', 'i', 'o', 'n', 'a', 'l', 's', 't', 'r', 'u', 'c', 't', 'u', 'r', 'e', 'd', 'r', 'e', 'f', 'l', 'e', 'c', 't', 'i', 'v', 'e']\n"
     ]
    }
   ],
   "source": [
    "ans2=[]\n",
    "for ele in s.split():\n",
    "    for char in ele:\n",
    "        if char.islower():\n",
    "            ans2.append(char[:])\n",
    "print(ans2)"
   ]
  },
  {
   "cell_type": "markdown",
   "id": "715a975f",
   "metadata": {},
   "source": [
    "3. remove special characters from element and update in another list"
   ]
  },
  {
   "cell_type": "code",
   "execution_count": 60,
   "id": "9be6602b",
   "metadata": {},
   "outputs": [
    {
     "name": "stdout",
     "output_type": "stream",
     "text": [
      "['P', 'y', 't', 'h', 'o', 'n', 'i', 's', 'a', 'n', 'i', 'n', 't', 'e', 'r', 'p', 'r', 'e', 't', 'e', 'd', 'h', 'i', 'g', 'h', 'l', 'e', 'v', 'e', 'l', 'g', 'e', 'n', 'e', 'r', 'a', 'l', 'p', 'u', 'r', 'p', 'o', 's', 'e', 'p', 'r', 'o', 'g', 'r', 'a', 'm', 'm', 'i', 'n', 'g', 'l', 'a', 'n', 'g', 'u', 'a', 'g', 'e', 'P', 'y', 't', 'h', 'o', 'n', 's', 'd', 'e', 's', 'i', 'g', 'n', 'p', 'h', 'i', 'l', 'o', 's', 'o', 'p', 'h', 'y', 'e', 'm', 'p', 'h', 'a', 's', 'i', 'z', 'e', 's', 'c', 'o', 'd', 'e', 'r', 'e', 'a', 'd', 'a', 'b', 'i', 'l', 'i', 't', 'y', 'w', 'i', 't', 'h', 'i', 't', 's', 'n', 'o', 't', 'a', 'b', 'l', 'e', 'u', 's', 'e', 'o', 'f', 's', 'i', 'g', 'n', 'i', 'f', 'i', 'c', 'a', 'n', 't', 'i', 'n', 'd', 'e', 'n', 't', 'a', 't', 'i', 'o', 'n', 'W', 'i', 'k', 'i', 'p', 'e', 'd', 'i', 'a', 'D', 'e', 'v', 'e', 'l', 'o', 'p', 'e', 'r', 'P', 'y', 't', 'h', 'o', 'n', 'S', 'o', 'f', 't', 'w', 'a', 'r', 'e', 'F', 'o', 'u', 'n', 'd', 'a', 't', 'i', 'o', 'n', 'S', 't', 'a', 'b', 'l', 'e', 'r', 'e', 'l', 'e', 'a', 's', 'e', '3', '9', '5', '3', 'M', 'a', 'y', '2', '0', '2', '1', '1', '9', 'd', 'a', 'y', 's', 'a', 'g', 'o', 'P', 'r', 'e', 'v', 'i', 'e', 'w', 'r', 'e', 'l', 'e', 'a', 's', 'e', '3', '1', '0', '0', 'b', '1', '3', 'M', 'a', 'y', '2', '0', '2', '1', '1', '9', 'd', 'a', 'y', 's', 'a', 'g', 'o', 'T', 'y', 'p', 'i', 'n', 'g', 'd', 'i', 's', 'c', 'i', 'p', 'l', 'i', 'n', 'e', 'D', 'u', 'c', 'k', 'd', 'y', 'n', 'a', 'm', 'i', 'c', 's', 't', 'r', 'o', 'n', 'g', 't', 'y', 'p', 'i', 'n', 'g', 'g', 'r', 'a', 'd', 'u', 'a', 'l', 's', 'i', 'n', 'c', 'e', '3', '5', 'b', 'u', 't', 'i', 'g', 'n', 'o', 'r', 'e', 'd', 'i', 'n', 'C', 'P', 'y', 't', 'h', 'o', 'n', 'F', 'i', 'r', 's', 't', 'a', 'p', 'p', 'e', 'a', 'r', 'e', 'd', 'F', 'e', 'b', 'r', 'u', 'a', 'r', 'y', '1', '9', '9', '1', '3', '0', 'y', 'e', 'a', 'r', 's', 'a', 'g', 'o', 'P', 'a', 'r', 'a', 'd', 'i', 'g', 'm', 'M', 'u', 'l', 't', 'i', 'p', 'a', 'r', 'a', 'd', 'i', 'g', 'm', 'o', 'b', 'j', 'e', 'c', 't', 'o', 'r', 'i', 'e', 'n', 't', 'e', 'd', 'p', 'r', 'o', 'c', 'e', 'd', 'u', 'r', 'a', 'l', 'i', 'm', 'p', 'e', 'r', 'a', 't', 'i', 'v', 'e', 'f', 'u', 'n', 'c', 't', 'i', 'o', 'n', 'a', 'l', 's', 't', 'r', 'u', 'c', 't', 'u', 'r', 'e', 'd', 'r', 'e', 'f', 'l', 'e', 'c', 't', 'i', 'v', 'e']\n"
     ]
    }
   ],
   "source": [
    "ans3=[]\n",
    "for ele in s.split():\n",
    "    for char in ele:\n",
    "        if char.isalnum():\n",
    "            ans3.append(char[:])\n",
    "print(ans3)"
   ]
  },
  {
   "cell_type": "markdown",
   "id": "4d4d9f2f",
   "metadata": {},
   "source": [
    "4. get the middle character of every element and update in another list"
   ]
  },
  {
   "cell_type": "code",
   "execution_count": 3,
   "id": "51a6abd4",
   "metadata": {},
   "outputs": [
    {
     "name": "stdout",
     "output_type": "stream",
     "text": [
      "['None', 'None', 'None', 'p', 'None', '-', 'a', 'u', 'None', 'None', 'None', 'None', 'None', 'b', 'None', 't', 'a', 's', 'None', 'f', 'None', 'p', 'None', 'None', 'None', 'None', 'None', 'None', '9', '/', '3', 'a', '2', 'None', 'None', 'g', 'v', 'None', 'None', '/', '3', 'a', '2', 'None', 'None', 'g', 'None', 'p', 'c', 'None', 'None', 'i', 'd', 'None', 'None', 'u', 'o', 'None', 'None', 'r', 'a', 'None', '9', 'None', 'a', 'g', 'd', 'a', 'None', 'None', 'a', 'i', 't', 'None']\n"
     ]
    }
   ],
   "source": [
    "ans4=[]\n",
    "for ele in s.split():\n",
    "        if len(ele) %2 != 0:\n",
    "            ans4.append(ele[len(ele)//2])\n",
    "        else:\n",
    "            ans4.append('None')\n",
    "print(ans4)"
   ]
  },
  {
   "cell_type": "code",
   "execution_count": null,
   "id": "319f0095",
   "metadata": {},
   "outputs": [],
   "source": []
  }
 ],
 "metadata": {
  "kernelspec": {
   "display_name": "Python 3",
   "language": "python",
   "name": "python3"
  },
  "language_info": {
   "codemirror_mode": {
    "name": "ipython",
    "version": 3
   },
   "file_extension": ".py",
   "mimetype": "text/x-python",
   "name": "python",
   "nbconvert_exporter": "python",
   "pygments_lexer": "ipython3",
   "version": "3.8.8"
  }
 },
 "nbformat": 4,
 "nbformat_minor": 5
}
