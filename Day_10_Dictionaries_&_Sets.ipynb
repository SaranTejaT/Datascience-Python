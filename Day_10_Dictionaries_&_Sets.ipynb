{
 "cells": [
  {
   "cell_type": "markdown",
   "id": "70fa6e69",
   "metadata": {},
   "source": [
    "## Today's Objectives\n",
    "\n",
    "- Dictionaries\n",
    "    - Acessing elements\n",
    "    - Methods\n",
    "- Sets\n",
    "    - Set methods"
   ]
  },
  {
   "cell_type": "markdown",
   "id": "1ca049a3",
   "metadata": {},
   "source": [
    "## Dictionary\n",
    "\n",
    "- Used to store non homogeneous group of data in key value pairs\n",
    "\n",
    "### Properties\n",
    "\n",
    "- Stored as Key : Value as {}\n",
    "- It is iterable\n",
    "- Ordered\n",
    "    - Python 3.6 is Unordered\n",
    "    - Python 3.6+ is Ordered\n",
    "- Key should be unique and is immutable"
   ]
  },
  {
   "cell_type": "code",
   "execution_count": 4,
   "id": "f82ae141",
   "metadata": {},
   "outputs": [
    {
     "name": "stdout",
     "output_type": "stream",
     "text": [
      "<class 'dict'> <class 'dict'>\n"
     ]
    }
   ],
   "source": [
    "d1= {}\n",
    "d2=dict()\n",
    "\n",
    "print(type(d1),type(d2))"
   ]
  },
  {
   "cell_type": "code",
   "execution_count": 5,
   "id": "8682486e",
   "metadata": {},
   "outputs": [
    {
     "name": "stdout",
     "output_type": "stream",
     "text": [
      "{'RollNo': [1, 2, 3, 4, 5]}\n"
     ]
    }
   ],
   "source": [
    "d1={'RollNo': [1,2,3,4,5]}\n",
    "\n",
    "print(d1)"
   ]
  },
  {
   "cell_type": "code",
   "execution_count": 27,
   "id": "91d6c7e3",
   "metadata": {},
   "outputs": [
    {
     "name": "stdout",
     "output_type": "stream",
     "text": [
      "{'1234567890': ['SARAN', 'Chennai', '04/09/2001', '7095821816'], '9876543210': ['Python', 'Earth', '01/01/1994', '9848876762']}\n"
     ]
    }
   ],
   "source": [
    "d1={'1234567890':['SARAN','Nellore','04/09/2001','7095821816'],'9876543210':['Python','Earth','01/01/1994','9848876762'],'1234567890':['SARAN','Chennai','04/09/2001','7095821816']}\n",
    "\n",
    "print(d1)"
   ]
  },
  {
   "cell_type": "code",
   "execution_count": 28,
   "id": "20b5a33c",
   "metadata": {},
   "outputs": [
    {
     "ename": "TypeError",
     "evalue": "unhashable type: 'list'",
     "output_type": "error",
     "traceback": [
      "\u001b[1;31m---------------------------------------------------------------------------\u001b[0m",
      "\u001b[1;31mTypeError\u001b[0m                                 Traceback (most recent call last)",
      "\u001b[1;32m<ipython-input-28-0e79ed63983c>\u001b[0m in \u001b[0;36m<module>\u001b[1;34m\u001b[0m\n\u001b[1;32m----> 1\u001b[1;33m \u001b[0md2\u001b[0m\u001b[1;33m=\u001b[0m\u001b[1;33m{\u001b[0m\u001b[1;33m[\u001b[0m\u001b[1;36m1\u001b[0m\u001b[1;33m,\u001b[0m\u001b[1;36m2\u001b[0m\u001b[1;33m,\u001b[0m\u001b[1;36m3\u001b[0m\u001b[1;33m]\u001b[0m\u001b[1;33m:\u001b[0m\u001b[1;34m'Python'\u001b[0m\u001b[1;33m}\u001b[0m\u001b[1;33m\u001b[0m\u001b[1;33m\u001b[0m\u001b[0m\n\u001b[0m",
      "\u001b[1;31mTypeError\u001b[0m: unhashable type: 'list'"
     ]
    }
   ],
   "source": [
    "d2={[1,2,3]:'Python'}"
   ]
  },
  {
   "cell_type": "code",
   "execution_count": 29,
   "id": "382b92f3",
   "metadata": {},
   "outputs": [],
   "source": [
    "d2={(1,2,3):'Python'}"
   ]
  },
  {
   "cell_type": "markdown",
   "id": "a108b8aa",
   "metadata": {},
   "source": [
    "## Accessing pairs from dict"
   ]
  },
  {
   "cell_type": "code",
   "execution_count": 31,
   "id": "ac26a75b",
   "metadata": {},
   "outputs": [
    {
     "name": "stdout",
     "output_type": "stream",
     "text": [
      "{'1234567890': ['SARAN', 'Chennai', '04/09/2001', '7095821816'], '9876543210': ['Python', 'Earth', '01/01/1994', '9848876762']}\n"
     ]
    }
   ],
   "source": [
    "print(d1)"
   ]
  },
  {
   "cell_type": "code",
   "execution_count": 32,
   "id": "825ecaa8",
   "metadata": {},
   "outputs": [
    {
     "name": "stdout",
     "output_type": "stream",
     "text": [
      "['SARAN', 'Chennai', '04/09/2001', '7095821816']\n"
     ]
    }
   ],
   "source": [
    "print(d1['1234567890'])"
   ]
  },
  {
   "cell_type": "code",
   "execution_count": 33,
   "id": "6b61558f",
   "metadata": {},
   "outputs": [
    {
     "name": "stdout",
     "output_type": "stream",
     "text": [
      "SARAN\n"
     ]
    }
   ],
   "source": [
    "print(d1['1234567890'][0])"
   ]
  },
  {
   "cell_type": "code",
   "execution_count": 35,
   "id": "7c862864",
   "metadata": {},
   "outputs": [
    {
     "name": "stdout",
     "output_type": "stream",
     "text": [
      "{'1234567890': ['Saran Teja', 'Chennai', '04/09/2001', '7095821816'], '9876543210': ['Python', 'Earth', '01/01/1994', '9848876762']}\n"
     ]
    }
   ],
   "source": [
    "d1['1234567890'][0] = 'Saran Teja'\n",
    "\n",
    "print(d1)"
   ]
  },
  {
   "cell_type": "code",
   "execution_count": 37,
   "id": "4548fb74",
   "metadata": {},
   "outputs": [
    {
     "name": "stdout",
     "output_type": "stream",
     "text": [
      "{'1234567890': ['04/09/2001', '7095821816', 'Chennai', 'Saran Teja'], '9876543210': ['Python', 'Earth', '01/01/1994', '9848876762']}\n"
     ]
    }
   ],
   "source": [
    "d1['1234567890']=sorted(d1['1234567890'])\n",
    "\n",
    "print(d1)"
   ]
  },
  {
   "cell_type": "markdown",
   "id": "7f735457",
   "metadata": {},
   "source": [
    "## Dictionary methods"
   ]
  },
  {
   "cell_type": "code",
   "execution_count": 38,
   "id": "5f25ad4f",
   "metadata": {},
   "outputs": [
    {
     "name": "stdout",
     "output_type": "stream",
     "text": [
      "{'1234567890': ['04/09/2001', '7095821816', 'Chennai', 'Saran Teja'], '9876543210': ['Python', 'Earth', '01/01/1994', '9848876762']}\n"
     ]
    }
   ],
   "source": [
    "print(d1)"
   ]
  },
  {
   "cell_type": "code",
   "execution_count": 39,
   "id": "d50682f4",
   "metadata": {},
   "outputs": [
    {
     "name": "stdout",
     "output_type": "stream",
     "text": [
      "dict_keys(['1234567890', '9876543210'])\n"
     ]
    }
   ],
   "source": [
    "print(d1.keys())"
   ]
  },
  {
   "cell_type": "code",
   "execution_count": 40,
   "id": "e20f40bd",
   "metadata": {},
   "outputs": [
    {
     "name": "stdout",
     "output_type": "stream",
     "text": [
      "dict_values([['04/09/2001', '7095821816', 'Chennai', 'Saran Teja'], ['Python', 'Earth', '01/01/1994', '9848876762']])\n"
     ]
    }
   ],
   "source": [
    "print(d1.values())"
   ]
  },
  {
   "cell_type": "code",
   "execution_count": 41,
   "id": "10eb6b49",
   "metadata": {},
   "outputs": [
    {
     "name": "stdout",
     "output_type": "stream",
     "text": [
      "dict_items([('1234567890', ['04/09/2001', '7095821816', 'Chennai', 'Saran Teja']), ('9876543210', ['Python', 'Earth', '01/01/1994', '9848876762'])])\n"
     ]
    }
   ],
   "source": [
    "print(d1.items())"
   ]
  },
  {
   "cell_type": "code",
   "execution_count": 42,
   "id": "fb3c3b4e",
   "metadata": {},
   "outputs": [
    {
     "ename": "KeyError",
     "evalue": "'123456789'",
     "output_type": "error",
     "traceback": [
      "\u001b[1;31m---------------------------------------------------------------------------\u001b[0m",
      "\u001b[1;31mKeyError\u001b[0m                                  Traceback (most recent call last)",
      "\u001b[1;32m<ipython-input-42-f54622f17d58>\u001b[0m in \u001b[0;36m<module>\u001b[1;34m\u001b[0m\n\u001b[1;32m----> 1\u001b[1;33m \u001b[0mprint\u001b[0m\u001b[1;33m(\u001b[0m\u001b[0md1\u001b[0m\u001b[1;33m[\u001b[0m\u001b[1;34m'123456789'\u001b[0m\u001b[1;33m]\u001b[0m\u001b[1;33m)\u001b[0m\u001b[1;33m\u001b[0m\u001b[1;33m\u001b[0m\u001b[0m\n\u001b[0m",
      "\u001b[1;31mKeyError\u001b[0m: '123456789'"
     ]
    }
   ],
   "source": [
    "print(d1['123456789'])"
   ]
  },
  {
   "cell_type": "code",
   "execution_count": 43,
   "id": "308f76c8",
   "metadata": {},
   "outputs": [
    {
     "data": {
      "text/plain": [
       "['04/09/2001', '7095821816', 'Chennai', 'Saran Teja']"
      ]
     },
     "execution_count": 43,
     "metadata": {},
     "output_type": "execute_result"
    }
   ],
   "source": [
    "d1.get('1234567890')"
   ]
  },
  {
   "cell_type": "code",
   "execution_count": 45,
   "id": "3d760848",
   "metadata": {},
   "outputs": [
    {
     "name": "stdout",
     "output_type": "stream",
     "text": [
      "None\n"
     ]
    }
   ],
   "source": [
    "print(d1.get('123456789'))"
   ]
  },
  {
   "cell_type": "code",
   "execution_count": 47,
   "id": "00c8d27a",
   "metadata": {},
   "outputs": [
    {
     "name": "stdout",
     "output_type": "stream",
     "text": [
      "Key not Available\n"
     ]
    }
   ],
   "source": [
    "print(d1.get('123456789','Key not Available'))"
   ]
  },
  {
   "cell_type": "code",
   "execution_count": 48,
   "id": "7a0ab5c9",
   "metadata": {},
   "outputs": [],
   "source": [
    "m21 = {'2_1':[25,55,65,77,80,60]}\n",
    "m31 = {'2_1':[35,55,65,77,80,60],'3_1':[1,2,3,4,5,6]}\n",
    "m32 = {'2_1':[50,55,65,77,80,60],'3_2':[6,5,4,3,2,1]}"
   ]
  },
  {
   "cell_type": "code",
   "execution_count": 49,
   "id": "9f1ca667",
   "metadata": {},
   "outputs": [
    {
     "name": "stdout",
     "output_type": "stream",
     "text": [
      "{'2_1': [25, 55, 65, 77, 80, 60]}\n"
     ]
    }
   ],
   "source": [
    "print(m21)"
   ]
  },
  {
   "cell_type": "code",
   "execution_count": 50,
   "id": "f1013d9a",
   "metadata": {},
   "outputs": [
    {
     "name": "stdout",
     "output_type": "stream",
     "text": [
      "{'2_1': [35, 55, 65, 77, 80, 60], '3_1': [1, 2, 3, 4, 5, 6]}\n"
     ]
    }
   ],
   "source": [
    "m21.update(m31)\n",
    "\n",
    "print(m21)"
   ]
  },
  {
   "cell_type": "code",
   "execution_count": 51,
   "id": "3c0d2da1",
   "metadata": {},
   "outputs": [
    {
     "name": "stdout",
     "output_type": "stream",
     "text": [
      "{'2_1': [50, 55, 65, 77, 80, 60], '3_1': [1, 2, 3, 4, 5, 6], '3_2': [6, 5, 4, 3, 2, 1]}\n"
     ]
    }
   ],
   "source": [
    "m21.update(m32)\n",
    "\n",
    "print(m21)"
   ]
  },
  {
   "cell_type": "code",
   "execution_count": 52,
   "id": "f0bf0676",
   "metadata": {},
   "outputs": [
    {
     "name": "stdout",
     "output_type": "stream",
     "text": [
      "{'2_1': [50, 55, 65, 77, 80, 60], '3_1': [1, 2, 3, 4, 5, 6], '3_2': [6, 5, 4, 3, 2, 1]}\n"
     ]
    }
   ],
   "source": [
    "cpy = m21.copy()\n",
    "\n",
    "print(cpy)"
   ]
  },
  {
   "cell_type": "code",
   "execution_count": 54,
   "id": "be0f424d",
   "metadata": {},
   "outputs": [
    {
     "name": "stdout",
     "output_type": "stream",
     "text": [
      "{}\n"
     ]
    }
   ],
   "source": [
    "m31.clear()\n",
    "\n",
    "print(m31)"
   ]
  },
  {
   "cell_type": "code",
   "execution_count": 55,
   "id": "a7ef62c7",
   "metadata": {},
   "outputs": [
    {
     "name": "stdout",
     "output_type": "stream",
     "text": [
      "[1, 2, 3, 4, 5, 6]\n",
      "{'2_1': [50, 55, 65, 77, 80, 60], '3_2': [6, 5, 4, 3, 2, 1]}\n"
     ]
    }
   ],
   "source": [
    "print(m21.pop('3_1'))\n",
    "print(m21)"
   ]
  },
  {
   "cell_type": "code",
   "execution_count": 56,
   "id": "6b1b2348",
   "metadata": {},
   "outputs": [
    {
     "ename": "KeyError",
     "evalue": "'3_1'",
     "output_type": "error",
     "traceback": [
      "\u001b[1;31m---------------------------------------------------------------------------\u001b[0m",
      "\u001b[1;31mKeyError\u001b[0m                                  Traceback (most recent call last)",
      "\u001b[1;32m<ipython-input-56-d7333566010c>\u001b[0m in \u001b[0;36m<module>\u001b[1;34m\u001b[0m\n\u001b[1;32m----> 1\u001b[1;33m \u001b[0mprint\u001b[0m\u001b[1;33m(\u001b[0m\u001b[0mm21\u001b[0m\u001b[1;33m.\u001b[0m\u001b[0mpop\u001b[0m\u001b[1;33m(\u001b[0m\u001b[1;34m'3_1'\u001b[0m\u001b[1;33m)\u001b[0m\u001b[1;33m)\u001b[0m\u001b[1;33m\u001b[0m\u001b[1;33m\u001b[0m\u001b[0m\n\u001b[0m",
      "\u001b[1;31mKeyError\u001b[0m: '3_1'"
     ]
    }
   ],
   "source": [
    "print(m21.pop('3_1'))"
   ]
  },
  {
   "cell_type": "code",
   "execution_count": 57,
   "id": "9edc61e0",
   "metadata": {},
   "outputs": [
    {
     "name": "stdout",
     "output_type": "stream",
     "text": [
      "{'2_1': [50, 55, 65, 77, 80, 60], '3_2': [6, 5, 4, 3, 2, 1]}\n"
     ]
    }
   ],
   "source": [
    "print(m32)"
   ]
  },
  {
   "cell_type": "code",
   "execution_count": 58,
   "id": "e088d712",
   "metadata": {},
   "outputs": [
    {
     "name": "stdout",
     "output_type": "stream",
     "text": [
      "('3_2', [6, 5, 4, 3, 2, 1])\n",
      "{'2_1': [50, 55, 65, 77, 80, 60]}\n"
     ]
    }
   ],
   "source": [
    "print(m32.popitem())\n",
    "\n",
    "print(m32)"
   ]
  },
  {
   "cell_type": "code",
   "execution_count": 59,
   "id": "61a2c7fd",
   "metadata": {},
   "outputs": [
    {
     "name": "stdout",
     "output_type": "stream",
     "text": [
      "1 2 3\n"
     ]
    }
   ],
   "source": [
    "li = [1,2,3]\n",
    "\n",
    "a,b,c = li\n",
    "\n",
    "print(a,b,c)"
   ]
  },
  {
   "cell_type": "code",
   "execution_count": 60,
   "id": "a704a0f0",
   "metadata": {},
   "outputs": [
    {
     "ename": "ValueError",
     "evalue": "too many values to unpack (expected 2)",
     "output_type": "error",
     "traceback": [
      "\u001b[1;31m---------------------------------------------------------------------------\u001b[0m",
      "\u001b[1;31mValueError\u001b[0m                                Traceback (most recent call last)",
      "\u001b[1;32m<ipython-input-60-e6b11854c742>\u001b[0m in \u001b[0;36m<module>\u001b[1;34m\u001b[0m\n\u001b[1;32m----> 1\u001b[1;33m \u001b[0ma\u001b[0m\u001b[1;33m,\u001b[0m\u001b[0mb\u001b[0m\u001b[1;33m=\u001b[0m\u001b[1;33m[\u001b[0m\u001b[1;36m1\u001b[0m\u001b[1;33m,\u001b[0m\u001b[1;36m2\u001b[0m\u001b[1;33m,\u001b[0m\u001b[1;36m3\u001b[0m\u001b[1;33m]\u001b[0m\u001b[1;33m\u001b[0m\u001b[1;33m\u001b[0m\u001b[0m\n\u001b[0m",
      "\u001b[1;31mValueError\u001b[0m: too many values to unpack (expected 2)"
     ]
    }
   ],
   "source": [
    "a,b=[1,2,3]"
   ]
  },
  {
   "cell_type": "code",
   "execution_count": 61,
   "id": "7a371c3e",
   "metadata": {},
   "outputs": [
    {
     "ename": "ValueError",
     "evalue": "not enough values to unpack (expected 3, got 2)",
     "output_type": "error",
     "traceback": [
      "\u001b[1;31m---------------------------------------------------------------------------\u001b[0m",
      "\u001b[1;31mValueError\u001b[0m                                Traceback (most recent call last)",
      "\u001b[1;32m<ipython-input-61-5c66098634d6>\u001b[0m in \u001b[0;36m<module>\u001b[1;34m\u001b[0m\n\u001b[1;32m----> 1\u001b[1;33m \u001b[0ma\u001b[0m\u001b[1;33m,\u001b[0m\u001b[0mb\u001b[0m\u001b[1;33m,\u001b[0m\u001b[0mc\u001b[0m \u001b[1;33m=\u001b[0m \u001b[1;33m[\u001b[0m\u001b[1;36m1\u001b[0m\u001b[1;33m,\u001b[0m\u001b[1;36m2\u001b[0m\u001b[1;33m]\u001b[0m\u001b[1;33m\u001b[0m\u001b[1;33m\u001b[0m\u001b[0m\n\u001b[0m",
      "\u001b[1;31mValueError\u001b[0m: not enough values to unpack (expected 3, got 2)"
     ]
    }
   ],
   "source": [
    "a,b,c = [1,2]"
   ]
  },
  {
   "cell_type": "code",
   "execution_count": 62,
   "id": "375421df",
   "metadata": {},
   "outputs": [],
   "source": [
    "tup = (a,b,c)"
   ]
  },
  {
   "cell_type": "code",
   "execution_count": 63,
   "id": "38840336",
   "metadata": {},
   "outputs": [
    {
     "name": "stdout",
     "output_type": "stream",
     "text": [
      "(1, 2, 3)\n"
     ]
    }
   ],
   "source": [
    "print(tup)"
   ]
  },
  {
   "cell_type": "code",
   "execution_count": 64,
   "id": "bf05962f",
   "metadata": {},
   "outputs": [
    {
     "name": "stdout",
     "output_type": "stream",
     "text": [
      "2\n"
     ]
    }
   ],
   "source": [
    "print(len(d1))"
   ]
  },
  {
   "cell_type": "code",
   "execution_count": 65,
   "id": "6a3f2daf",
   "metadata": {},
   "outputs": [
    {
     "name": "stdout",
     "output_type": "stream",
     "text": [
      "9876543210 1234567890\n"
     ]
    }
   ],
   "source": [
    "print(max(d1),min(d1))"
   ]
  },
  {
   "cell_type": "markdown",
   "id": "4dfc1bd5",
   "metadata": {},
   "source": [
    "## Iterating\n"
   ]
  },
  {
   "cell_type": "code",
   "execution_count": 67,
   "id": "c64818c5",
   "metadata": {},
   "outputs": [
    {
     "name": "stdout",
     "output_type": "stream",
     "text": [
      "1234567890\n",
      "9876543210\n"
     ]
    }
   ],
   "source": [
    "for pair in d1:\n",
    "    print(pair)"
   ]
  },
  {
   "cell_type": "code",
   "execution_count": 68,
   "id": "d05dd085",
   "metadata": {},
   "outputs": [
    {
     "name": "stdout",
     "output_type": "stream",
     "text": [
      "['04/09/2001', '7095821816', 'Chennai', 'Saran Teja']\n",
      "['Python', 'Earth', '01/01/1994', '9848876762']\n"
     ]
    }
   ],
   "source": [
    "for val in d1.values():\n",
    "    print(val)"
   ]
  },
  {
   "cell_type": "code",
   "execution_count": 69,
   "id": "a31ee1fd",
   "metadata": {},
   "outputs": [
    {
     "name": "stdout",
     "output_type": "stream",
     "text": [
      "['04/09/2001', '7095821816', 'Chennai', 'Saran Teja']\n",
      "['Python', 'Earth', '01/01/1994', '9848876762']\n"
     ]
    }
   ],
   "source": [
    "for pair in d1:\n",
    "    print(d1[pair])"
   ]
  },
  {
   "cell_type": "code",
   "execution_count": 70,
   "id": "9f4b74c8",
   "metadata": {},
   "outputs": [
    {
     "name": "stdout",
     "output_type": "stream",
     "text": [
      "['04/09/2001', '7095821816', 'Chennai', 'Saran Teja']\n",
      "['Python', 'Earth', '01/01/1994', '9848876762']\n"
     ]
    }
   ],
   "source": [
    "for pair in d1:\n",
    "    print(d1.get(pair))"
   ]
  },
  {
   "cell_type": "code",
   "execution_count": 71,
   "id": "e8a7f64d",
   "metadata": {},
   "outputs": [
    {
     "name": "stdout",
     "output_type": "stream",
     "text": [
      "('1234567890', ['04/09/2001', '7095821816', 'Chennai', 'Saran Teja'])\n",
      "('9876543210', ['Python', 'Earth', '01/01/1994', '9848876762'])\n"
     ]
    }
   ],
   "source": [
    "for pair in d1.items():\n",
    "    print(pair)"
   ]
  },
  {
   "cell_type": "code",
   "execution_count": 72,
   "id": "61b82ba8",
   "metadata": {},
   "outputs": [
    {
     "name": "stdout",
     "output_type": "stream",
     "text": [
      "['04/09/2001', '7095821816', 'Chennai', 'Saran Teja']\n",
      "['Python', 'Earth', '01/01/1994', '9848876762']\n"
     ]
    }
   ],
   "source": [
    "for pair in d1.items():\n",
    "    print(pair[1])"
   ]
  },
  {
   "cell_type": "code",
   "execution_count": 74,
   "id": "da5e42e6",
   "metadata": {},
   "outputs": [
    {
     "name": "stdout",
     "output_type": "stream",
     "text": [
      "1234567890\n",
      "['04/09/2001', '7095821816', 'Chennai', 'Saran Teja']\n",
      "********************\n",
      "9876543210\n",
      "['Python', 'Earth', '01/01/1994', '9848876762']\n",
      "********************\n"
     ]
    }
   ],
   "source": [
    "for key,val in d1.items():\n",
    "    print(key)\n",
    "    print(val)\n",
    "    print('*' * 20)"
   ]
  },
  {
   "cell_type": "code",
   "execution_count": 84,
   "id": "3c0a2727",
   "metadata": {},
   "outputs": [
    {
     "name": "stdout",
     "output_type": "stream",
     "text": [
      "{1: 1, 2: 4, 3: 9, 4: 16, 5: 25, 6: 36, 7: 49, 8: 64, 9: 81, 10: 100, 11: 121, 12: 144, 13: 169, 14: 196, 15: 225, 16: 256, 17: 289, 18: 324, 19: 361, 20: 400, 21: 441, 22: 484, 23: 529, 24: 576, 25: 625, 26: 676, 27: 729, 28: 784, 29: 841, 30: 900, 31: 961, 32: 1024, 33: 1089, 34: 1156, 35: 1225, 36: 1296, 37: 1369, 38: 1444, 39: 1521, 40: 1600, 41: 1681, 42: 1764, 43: 1849, 44: 1936, 45: 2025, 46: 2116, 47: 2209, 48: 2304, 49: 2401, 50: 2500, 51: 2601, 52: 2704, 53: 2809, 54: 2916, 55: 3025, 56: 3136, 57: 3249, 58: 3364, 59: 3481, 60: 3600, 61: 3721, 62: 3844, 63: 3969, 64: 4096, 65: 4225, 66: 4356, 67: 4489, 68: 4624, 69: 4761, 70: 4900, 71: 5041, 72: 5184, 73: 5329, 74: 5476, 75: 5625, 76: 5776, 77: 5929, 78: 6084, 79: 6241, 80: 6400, 81: 6561, 82: 6724, 83: 6889, 84: 7056, 85: 7225, 86: 7396, 87: 7569, 88: 7744, 89: 7921, 90: 8100, 91: 8281, 92: 8464, 93: 8649, 94: 8836, 95: 9025, 96: 9216, 97: 9409, 98: 9604, 99: 9801, 100: 10000}\n"
     ]
    }
   ],
   "source": [
    "sq={}\n",
    "\n",
    "for i in range(1,101):\n",
    "    sq[i] = i**2\n",
    "\n",
    "print(sq)"
   ]
  },
  {
   "cell_type": "code",
   "execution_count": 92,
   "id": "13949c87",
   "metadata": {},
   "outputs": [
    {
     "name": "stdout",
     "output_type": "stream",
     "text": [
      "{100: 10000} {2: 4} {2: 4} {4: 16} {4: 16} {6: 36} {6: 36} {8: 64} {8: 64} {10: 100} {10: 100} {12: 144} {12: 144} {14: 196} {14: 196} {16: 256} {16: 256} {18: 324} {18: 324} {20: 400} {20: 400} {22: 484} {22: 484} {24: 576} {24: 576} {26: 676} {26: 676} {28: 784} {28: 784} {30: 900} {30: 900} {32: 1024} {32: 1024} {34: 1156} {34: 1156} {36: 1296} {36: 1296} {38: 1444} {38: 1444} {40: 1600} {40: 1600} {42: 1764} {42: 1764} {44: 1936} {44: 1936} {46: 2116} {46: 2116} {48: 2304} {48: 2304} {50: 2500} {50: 2500} {52: 2704} {52: 2704} {54: 2916} {54: 2916} {56: 3136} {56: 3136} {58: 3364} {58: 3364} {60: 3600} {60: 3600} {62: 3844} {62: 3844} {64: 4096} {64: 4096} {66: 4356} {66: 4356} {68: 4624} {68: 4624} {70: 4900} {70: 4900} {72: 5184} {72: 5184} {74: 5476} {74: 5476} {76: 5776} {76: 5776} {78: 6084} {78: 6084} {80: 6400} {80: 6400} {82: 6724} {82: 6724} {84: 7056} {84: 7056} {86: 7396} {86: 7396} {88: 7744} {88: 7744} {90: 8100} {90: 8100} {92: 8464} {92: 8464} {94: 8836} {94: 8836} {96: 9216} {96: 9216} {98: 9604} {98: 9604} {100: 10000} "
     ]
    }
   ],
   "source": [
    "for key in sq:\n",
    "    if key%2 == 0:\n",
    "        dec={key:sq[key]}\n",
    "    print(dec,end=' ')"
   ]
  },
  {
   "cell_type": "code",
   "execution_count": 97,
   "id": "86704fc7",
   "metadata": {},
   "outputs": [
    {
     "name": "stdout",
     "output_type": "stream",
     "text": [
      "4-->16-->36-->64-->100-->144-->196-->256-->324-->400-->484-->576-->676-->784-->900-->1024-->1156-->1296-->1444-->1600-->1764-->1936-->2116-->2304-->2500-->2704-->2916-->3136-->3364-->3600-->3844-->4096-->4356-->4624-->4900-->5184-->5476-->5776-->6084-->6400-->6724-->7056-->7396-->7744-->8100-->8464-->8836-->9216-->9604-->10000-->"
     ]
    }
   ],
   "source": [
    "for key in sq:\n",
    "    if key%2==0:\n",
    "        print(sq[key],end='-->')"
   ]
  },
  {
   "cell_type": "markdown",
   "id": "62151d4c",
   "metadata": {},
   "source": [
    "## Tasks\n",
    "\n",
    "Python is an interpreted high-level general-purpose programming language. Python's design philosophy emphasizes code readability with its notable use of significant indentation. Wikipedia\n",
    "Developer: Python Software Foundation\n",
    "Stable release: 3.9.5 / 3 May 2021; 19 days ago\n",
    "Preview release: 3.10.0b1 / 3 May 2021; 19 days ago\n",
    "Typing discipline: Duck, dynamic, strong typing; gradual (since 3.5, but ignored in CPython)\n",
    "First appeared: February 1991; 30 years ago\n",
    "Paradigm: Multi-paradigm: object-oriented, procedural (imperative), functional, structured, reflective\n",
    "\n",
    "\n",
    "char , char_count\n",
    "    - [['p',5],['a',10]]\n",
    "    - {'p':5,'a':10}"
   ]
  },
  {
   "cell_type": "markdown",
   "id": "b7df6700",
   "metadata": {},
   "source": [
    "- Character frequency inside the string\n"
   ]
  },
  {
   "cell_type": "code",
   "execution_count": 99,
   "id": "7f4040ff",
   "metadata": {},
   "outputs": [],
   "source": [
    "s=\"\"\"Python is an interpreted high-level general-purpose programming language. Python's design philosophy emphasizes code readability with its notable use of significant indentation. Wikipedia\n",
    "Developer: Python Software Foundation\n",
    "Stable release: 3.9.5 / 3 May 2021; 19 days ago\n",
    "Preview release: 3.10.0b1 / 3 May 2021; 19 days ago\n",
    "Typing discipline: Duck, dynamic, strong typing; gradual (since 3.5, but ignored in CPython)\n",
    "First appeared: February 1991; 30 years ago\n",
    "Paradigm: Multi-paradigm: object-oriented, procedural (imperative), functional, structured, reflective\"\"\""
   ]
  },
  {
   "cell_type": "code",
   "execution_count": 100,
   "id": "a8119648",
   "metadata": {},
   "outputs": [
    {
     "name": "stdout",
     "output_type": "stream",
     "text": [
      "{'P': 6, 'y': 15, 't': 28, 'h': 10, 'o': 25, 'n': 29, ' ': 67, 'i': 39, 's': 20, 'a': 38, 'e': 48, 'r': 29, 'p': 17, 'd': 19, 'g': 18, '-': 4, 'l': 17, 'v': 5, 'u': 13, 'm': 7, '.': 7, \"'\": 1, 'z': 1, 'c': 11, 'b': 7, 'w': 3, 'f': 5, 'W': 1, 'k': 2, '\\n': 6, 'D': 2, ':': 7, 'S': 2, 'F': 3, '3': 6, '9': 5, '5': 2, '/': 2, 'M': 3, '2': 4, '0': 5, '1': 8, ';': 4, 'T': 1, ',': 7, '(': 2, 'C': 1, ')': 2, 'j': 1}\n"
     ]
    }
   ],
   "source": [
    "for ele in s.split():\n",
    "    for char in ele.split():\n",
    "        e={char:s.count(char) for char in s}\n",
    "print(e)"
   ]
  },
  {
   "cell_type": "markdown",
   "id": "18695340",
   "metadata": {},
   "source": [
    "- Word frequency inside the String"
   ]
  },
  {
   "cell_type": "code",
   "execution_count": 102,
   "id": "5c7b5f17",
   "metadata": {},
   "outputs": [
    {
     "name": "stdout",
     "output_type": "stream",
     "text": [
      "{'Python': 4, 'is': 2, 'an': 3, 'interpreted': 1, 'high-level': 1, 'general-purpose': 1, 'programming': 1, 'language.': 1, \"Python's\": 1, 'design': 1, 'philosophy': 1, 'emphasizes': 1, 'code': 1, 'readability': 1, 'with': 1, 'its': 1, 'notable': 1, 'use': 1, 'of': 2, 'significant': 1, 'indentation.': 1, 'Wikipedia': 1, 'Developer:': 1, 'Software': 1, 'Foundation': 1, 'Stable': 1, 'release:': 2, '3.9.5': 1, '/': 2, '3': 6, 'May': 2, '2021;': 2, '19': 3, 'days': 2, 'ago': 3, 'Preview': 1, '3.10.0b1': 1, 'Typing': 1, 'discipline:': 1, 'Duck,': 1, 'dynamic,': 1, 'strong': 1, 'typing;': 1, 'gradual': 1, '(since': 1, '3.5,': 1, 'but': 1, 'ignored': 1, 'in': 8, 'CPython)': 1, 'First': 1, 'appeared:': 1, 'February': 1, '1991;': 1, '30': 1, 'years': 1, 'Paradigm:': 1, 'Multi-paradigm:': 1, 'object-oriented,': 1, 'procedural': 1, '(imperative),': 1, 'functional,': 1, 'structured,': 1, 'reflective': 1}\n"
     ]
    }
   ],
   "source": [
    "for ele in s.split():\n",
    "    for char in ele:\n",
    "        d={char:s.count(char) for char in s.split()}\n",
    "print(d)"
   ]
  },
  {
   "cell_type": "markdown",
   "id": "2b59fa6d",
   "metadata": {},
   "source": [
    "## Contact Application\n",
    "\n",
    "{'Name':['Mobile1','Email','DOB']}\n",
    "\n",
    "Take the input from user\n",
    "\n",
    "1. Create a Contact -> Key value\n",
    "2. Add contact to existing contact -> Key -> Name\n",
    "3. Edit the contact -> Key -> value\n",
    "4. Delete the contact -> Name\n",
    "5. View the contact -> Name"
   ]
  },
  {
   "cell_type": "code",
   "execution_count": 116,
   "id": "89f64745",
   "metadata": {},
   "outputs": [],
   "source": [
    "contact={}"
   ]
  },
  {
   "cell_type": "code",
   "execution_count": 136,
   "id": "bb4e2ebb",
   "metadata": {},
   "outputs": [
    {
     "name": "stdout",
     "output_type": "stream",
     "text": [
      "Press the options below\n",
      "1. Create a contact\n",
      "2. Add contact to existing contact\n",
      "3. Edit the contact\n",
      "4. Delete the contact4\n",
      "Saran\n",
      "['7095821816', 'ghisfjhskjn', '4901']\n",
      "{}\n"
     ]
    }
   ],
   "source": [
    "option=input(\"\"\"Press the options below\n",
    "1. Create a contact\n",
    "2. Add contact to existing contact\n",
    "3. Edit the contact\n",
    "4. Delete the contact\"\"\")\n",
    "\n",
    "number=\"\"\n",
    "email=\"\"\n",
    "dob=\"\"\n",
    "if option == '1':\n",
    "    key=input(\"Enter Contact Name:\")\n",
    "    value=input(\"Enter details with space sep:\").split()\n",
    "    contact[key]=value\n",
    "    print(contact)\n",
    "    number=value[0]\n",
    "    email=value[1]\n",
    "    dob=value[2]\n",
    "    if number[0] == '+':\n",
    "        if number[1:3] == '91' and len(number[3:]) == 10 and number[3] in '9876' and number.isdigit():\n",
    "            print(number,\"is a valid Indian Mobile number\")\n",
    "        else:\n",
    "            print(number,\"is not valid Mobile number\")\n",
    "    elif len(number) == 10 and number[0] in '9876':\n",
    "        print(number,\"is a valid Indian Mobile number\")\n",
    "    else:\n",
    "        print(number,\"is not valid Mobile number\")\n",
    "\n",
    "    \n",
    "if option == '2':\n",
    "    name = input('Enter name to add to existing:')\n",
    "    if name in contact:\n",
    "        data = input(\"Enter the data to update\").split()\n",
    "        contact[name].extend(data)\n",
    "    else:\n",
    "        print(name,\"contact is not available\")\n",
    "    print(contact)\n",
    "    \n",
    "if option == '4':\n",
    "    name=input(\"Enter name of contact to delete:\")\n",
    "    \n",
    "    if name in contact.keys():\n",
    "        print(contact.pop(name))\n",
    "    else:\n",
    "        print(name,\"is not available\")\n",
    "    print(contact)\n",
    "\n",
    "if option == '3':\n",
    "    a = input(\"\"\"Enter what to edit:\n",
    "    1.number 2.email 3.dob\"\"\")\n",
    "    if a == '1':\n",
    "        num = input(\"enter new number:\")\n",
    "        value[0]=num\n",
    "    if a == '2':\n",
    "        em = input(\"Enter new email:\")\n",
    "        value[1]=em\n",
    "    if a == '3':\n",
    "        b = input(\"enter date:\")\n",
    "        value[2]=b\n",
    "    print(contact)\n"
   ]
  },
  {
   "cell_type": "code",
   "execution_count": null,
   "id": "a71c7efa",
   "metadata": {},
   "outputs": [],
   "source": []
  }
 ],
 "metadata": {
  "kernelspec": {
   "display_name": "Python 3",
   "language": "python",
   "name": "python3"
  },
  "language_info": {
   "codemirror_mode": {
    "name": "ipython",
    "version": 3
   },
   "file_extension": ".py",
   "mimetype": "text/x-python",
   "name": "python",
   "nbconvert_exporter": "python",
   "pygments_lexer": "ipython3",
   "version": "3.8.8"
  }
 },
 "nbformat": 4,
 "nbformat_minor": 5
}
