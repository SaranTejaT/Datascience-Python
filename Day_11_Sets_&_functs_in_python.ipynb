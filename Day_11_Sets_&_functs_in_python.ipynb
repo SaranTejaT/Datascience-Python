{
 "cells": [
  {
   "cell_type": "markdown",
   "id": "dd5f81d0",
   "metadata": {},
   "source": [
    "## Today's Objectives\n",
    "\n",
    "- Set\n",
    "- Set methods\n",
    "- Functions in python\n",
    "    - Built-in functions -> print(),input(),max(),min(),range(),id()\n",
    "                            len(),reversed(),reversed()\n",
    "    - User defined functions"
   ]
  },
  {
   "cell_type": "markdown",
   "id": "2917810c",
   "metadata": {},
   "source": [
    "## Sets in Python\n",
    "\n",
    "- It is used for storing non-homogeneous group of unique data in python.\n",
    "\n",
    "## Properties\n",
    "\n",
    "- It is mutable data type\n",
    "- It's unordered\n",
    "- '{}' is used for storind data in set\n",
    "- It is iterable\n",
    "- We can't access elements from set using indexing"
   ]
  },
  {
   "cell_type": "code",
   "execution_count": 1,
   "id": "ac516744",
   "metadata": {},
   "outputs": [
    {
     "name": "stdout",
     "output_type": "stream",
     "text": [
      "<class 'set'>\n"
     ]
    }
   ],
   "source": [
    "s1 = set()\n",
    "\n",
    "print(type(s1))"
   ]
  },
  {
   "cell_type": "code",
   "execution_count": 2,
   "id": "810e996b",
   "metadata": {},
   "outputs": [
    {
     "name": "stdout",
     "output_type": "stream",
     "text": [
      "<class 'set'>\n"
     ]
    }
   ],
   "source": [
    "s1={1,2,4,6,'Python',2.55,0.26,0.10}\n",
    "\n",
    "print(type(s1))"
   ]
  },
  {
   "cell_type": "code",
   "execution_count": 3,
   "id": "e4ba353a",
   "metadata": {},
   "outputs": [
    {
     "name": "stdout",
     "output_type": "stream",
     "text": [
      "{0.26, 1, 2, 2.55, 4, 0.1, 6, 'Python'}\n"
     ]
    }
   ],
   "source": [
    "print(s1)"
   ]
  },
  {
   "cell_type": "code",
   "execution_count": 4,
   "id": "8cc8b2f2",
   "metadata": {},
   "outputs": [
    {
     "name": "stdout",
     "output_type": "stream",
     "text": [
      "<class 'set'>\n",
      "{1, 2, 3, 4}\n"
     ]
    }
   ],
   "source": [
    "s2={1,2,3,4,4,3,2,1}\n",
    "\n",
    "print(type(s2))\n",
    "\n",
    "print(s2)"
   ]
  },
  {
   "cell_type": "code",
   "execution_count": 5,
   "id": "36b1c3ab",
   "metadata": {},
   "outputs": [],
   "source": [
    "st = \"\"\"Python is an interpreted high-level general-purpose programming language. Python's design philosophy emphasizes code readability with its notable use of significant indentation. Wikipedia\n",
    "Developer: Python Software Foundation\n",
    "Stable release: 3.9.5 / 3 May 2021; 29 days ago\n",
    "Preview release: 3.10.0b1 / 3 May 2021; 29 days ago\n",
    "Typing discipline: Duck, dynamic, strong typing; gradual (since 3.5, but ignored in CPython)\n",
    "First appeared: February 1991; 30 years ago\n",
    "Paradigm: Multi-paradigm: object-oriented, procedural (imperative), functional, structured, reflective\"\"\""
   ]
  },
  {
   "cell_type": "code",
   "execution_count": 7,
   "id": "0665b0ba",
   "metadata": {},
   "outputs": [
    {
     "name": "stdout",
     "output_type": "stream",
     "text": [
      "{'P': 6, 'y': 15, 't': 28, 'h': 10, 'o': 25, 'n': 29, ' ': 67, 'i': 39, 's': 20, 'a': 38, 'e': 48, 'r': 29, 'p': 17, 'd': 19, 'g': 18, '-': 4, 'l': 17, 'v': 5, 'u': 13, 'm': 7, '.': 7, \"'\": 1, 'z': 1, 'c': 11, 'b': 7, 'w': 3, 'f': 5, 'W': 1, 'k': 2, '\\n': 6, 'D': 2, ':': 7, 'S': 2, 'F': 3, '3': 6, '9': 5, '5': 2, '/': 2, 'M': 3, '2': 6, '0': 5, '1': 6, ';': 4, 'T': 1, ',': 7, '(': 2, 'C': 1, ')': 2, 'j': 1}\n"
     ]
    }
   ],
   "source": [
    "c= {}\n",
    "\n",
    "for char in st:\n",
    "    # print(char,end=' ')\n",
    "    c[char] = st.count(char)\n",
    "    \n",
    "print(c)"
   ]
  },
  {
   "cell_type": "code",
   "execution_count": 8,
   "id": "c25d2f8c",
   "metadata": {},
   "outputs": [
    {
     "name": "stdout",
     "output_type": "stream",
     "text": [
      "565\n"
     ]
    }
   ],
   "source": [
    "print(len(st))"
   ]
  },
  {
   "cell_type": "code",
   "execution_count": 9,
   "id": "85a602f3",
   "metadata": {},
   "outputs": [
    {
     "name": "stdout",
     "output_type": "stream",
     "text": [
      "49\n"
     ]
    }
   ],
   "source": [
    "print(len(c))"
   ]
  },
  {
   "cell_type": "code",
   "execution_count": 10,
   "id": "b879a42f",
   "metadata": {},
   "outputs": [
    {
     "name": "stdout",
     "output_type": "stream",
     "text": [
      "{'s', 'm', 'b', 'M', 'T', ',', 'g', '3', ' ', 'c', 'P', 'h', 'u', 'o', '1', 'n', 'F', ')', 'w', 'p', '-', 'l', 'a', 'f', '5', 'y', 'C', 'D', 'z', \"'\", 'S', '(', '.', '/', 'j', 'i', '\\n', 'v', 'k', ';', '9', 't', 'd', ':', 'W', '0', '2', 'e', 'r'}\n"
     ]
    }
   ],
   "source": [
    "s3 = set(st)\n",
    "\n",
    "print(s3)"
   ]
  },
  {
   "cell_type": "code",
   "execution_count": 11,
   "id": "f34c2e27",
   "metadata": {},
   "outputs": [
    {
     "name": "stdout",
     "output_type": "stream",
     "text": [
      "49\n"
     ]
    }
   ],
   "source": [
    "print(len(s3))"
   ]
  },
  {
   "cell_type": "code",
   "execution_count": 15,
   "id": "62b8eaa6",
   "metadata": {},
   "outputs": [
    {
     "name": "stdout",
     "output_type": "stream",
     "text": [
      "{'s': 20, 'm': 7, 'b': 7, 'M': 3, 'T': 1, ',': 7, 'g': 18, '3': 6, ' ': 67, 'c': 11, 'P': 6, 'h': 10, 'u': 13, 'o': 25, '1': 6, 'n': 29, 'F': 3, ')': 2, 'w': 3, 'p': 17, '-': 4, 'l': 17, 'a': 38, 'f': 5, '5': 2, 'y': 15, 'C': 1, 'D': 2, 'z': 1, \"'\": 1, 'S': 2, '(': 2, '.': 7, '/': 2, 'j': 1, 'i': 39, '\\n': 6, 'v': 5, 'k': 2, ';': 4, '9': 5, 't': 28, 'd': 19, ':': 7, 'W': 1, '0': 5, '2': 6, 'e': 48, 'r': 29}\n"
     ]
    }
   ],
   "source": [
    "c = {}\n",
    "\n",
    "for char in set(st):\n",
    "    # print(char,end=' ')\n",
    "    c[char] = st.count(char)\n",
    "    \n",
    "print(c)"
   ]
  },
  {
   "cell_type": "code",
   "execution_count": 22,
   "id": "78f052ea",
   "metadata": {},
   "outputs": [
    {
     "name": "stdout",
     "output_type": "stream",
     "text": [
      "['Python', 'is', 'an', 'interpreted', 'high-level', 'general-purpose', 'programming', 'language.', \"Python's\", 'design', 'philosophy', 'emphasizes', 'code', 'readability', 'with', 'its', 'notable', 'use', 'of', 'significant', 'indentation.', 'Wikipedia', 'Developer:', 'Python', 'Software', 'Foundation', 'Stable', 'release:', '3.9.5', '/', '3', 'May', '2021;', '29', 'days', 'ago', 'Preview', 'release:', '3.10.0b1', '/', '3', 'May', '2021;', '29', 'days', 'ago', 'Typing', 'discipline:', 'Duck,', 'dynamic,', 'strong', 'typing;', 'gradual', '(since', '3.5,', 'but', 'ignored', 'in', 'CPython)', 'First', 'appeared:', 'February', '1991;', '30', 'years', 'ago', 'Paradigm:', 'Multi-paradigm:', 'object-oriented,', 'procedural', '(imperative),', 'functional,', 'structured,', 'reflective']\n"
     ]
    }
   ],
   "source": [
    "sli = st.split()\n",
    "\n",
    "print(sli)"
   ]
  },
  {
   "cell_type": "code",
   "execution_count": 17,
   "id": "928d6903",
   "metadata": {},
   "outputs": [
    {
     "name": "stdout",
     "output_type": "stream",
     "text": [
      "74\n"
     ]
    }
   ],
   "source": [
    "print(len(sli))"
   ]
  },
  {
   "cell_type": "code",
   "execution_count": 18,
   "id": "4f953248",
   "metadata": {},
   "outputs": [
    {
     "name": "stdout",
     "output_type": "stream",
     "text": [
      "64 {'indentation.', 'readability', 'CPython)', 'dynamic,', 'ignored', 'February', '3', 'with', 'Duck,', 'use', 'notable', 'functional,', 'appeared:', 'release:', 'Paradigm:', 'strong', 'structured,', 'discipline:', 'Software', 'philosophy', 'Foundation', 'May', 'is', '30', 'in', '(since', 'object-oriented,', 'programming', '1991;', 'general-purpose', '(imperative),', '/', 'Multi-paradigm:', 'significant', 'but', 'language.', 'reflective', \"Python's\", 'emphasizes', 'procedural', 'gradual', '3.5,', '3.9.5', '29', 'Wikipedia', 'of', 'First', 'typing;', 'an', 'Python', 'high-level', 'its', 'days', '3.10.0b1', 'design', 'Typing', 'Stable', 'Developer:', 'Preview', 'code', 'years', '2021;', 'ago', 'interpreted'}\n"
     ]
    }
   ],
   "source": [
    "ssli = set(sli)\n",
    "\n",
    "print(len(ssli),ssli)"
   ]
  },
  {
   "cell_type": "code",
   "execution_count": 19,
   "id": "7f90e531",
   "metadata": {},
   "outputs": [
    {
     "name": "stdout",
     "output_type": "stream",
     "text": [
      "['indentation.', 'readability', 'CPython)', 'dynamic,', 'ignored', 'February', '3', 'with', 'Duck,', 'use', 'notable', 'functional,', 'appeared:', 'release:', 'Paradigm:', 'strong', 'structured,', 'discipline:', 'Software', 'philosophy', 'Foundation', 'May', 'is', '30', 'in', '(since', 'object-oriented,', 'programming', '1991;', 'general-purpose', '(imperative),', '/', 'Multi-paradigm:', 'significant', 'but', 'language.', 'reflective', \"Python's\", 'emphasizes', 'procedural', 'gradual', '3.5,', '3.9.5', '29', 'Wikipedia', 'of', 'First', 'typing;', 'an', 'Python', 'high-level', 'its', 'days', '3.10.0b1', 'design', 'Typing', 'Stable', 'Developer:', 'Preview', 'code', 'years', '2021;', 'ago', 'interpreted']\n"
     ]
    }
   ],
   "source": [
    "print(list(ssli))"
   ]
  },
  {
   "cell_type": "code",
   "execution_count": 20,
   "id": "64982c3d",
   "metadata": {},
   "outputs": [
    {
     "name": "stdout",
     "output_type": "stream",
     "text": [
      "('indentation.', 'readability', 'CPython)', 'dynamic,', 'ignored', 'February', '3', 'with', 'Duck,', 'use', 'notable', 'functional,', 'appeared:', 'release:', 'Paradigm:', 'strong', 'structured,', 'discipline:', 'Software', 'philosophy', 'Foundation', 'May', 'is', '30', 'in', '(since', 'object-oriented,', 'programming', '1991;', 'general-purpose', '(imperative),', '/', 'Multi-paradigm:', 'significant', 'but', 'language.', 'reflective', \"Python's\", 'emphasizes', 'procedural', 'gradual', '3.5,', '3.9.5', '29', 'Wikipedia', 'of', 'First', 'typing;', 'an', 'Python', 'high-level', 'its', 'days', '3.10.0b1', 'design', 'Typing', 'Stable', 'Developer:', 'Preview', 'code', 'years', '2021;', 'ago', 'interpreted')\n"
     ]
    }
   ],
   "source": [
    "print(tuple(ssli))"
   ]
  },
  {
   "cell_type": "code",
   "execution_count": 24,
   "id": "5911f72d",
   "metadata": {},
   "outputs": [
    {
     "name": "stdout",
     "output_type": "stream",
     "text": [
      "<class 'str'>\n",
      "{'indentation.', 'readability', 'CPython)', 'dynamic,', 'ignored', 'February', '3', 'with', 'Duck,', 'use', 'notable', 'functional,', 'appeared:', 'release:', 'Paradigm:', 'strong', 'structured,', 'discipline:', 'Software', 'philosophy', 'Foundation', 'May', 'is', '30', 'in', '(since', 'object-oriented,', 'programming', '1991;', 'general-purpose', '(imperative),', '/', 'Multi-paradigm:', 'significant', 'but', 'language.', 'reflective', \"Python's\", 'emphasizes', 'procedural', 'gradual', '3.5,', '3.9.5', '29', 'Wikipedia', 'of', 'First', 'typing;', 'an', 'Python', 'high-level', 'its', 'days', '3.10.0b1', 'design', 'Typing', 'Stable', 'Developer:', 'Preview', 'code', 'years', '2021;', 'ago', 'interpreted'}\n",
      "{\n"
     ]
    }
   ],
   "source": [
    "stli = str(ssli)\n",
    "\n",
    "print(type(stli))\n",
    "print(stli)\n",
    "print(stli[0])"
   ]
  },
  {
   "cell_type": "markdown",
   "id": "f92b2afe",
   "metadata": {},
   "source": [
    "## Set Methods"
   ]
  },
  {
   "cell_type": "code",
   "execution_count": 25,
   "id": "b9160777",
   "metadata": {},
   "outputs": [],
   "source": [
    "se = set()"
   ]
  },
  {
   "cell_type": "code",
   "execution_count": 26,
   "id": "51095c15",
   "metadata": {},
   "outputs": [],
   "source": [
    "se.add(12)\n",
    "se.add(23)\n",
    "se.add('Python')\n",
    "se.add(7.65)"
   ]
  },
  {
   "cell_type": "code",
   "execution_count": 27,
   "id": "73876343",
   "metadata": {},
   "outputs": [
    {
     "name": "stdout",
     "output_type": "stream",
     "text": [
      "24\n"
     ]
    }
   ],
   "source": [
    "se.add(input())"
   ]
  },
  {
   "cell_type": "code",
   "execution_count": 28,
   "id": "5d959ee6",
   "metadata": {},
   "outputs": [
    {
     "name": "stdout",
     "output_type": "stream",
     "text": [
      "{7.65, 'Python', 12, 23, '24'}\n"
     ]
    }
   ],
   "source": [
    "print(se)"
   ]
  },
  {
   "cell_type": "code",
   "execution_count": 29,
   "id": "675cb986",
   "metadata": {},
   "outputs": [
    {
     "ename": "TypeError",
     "evalue": "unhashable type: 'list'",
     "output_type": "error",
     "traceback": [
      "\u001b[1;31m---------------------------------------------------------------------------\u001b[0m",
      "\u001b[1;31mTypeError\u001b[0m                                 Traceback (most recent call last)",
      "\u001b[1;32m<ipython-input-29-a6e010eacf90>\u001b[0m in \u001b[0;36m<module>\u001b[1;34m\u001b[0m\n\u001b[1;32m----> 1\u001b[1;33m \u001b[0mse\u001b[0m\u001b[1;33m.\u001b[0m\u001b[0madd\u001b[0m\u001b[1;33m(\u001b[0m\u001b[1;33m[\u001b[0m\u001b[1;36m1\u001b[0m\u001b[1;33m,\u001b[0m\u001b[1;36m2\u001b[0m\u001b[1;33m,\u001b[0m\u001b[1;36m3\u001b[0m\u001b[1;33m,\u001b[0m\u001b[1;36m4\u001b[0m\u001b[1;33m]\u001b[0m\u001b[1;33m)\u001b[0m\u001b[1;33m\u001b[0m\u001b[1;33m\u001b[0m\u001b[0m\n\u001b[0m",
      "\u001b[1;31mTypeError\u001b[0m: unhashable type: 'list'"
     ]
    }
   ],
   "source": [
    "se.add([1,2,3,4])"
   ]
  },
  {
   "cell_type": "code",
   "execution_count": 30,
   "id": "992bef8d",
   "metadata": {},
   "outputs": [],
   "source": [
    "se.add((1,2,3,4))"
   ]
  },
  {
   "cell_type": "code",
   "execution_count": 31,
   "id": "2e090ae0",
   "metadata": {},
   "outputs": [
    {
     "name": "stdout",
     "output_type": "stream",
     "text": [
      "{7.65, 'Python', 12, (1, 2, 3, 4), 23, '24'}\n"
     ]
    }
   ],
   "source": [
    "print(se)"
   ]
  },
  {
   "cell_type": "code",
   "execution_count": 33,
   "id": "610dbd64",
   "metadata": {},
   "outputs": [
    {
     "name": "stdout",
     "output_type": "stream",
     "text": [
      "{1, 2, 3, 4, 5, 6, 7.65, 'Python', 12, (1, 2, 3, 4), 23, '24'}\n"
     ]
    }
   ],
   "source": [
    "se.update([1,2,3,4,5,6])\n",
    "\n",
    "print(se)"
   ]
  },
  {
   "cell_type": "code",
   "execution_count": 36,
   "id": "bd9d8e77",
   "metadata": {},
   "outputs": [
    {
     "name": "stdout",
     "output_type": "stream",
     "text": [
      "3\n",
      "{4, 5, 6, 7.65, 'Python', 12, (1, 2, 3, 4), 23, '24'}\n"
     ]
    }
   ],
   "source": [
    "print(se.pop())\n",
    "\n",
    "print(se)"
   ]
  },
  {
   "cell_type": "code",
   "execution_count": 37,
   "id": "63efbb1b",
   "metadata": {},
   "outputs": [
    {
     "name": "stdout",
     "output_type": "stream",
     "text": [
      "{4, 5, 6, 7.65, 'Python', 12, 23, '24'}\n"
     ]
    }
   ],
   "source": [
    "se.remove((1,2,3,4))\n",
    "\n",
    "print(se)"
   ]
  },
  {
   "cell_type": "code",
   "execution_count": 38,
   "id": "2f2cc90c",
   "metadata": {},
   "outputs": [
    {
     "name": "stdout",
     "output_type": "stream",
     "text": [
      "{4, 5, 6, 7.65, 'Python', 12, 23}\n"
     ]
    }
   ],
   "source": [
    "se.discard('24')\n",
    "\n",
    "print(se)"
   ]
  },
  {
   "cell_type": "code",
   "execution_count": 39,
   "id": "31ef0eb7",
   "metadata": {},
   "outputs": [
    {
     "name": "stdout",
     "output_type": "stream",
     "text": [
      "{4, 5, 6, 7.65, 'Python', 12, 23}\n"
     ]
    }
   ],
   "source": [
    "se.discard('24')\n",
    "\n",
    "print(se)"
   ]
  },
  {
   "cell_type": "code",
   "execution_count": 40,
   "id": "5b028143",
   "metadata": {},
   "outputs": [
    {
     "name": "stdout",
     "output_type": "stream",
     "text": [
      "None {4, 5, 6, 7.65, 'Python', 12, 23}\n"
     ]
    }
   ],
   "source": [
    "x = se.discard('24')\n",
    "\n",
    "print(x,se)"
   ]
  },
  {
   "cell_type": "code",
   "execution_count": 41,
   "id": "55f5f381",
   "metadata": {},
   "outputs": [
    {
     "name": "stdout",
     "output_type": "stream",
     "text": [
      "{4, 5, 6, 7.65, 23, 'Python', 12}\n"
     ]
    }
   ],
   "source": [
    "se1 = se.copy()\n",
    "\n",
    "print(se1)"
   ]
  },
  {
   "cell_type": "code",
   "execution_count": 42,
   "id": "4188d240",
   "metadata": {},
   "outputs": [
    {
     "name": "stdout",
     "output_type": "stream",
     "text": [
      "set()\n"
     ]
    },
    {
     "ename": "NameError",
     "evalue": "name 'se1' is not defined",
     "output_type": "error",
     "traceback": [
      "\u001b[1;31m---------------------------------------------------------------------------\u001b[0m",
      "\u001b[1;31mNameError\u001b[0m                                 Traceback (most recent call last)",
      "\u001b[1;32m<ipython-input-42-92303c51b906>\u001b[0m in \u001b[0;36m<module>\u001b[1;34m\u001b[0m\n\u001b[0;32m      5\u001b[0m \u001b[1;32mdel\u001b[0m \u001b[0mse1\u001b[0m\u001b[1;33m\u001b[0m\u001b[1;33m\u001b[0m\u001b[0m\n\u001b[0;32m      6\u001b[0m \u001b[1;33m\u001b[0m\u001b[0m\n\u001b[1;32m----> 7\u001b[1;33m \u001b[0mprint\u001b[0m\u001b[1;33m(\u001b[0m\u001b[0mse1\u001b[0m\u001b[1;33m)\u001b[0m\u001b[1;33m\u001b[0m\u001b[1;33m\u001b[0m\u001b[0m\n\u001b[0m",
      "\u001b[1;31mNameError\u001b[0m: name 'se1' is not defined"
     ]
    }
   ],
   "source": [
    "se1.clear()\n",
    "\n",
    "print(se1)\n",
    "\n",
    "del se1\n",
    "\n",
    "print(se1)"
   ]
  },
  {
   "cell_type": "markdown",
   "id": "1645b08b",
   "metadata": {},
   "source": [
    "## Math Sets\n",
    "\n",
    "- Union\n",
    "- Intersection"
   ]
  },
  {
   "cell_type": "code",
   "execution_count": 55,
   "id": "8465c9ca",
   "metadata": {},
   "outputs": [
    {
     "name": "stdout",
     "output_type": "stream",
     "text": [
      "{1, 2, 3, 4, 5, 6, 7, 8, 9}\n"
     ]
    }
   ],
   "source": [
    "set1 = {1,2,3,4,5,6}\n",
    "set2 = {4,5,6,7,8,9}\n",
    "\n",
    "print(set1.union(set2))"
   ]
  },
  {
   "cell_type": "code",
   "execution_count": 44,
   "id": "e61b9dc7",
   "metadata": {},
   "outputs": [
    {
     "name": "stdout",
     "output_type": "stream",
     "text": [
      "{1, 2, 3, 4, 5, 6, 7, 8, 9}\n"
     ]
    }
   ],
   "source": [
    "print(set1|set2)"
   ]
  },
  {
   "cell_type": "code",
   "execution_count": 45,
   "id": "4089324a",
   "metadata": {},
   "outputs": [
    {
     "name": "stdout",
     "output_type": "stream",
     "text": [
      "{4, 5, 6}\n",
      "{4, 5, 6}\n"
     ]
    }
   ],
   "source": [
    "print(set1.intersection(set2))\n",
    "\n",
    "print(set1 & set2)"
   ]
  },
  {
   "cell_type": "code",
   "execution_count": 46,
   "id": "11484600",
   "metadata": {},
   "outputs": [
    {
     "name": "stdout",
     "output_type": "stream",
     "text": [
      "{1, 2, 3}\n",
      "{8, 9, 7}\n"
     ]
    }
   ],
   "source": [
    "print(set1.difference(set2))\n",
    "\n",
    "print(set2.difference(set1))"
   ]
  },
  {
   "cell_type": "code",
   "execution_count": 48,
   "id": "8fcfa22e",
   "metadata": {},
   "outputs": [
    {
     "name": "stdout",
     "output_type": "stream",
     "text": [
      "{1, 2, 3}\n",
      "{8, 9, 7}\n"
     ]
    }
   ],
   "source": [
    "print(set1 - set2)\n",
    "print(set2 - set1)"
   ]
  },
  {
   "cell_type": "code",
   "execution_count": 51,
   "id": "0ba4f342",
   "metadata": {},
   "outputs": [
    {
     "name": "stdout",
     "output_type": "stream",
     "text": [
      "{1, 2, 3, 7, 8, 9}\n",
      "{1, 2, 3, 7, 8, 9}\n",
      "{1, 2, 3, 7, 8, 9}\n"
     ]
    }
   ],
   "source": [
    "print(set1.symmetric_difference(set2))\n",
    "\n",
    "print(set2.symmetric_difference(set1))\n",
    "\n",
    "print(set1 ^ set2)"
   ]
  },
  {
   "cell_type": "code",
   "execution_count": 53,
   "id": "de377617",
   "metadata": {},
   "outputs": [
    {
     "name": "stdout",
     "output_type": "stream",
     "text": [
      "None\n",
      "{5, 4, 7, 8, 9, 6} {1, 2, 3, 4, 5, 6}\n",
      "None\n",
      "{5, 4, 7, 8, 9, 6} {1, 2, 3, 8, 7, 9}\n"
     ]
    }
   ],
   "source": [
    "print(set1.symmetric_difference_update(set2))\n",
    "\n",
    "print(set1,set2)\n",
    "\n",
    "print(set2.symmetric_difference_update(set1))\n",
    "\n",
    "print(set1,set2)"
   ]
  },
  {
   "cell_type": "code",
   "execution_count": 56,
   "id": "62a8cf00",
   "metadata": {},
   "outputs": [
    {
     "name": "stdout",
     "output_type": "stream",
     "text": [
      "None\n",
      "{1, 2, 3}\n",
      "None\n",
      "{4, 5, 6, 7, 8, 9}\n"
     ]
    }
   ],
   "source": [
    "print(set1.difference_update(set2))\n",
    "\n",
    "print(set1)\n",
    "\n",
    "print(set2.difference_update(set1))\n",
    "\n",
    "print(set2)"
   ]
  },
  {
   "cell_type": "markdown",
   "id": "02cfe842",
   "metadata": {},
   "source": [
    "- Functions in Python\n",
    "    - Built-in functions -> print(),input(),sum(),sorted(),reversed()\n",
    "                            id(), len(),min(),max(),range()\n",
    "    - User defined functions\n",
    "    \n",
    "Def : Set of instructiioins given by user to perform action\n",
    "\n",
    "- Reusable code to perform single related action\n",
    "- Reduces lines of code\n",
    "- Reduces time complexity,memory\n",
    "    \n",
    "\n"
   ]
  },
  {
   "cell_type": "code",
   "execution_count": 57,
   "id": "cade7916",
   "metadata": {},
   "outputs": [
    {
     "name": "stdout",
     "output_type": "stream",
     "text": [
      "5\n"
     ]
    }
   ],
   "source": [
    "print(abs(-5))"
   ]
  },
  {
   "cell_type": "code",
   "execution_count": 58,
   "id": "e4fb5b8a",
   "metadata": {},
   "outputs": [
    {
     "name": "stdout",
     "output_type": "stream",
     "text": [
      "True False\n"
     ]
    }
   ],
   "source": [
    "li1 = [1,2,3,4,5,6]\n",
    "li2 = [1,2,3,4,5,6,0]\n",
    "\n",
    "print(all(li1),all(li2))"
   ]
  },
  {
   "cell_type": "code",
   "execution_count": 59,
   "id": "073a8085",
   "metadata": {},
   "outputs": [
    {
     "name": "stdout",
     "output_type": "stream",
     "text": [
      "True False\n"
     ]
    }
   ],
   "source": [
    "li1 = [1,2,3,4,5,6,'0']\n",
    "li2 = [1,2,3,4,5,6,0]\n",
    "\n",
    "print(all(li1),all(li2))"
   ]
  },
  {
   "cell_type": "code",
   "execution_count": 60,
   "id": "be973775",
   "metadata": {},
   "outputs": [
    {
     "name": "stdout",
     "output_type": "stream",
     "text": [
      "True True False\n"
     ]
    }
   ],
   "source": [
    "li1 = [1,2,3,4,5]\n",
    "li2 = [0,0,0,0,0,0,0,1]\n",
    "li3 = [0,0,0,0,0]\n",
    "\n",
    "print(any(li1),any(li2),any(li3))"
   ]
  },
  {
   "cell_type": "code",
   "execution_count": 63,
   "id": "8e21e556",
   "metadata": {},
   "outputs": [
    {
     "name": "stdout",
     "output_type": "stream",
     "text": [
      "False\n"
     ]
    }
   ],
   "source": [
    "print(all([1,2,3,'']))"
   ]
  },
  {
   "cell_type": "code",
   "execution_count": 64,
   "id": "ad79eb94",
   "metadata": {},
   "outputs": [
    {
     "data": {
      "text/plain": [
       "['__add__',\n",
       " '__class__',\n",
       " '__contains__',\n",
       " '__delattr__',\n",
       " '__delitem__',\n",
       " '__dir__',\n",
       " '__doc__',\n",
       " '__eq__',\n",
       " '__format__',\n",
       " '__ge__',\n",
       " '__getattribute__',\n",
       " '__getitem__',\n",
       " '__gt__',\n",
       " '__hash__',\n",
       " '__iadd__',\n",
       " '__imul__',\n",
       " '__init__',\n",
       " '__init_subclass__',\n",
       " '__iter__',\n",
       " '__le__',\n",
       " '__len__',\n",
       " '__lt__',\n",
       " '__mul__',\n",
       " '__ne__',\n",
       " '__new__',\n",
       " '__reduce__',\n",
       " '__reduce_ex__',\n",
       " '__repr__',\n",
       " '__reversed__',\n",
       " '__rmul__',\n",
       " '__setattr__',\n",
       " '__setitem__',\n",
       " '__sizeof__',\n",
       " '__str__',\n",
       " '__subclasshook__',\n",
       " 'append',\n",
       " 'clear',\n",
       " 'copy',\n",
       " 'count',\n",
       " 'extend',\n",
       " 'index',\n",
       " 'insert',\n",
       " 'pop',\n",
       " 'remove',\n",
       " 'reverse',\n",
       " 'sort']"
      ]
     },
     "execution_count": 64,
     "metadata": {},
     "output_type": "execute_result"
    }
   ],
   "source": [
    "dir(list)\n"
   ]
  },
  {
   "cell_type": "code",
   "execution_count": 65,
   "id": "cf17986f",
   "metadata": {},
   "outputs": [
    {
     "name": "stdout",
     "output_type": "stream",
     "text": [
      "Help on class str in module builtins:\n",
      "\n",
      "class str(object)\n",
      " |  str(object='') -> str\n",
      " |  str(bytes_or_buffer[, encoding[, errors]]) -> str\n",
      " |  \n",
      " |  Create a new string object from the given object. If encoding or\n",
      " |  errors is specified, then the object must expose a data buffer\n",
      " |  that will be decoded using the given encoding and error handler.\n",
      " |  Otherwise, returns the result of object.__str__() (if defined)\n",
      " |  or repr(object).\n",
      " |  encoding defaults to sys.getdefaultencoding().\n",
      " |  errors defaults to 'strict'.\n",
      " |  \n",
      " |  Methods defined here:\n",
      " |  \n",
      " |  __add__(self, value, /)\n",
      " |      Return self+value.\n",
      " |  \n",
      " |  __contains__(self, key, /)\n",
      " |      Return key in self.\n",
      " |  \n",
      " |  __eq__(self, value, /)\n",
      " |      Return self==value.\n",
      " |  \n",
      " |  __format__(self, format_spec, /)\n",
      " |      Return a formatted version of the string as described by format_spec.\n",
      " |  \n",
      " |  __ge__(self, value, /)\n",
      " |      Return self>=value.\n",
      " |  \n",
      " |  __getattribute__(self, name, /)\n",
      " |      Return getattr(self, name).\n",
      " |  \n",
      " |  __getitem__(self, key, /)\n",
      " |      Return self[key].\n",
      " |  \n",
      " |  __getnewargs__(...)\n",
      " |  \n",
      " |  __gt__(self, value, /)\n",
      " |      Return self>value.\n",
      " |  \n",
      " |  __hash__(self, /)\n",
      " |      Return hash(self).\n",
      " |  \n",
      " |  __iter__(self, /)\n",
      " |      Implement iter(self).\n",
      " |  \n",
      " |  __le__(self, value, /)\n",
      " |      Return self<=value.\n",
      " |  \n",
      " |  __len__(self, /)\n",
      " |      Return len(self).\n",
      " |  \n",
      " |  __lt__(self, value, /)\n",
      " |      Return self<value.\n",
      " |  \n",
      " |  __mod__(self, value, /)\n",
      " |      Return self%value.\n",
      " |  \n",
      " |  __mul__(self, value, /)\n",
      " |      Return self*value.\n",
      " |  \n",
      " |  __ne__(self, value, /)\n",
      " |      Return self!=value.\n",
      " |  \n",
      " |  __repr__(self, /)\n",
      " |      Return repr(self).\n",
      " |  \n",
      " |  __rmod__(self, value, /)\n",
      " |      Return value%self.\n",
      " |  \n",
      " |  __rmul__(self, value, /)\n",
      " |      Return value*self.\n",
      " |  \n",
      " |  __sizeof__(self, /)\n",
      " |      Return the size of the string in memory, in bytes.\n",
      " |  \n",
      " |  __str__(self, /)\n",
      " |      Return str(self).\n",
      " |  \n",
      " |  capitalize(self, /)\n",
      " |      Return a capitalized version of the string.\n",
      " |      \n",
      " |      More specifically, make the first character have upper case and the rest lower\n",
      " |      case.\n",
      " |  \n",
      " |  casefold(self, /)\n",
      " |      Return a version of the string suitable for caseless comparisons.\n",
      " |  \n",
      " |  center(self, width, fillchar=' ', /)\n",
      " |      Return a centered string of length width.\n",
      " |      \n",
      " |      Padding is done using the specified fill character (default is a space).\n",
      " |  \n",
      " |  count(...)\n",
      " |      S.count(sub[, start[, end]]) -> int\n",
      " |      \n",
      " |      Return the number of non-overlapping occurrences of substring sub in\n",
      " |      string S[start:end].  Optional arguments start and end are\n",
      " |      interpreted as in slice notation.\n",
      " |  \n",
      " |  encode(self, /, encoding='utf-8', errors='strict')\n",
      " |      Encode the string using the codec registered for encoding.\n",
      " |      \n",
      " |      encoding\n",
      " |        The encoding in which to encode the string.\n",
      " |      errors\n",
      " |        The error handling scheme to use for encoding errors.\n",
      " |        The default is 'strict' meaning that encoding errors raise a\n",
      " |        UnicodeEncodeError.  Other possible values are 'ignore', 'replace' and\n",
      " |        'xmlcharrefreplace' as well as any other name registered with\n",
      " |        codecs.register_error that can handle UnicodeEncodeErrors.\n",
      " |  \n",
      " |  endswith(...)\n",
      " |      S.endswith(suffix[, start[, end]]) -> bool\n",
      " |      \n",
      " |      Return True if S ends with the specified suffix, False otherwise.\n",
      " |      With optional start, test S beginning at that position.\n",
      " |      With optional end, stop comparing S at that position.\n",
      " |      suffix can also be a tuple of strings to try.\n",
      " |  \n",
      " |  expandtabs(self, /, tabsize=8)\n",
      " |      Return a copy where all tab characters are expanded using spaces.\n",
      " |      \n",
      " |      If tabsize is not given, a tab size of 8 characters is assumed.\n",
      " |  \n",
      " |  find(...)\n",
      " |      S.find(sub[, start[, end]]) -> int\n",
      " |      \n",
      " |      Return the lowest index in S where substring sub is found,\n",
      " |      such that sub is contained within S[start:end].  Optional\n",
      " |      arguments start and end are interpreted as in slice notation.\n",
      " |      \n",
      " |      Return -1 on failure.\n",
      " |  \n",
      " |  format(...)\n",
      " |      S.format(*args, **kwargs) -> str\n",
      " |      \n",
      " |      Return a formatted version of S, using substitutions from args and kwargs.\n",
      " |      The substitutions are identified by braces ('{' and '}').\n",
      " |  \n",
      " |  format_map(...)\n",
      " |      S.format_map(mapping) -> str\n",
      " |      \n",
      " |      Return a formatted version of S, using substitutions from mapping.\n",
      " |      The substitutions are identified by braces ('{' and '}').\n",
      " |  \n",
      " |  index(...)\n",
      " |      S.index(sub[, start[, end]]) -> int\n",
      " |      \n",
      " |      Return the lowest index in S where substring sub is found,\n",
      " |      such that sub is contained within S[start:end].  Optional\n",
      " |      arguments start and end are interpreted as in slice notation.\n",
      " |      \n",
      " |      Raises ValueError when the substring is not found.\n",
      " |  \n",
      " |  isalnum(self, /)\n",
      " |      Return True if the string is an alpha-numeric string, False otherwise.\n",
      " |      \n",
      " |      A string is alpha-numeric if all characters in the string are alpha-numeric and\n",
      " |      there is at least one character in the string.\n",
      " |  \n",
      " |  isalpha(self, /)\n",
      " |      Return True if the string is an alphabetic string, False otherwise.\n",
      " |      \n",
      " |      A string is alphabetic if all characters in the string are alphabetic and there\n",
      " |      is at least one character in the string.\n",
      " |  \n",
      " |  isascii(self, /)\n",
      " |      Return True if all characters in the string are ASCII, False otherwise.\n",
      " |      \n",
      " |      ASCII characters have code points in the range U+0000-U+007F.\n",
      " |      Empty string is ASCII too.\n",
      " |  \n",
      " |  isdecimal(self, /)\n",
      " |      Return True if the string is a decimal string, False otherwise.\n",
      " |      \n",
      " |      A string is a decimal string if all characters in the string are decimal and\n",
      " |      there is at least one character in the string.\n",
      " |  \n",
      " |  isdigit(self, /)\n",
      " |      Return True if the string is a digit string, False otherwise.\n",
      " |      \n",
      " |      A string is a digit string if all characters in the string are digits and there\n",
      " |      is at least one character in the string.\n",
      " |  \n",
      " |  isidentifier(self, /)\n",
      " |      Return True if the string is a valid Python identifier, False otherwise.\n",
      " |      \n",
      " |      Call keyword.iskeyword(s) to test whether string s is a reserved identifier,\n",
      " |      such as \"def\" or \"class\".\n",
      " |  \n",
      " |  islower(self, /)\n",
      " |      Return True if the string is a lowercase string, False otherwise.\n",
      " |      \n",
      " |      A string is lowercase if all cased characters in the string are lowercase and\n",
      " |      there is at least one cased character in the string.\n",
      " |  \n",
      " |  isnumeric(self, /)\n",
      " |      Return True if the string is a numeric string, False otherwise.\n",
      " |      \n",
      " |      A string is numeric if all characters in the string are numeric and there is at\n",
      " |      least one character in the string.\n",
      " |  \n",
      " |  isprintable(self, /)\n",
      " |      Return True if the string is printable, False otherwise.\n",
      " |      \n",
      " |      A string is printable if all of its characters are considered printable in\n",
      " |      repr() or if it is empty.\n",
      " |  \n",
      " |  isspace(self, /)\n",
      " |      Return True if the string is a whitespace string, False otherwise.\n",
      " |      \n",
      " |      A string is whitespace if all characters in the string are whitespace and there\n",
      " |      is at least one character in the string.\n",
      " |  \n",
      " |  istitle(self, /)\n",
      " |      Return True if the string is a title-cased string, False otherwise.\n",
      " |      \n",
      " |      In a title-cased string, upper- and title-case characters may only\n",
      " |      follow uncased characters and lowercase characters only cased ones.\n",
      " |  \n",
      " |  isupper(self, /)\n",
      " |      Return True if the string is an uppercase string, False otherwise.\n",
      " |      \n",
      " |      A string is uppercase if all cased characters in the string are uppercase and\n",
      " |      there is at least one cased character in the string.\n",
      " |  \n",
      " |  join(self, iterable, /)\n",
      " |      Concatenate any number of strings.\n",
      " |      \n",
      " |      The string whose method is called is inserted in between each given string.\n",
      " |      The result is returned as a new string.\n",
      " |      \n",
      " |      Example: '.'.join(['ab', 'pq', 'rs']) -> 'ab.pq.rs'\n",
      " |  \n",
      " |  ljust(self, width, fillchar=' ', /)\n",
      " |      Return a left-justified string of length width.\n",
      " |      \n",
      " |      Padding is done using the specified fill character (default is a space).\n",
      " |  \n",
      " |  lower(self, /)\n",
      " |      Return a copy of the string converted to lowercase.\n",
      " |  \n",
      " |  lstrip(self, chars=None, /)\n",
      " |      Return a copy of the string with leading whitespace removed.\n",
      " |      \n",
      " |      If chars is given and not None, remove characters in chars instead.\n",
      " |  \n",
      " |  partition(self, sep, /)\n",
      " |      Partition the string into three parts using the given separator.\n",
      " |      \n",
      " |      This will search for the separator in the string.  If the separator is found,\n",
      " |      returns a 3-tuple containing the part before the separator, the separator\n",
      " |      itself, and the part after it.\n",
      " |      \n",
      " |      If the separator is not found, returns a 3-tuple containing the original string\n",
      " |      and two empty strings.\n",
      " |  \n",
      " |  replace(self, old, new, count=-1, /)\n",
      " |      Return a copy with all occurrences of substring old replaced by new.\n",
      " |      \n",
      " |        count\n",
      " |          Maximum number of occurrences to replace.\n",
      " |          -1 (the default value) means replace all occurrences.\n",
      " |      \n",
      " |      If the optional argument count is given, only the first count occurrences are\n",
      " |      replaced.\n",
      " |  \n",
      " |  rfind(...)\n",
      " |      S.rfind(sub[, start[, end]]) -> int\n",
      " |      \n",
      " |      Return the highest index in S where substring sub is found,\n",
      " |      such that sub is contained within S[start:end].  Optional\n",
      " |      arguments start and end are interpreted as in slice notation.\n",
      " |      \n",
      " |      Return -1 on failure.\n",
      " |  \n",
      " |  rindex(...)\n",
      " |      S.rindex(sub[, start[, end]]) -> int\n",
      " |      \n",
      " |      Return the highest index in S where substring sub is found,\n",
      " |      such that sub is contained within S[start:end].  Optional\n",
      " |      arguments start and end are interpreted as in slice notation.\n",
      " |      \n",
      " |      Raises ValueError when the substring is not found.\n",
      " |  \n",
      " |  rjust(self, width, fillchar=' ', /)\n",
      " |      Return a right-justified string of length width.\n",
      " |      \n",
      " |      Padding is done using the specified fill character (default is a space).\n",
      " |  \n",
      " |  rpartition(self, sep, /)\n",
      " |      Partition the string into three parts using the given separator.\n",
      " |      \n",
      " |      This will search for the separator in the string, starting at the end. If\n",
      " |      the separator is found, returns a 3-tuple containing the part before the\n",
      " |      separator, the separator itself, and the part after it.\n",
      " |      \n",
      " |      If the separator is not found, returns a 3-tuple containing two empty strings\n",
      " |      and the original string.\n",
      " |  \n",
      " |  rsplit(self, /, sep=None, maxsplit=-1)\n",
      " |      Return a list of the words in the string, using sep as the delimiter string.\n",
      " |      \n",
      " |        sep\n",
      " |          The delimiter according which to split the string.\n",
      " |          None (the default value) means split according to any whitespace,\n",
      " |          and discard empty strings from the result.\n",
      " |        maxsplit\n",
      " |          Maximum number of splits to do.\n",
      " |          -1 (the default value) means no limit.\n",
      " |      \n",
      " |      Splits are done starting at the end of the string and working to the front.\n",
      " |  \n",
      " |  rstrip(self, chars=None, /)\n",
      " |      Return a copy of the string with trailing whitespace removed.\n",
      " |      \n",
      " |      If chars is given and not None, remove characters in chars instead.\n",
      " |  \n",
      " |  split(self, /, sep=None, maxsplit=-1)\n",
      " |      Return a list of the words in the string, using sep as the delimiter string.\n",
      " |      \n",
      " |      sep\n",
      " |        The delimiter according which to split the string.\n",
      " |        None (the default value) means split according to any whitespace,\n",
      " |        and discard empty strings from the result.\n",
      " |      maxsplit\n",
      " |        Maximum number of splits to do.\n",
      " |        -1 (the default value) means no limit.\n",
      " |  \n",
      " |  splitlines(self, /, keepends=False)\n",
      " |      Return a list of the lines in the string, breaking at line boundaries.\n",
      " |      \n",
      " |      Line breaks are not included in the resulting list unless keepends is given and\n",
      " |      true.\n",
      " |  \n",
      " |  startswith(...)\n",
      " |      S.startswith(prefix[, start[, end]]) -> bool\n",
      " |      \n",
      " |      Return True if S starts with the specified prefix, False otherwise.\n",
      " |      With optional start, test S beginning at that position.\n",
      " |      With optional end, stop comparing S at that position.\n",
      " |      prefix can also be a tuple of strings to try.\n",
      " |  \n",
      " |  strip(self, chars=None, /)\n",
      " |      Return a copy of the string with leading and trailing whitespace removed.\n",
      " |      \n",
      " |      If chars is given and not None, remove characters in chars instead.\n",
      " |  \n",
      " |  swapcase(self, /)\n",
      " |      Convert uppercase characters to lowercase and lowercase characters to uppercase.\n",
      " |  \n",
      " |  title(self, /)\n",
      " |      Return a version of the string where each word is titlecased.\n",
      " |      \n",
      " |      More specifically, words start with uppercased characters and all remaining\n",
      " |      cased characters have lower case.\n",
      " |  \n",
      " |  translate(self, table, /)\n",
      " |      Replace each character in the string using the given translation table.\n",
      " |      \n",
      " |        table\n",
      " |          Translation table, which must be a mapping of Unicode ordinals to\n",
      " |          Unicode ordinals, strings, or None.\n",
      " |      \n",
      " |      The table must implement lookup/indexing via __getitem__, for instance a\n",
      " |      dictionary or list.  If this operation raises LookupError, the character is\n",
      " |      left untouched.  Characters mapped to None are deleted.\n",
      " |  \n",
      " |  upper(self, /)\n",
      " |      Return a copy of the string converted to uppercase.\n",
      " |  \n",
      " |  zfill(self, width, /)\n",
      " |      Pad a numeric string with zeros on the left, to fill a field of the given width.\n",
      " |      \n",
      " |      The string is never truncated.\n",
      " |  \n",
      " |  ----------------------------------------------------------------------\n",
      " |  Static methods defined here:\n",
      " |  \n",
      " |  __new__(*args, **kwargs) from builtins.type\n",
      " |      Create and return a new object.  See help(type) for accurate signature.\n",
      " |  \n",
      " |  maketrans(...)\n",
      " |      Return a translation table usable for str.translate().\n",
      " |      \n",
      " |      If there is only one argument, it must be a dictionary mapping Unicode\n",
      " |      ordinals (integers) or characters to Unicode ordinals, strings or None.\n",
      " |      Character keys will be then converted to ordinals.\n",
      " |      If there are two arguments, they must be strings of equal length, and\n",
      " |      in the resulting dictionary, each character in x will be mapped to the\n",
      " |      character at the same position in y. If there is a third argument, it\n",
      " |      must be a string, whose characters will be mapped to None in the result.\n",
      "\n"
     ]
    }
   ],
   "source": [
    "help(str)"
   ]
  },
  {
   "cell_type": "code",
   "execution_count": 66,
   "id": "7ba2c36c",
   "metadata": {},
   "outputs": [
    {
     "name": "stdout",
     "output_type": "stream",
     "text": [
      "str(object='') -> str\n",
      "str(bytes_or_buffer[, encoding[, errors]]) -> str\n",
      "\n",
      "Create a new string object from the given object. If encoding or\n",
      "errors is specified, then the object must expose a data buffer\n",
      "that will be decoded using the given encoding and error handler.\n",
      "Otherwise, returns the result of object.__str__() (if defined)\n",
      "or repr(object).\n",
      "encoding defaults to sys.getdefaultencoding().\n",
      "errors defaults to 'strict'.\n"
     ]
    }
   ],
   "source": [
    "print(str.__doc__)"
   ]
  },
  {
   "cell_type": "code",
   "execution_count": 67,
   "id": "ef1fb34d",
   "metadata": {},
   "outputs": [
    {
     "name": "stdout",
     "output_type": "stream",
     "text": [
      "S.count(sub[, start[, end]]) -> int\n",
      "\n",
      "Return the number of non-overlapping occurrences of substring sub in\n",
      "string S[start:end].  Optional arguments start and end are\n",
      "interpreted as in slice notation.\n"
     ]
    }
   ],
   "source": [
    "print(str.count.__doc__)"
   ]
  },
  {
   "cell_type": "code",
   "execution_count": 68,
   "id": "1da01463",
   "metadata": {},
   "outputs": [
    {
     "name": "stdout",
     "output_type": "stream",
     "text": [
      "<zip object at 0x000001584864DBC0>\n"
     ]
    }
   ],
   "source": [
    "li1 = [1,2,3,4]\n",
    "li2 = [5,6,7,8]\n",
    "\n",
    "li3 = zip(li1,li2)\n",
    "\n",
    "print(li3)"
   ]
  },
  {
   "cell_type": "code",
   "execution_count": 69,
   "id": "bc322b51",
   "metadata": {},
   "outputs": [
    {
     "name": "stdout",
     "output_type": "stream",
     "text": [
      "[(1, 5), (2, 6), (3, 7), (4, 8)]\n"
     ]
    }
   ],
   "source": [
    "li3 = list(li3)\n",
    "\n",
    "print(li3)"
   ]
  },
  {
   "cell_type": "code",
   "execution_count": 70,
   "id": "64f2a26e",
   "metadata": {},
   "outputs": [
    {
     "name": "stdout",
     "output_type": "stream",
     "text": [
      "<enumerate object at 0x0000015848567300>\n"
     ]
    }
   ],
   "source": [
    "print(enumerate(li1))"
   ]
  },
  {
   "cell_type": "code",
   "execution_count": 71,
   "id": "885a6230",
   "metadata": {},
   "outputs": [
    {
     "name": "stdout",
     "output_type": "stream",
     "text": [
      "[(0, 1), (1, 2), (2, 3), (3, 4)]\n"
     ]
    }
   ],
   "source": [
    "en = list(enumerate(li1))\n",
    "\n",
    "print(en)"
   ]
  },
  {
   "cell_type": "markdown",
   "id": "7a37558a",
   "metadata": {},
   "source": [
    "## User-Defined functions\n",
    "\n",
    "### Syntax\n",
    "\n",
    "```python\n",
    "def function_name(arg1,arg2,...,argn): # args are optional\n",
    "    \"\"\"Document for function\"\"\" # it is optional\n",
    "    Block of code\n",
    "    \n",
    "    return result # return is optional\n",
    "```"
   ]
  },
  {
   "cell_type": "markdown",
   "id": "9a9a08d4",
   "metadata": {},
   "source": [
    "## Types of Function\n",
    "\n",
    "1. Based on arguments\n",
    "    1. Positional argument/required argument\n",
    "    2. keyword argument\n",
    "    3. default argument\n",
    "    4. Variable length keyword arguments\n",
    "2. Based on return and arguments\n",
    "    1. with arg with return\n",
    "    2. without arg with return\n",
    "    3. with arg without return\n",
    "    4. without arg without return\n",
    "3. Call by value\n",
    "4. Call by reference\n",
    "5. Recursive functions"
   ]
  },
  {
   "cell_type": "code",
   "execution_count": 72,
   "id": "06d0a7ed",
   "metadata": {},
   "outputs": [],
   "source": [
    "# with arg with return\n",
    "def addit(a,b):\n",
    "    print(a)\n",
    "    print(b)\n",
    "    return a+b"
   ]
  },
  {
   "cell_type": "code",
   "execution_count": 73,
   "id": "ffe3dbbe",
   "metadata": {},
   "outputs": [
    {
     "name": "stdout",
     "output_type": "stream",
     "text": [
      "15\n",
      "20\n"
     ]
    },
    {
     "data": {
      "text/plain": [
       "35"
      ]
     },
     "execution_count": 73,
     "metadata": {},
     "output_type": "execute_result"
    }
   ],
   "source": [
    "addit(15,20) # function calling"
   ]
  },
  {
   "cell_type": "code",
   "execution_count": 74,
   "id": "f8437581",
   "metadata": {},
   "outputs": [],
   "source": [
    "def greet(): # without arg with return\n",
    "    return \"Good Evening all\""
   ]
  },
  {
   "cell_type": "code",
   "execution_count": 75,
   "id": "901ab9c1",
   "metadata": {},
   "outputs": [
    {
     "data": {
      "text/plain": [
       "'Good Evening all'"
      ]
     },
     "execution_count": 75,
     "metadata": {},
     "output_type": "execute_result"
    }
   ],
   "source": [
    "greet()"
   ]
  },
  {
   "cell_type": "code",
   "execution_count": 76,
   "id": "3d504425",
   "metadata": {},
   "outputs": [],
   "source": [
    "def additi(a,b): # with arg without return\n",
    "    print(a)\n",
    "    print(b)\n",
    "    print(a+b)"
   ]
  },
  {
   "cell_type": "code",
   "execution_count": 77,
   "id": "7f73ef21",
   "metadata": {},
   "outputs": [
    {
     "name": "stdout",
     "output_type": "stream",
     "text": [
      "12\n",
      "34\n",
      "46\n"
     ]
    }
   ],
   "source": [
    "additi(12,34)"
   ]
  },
  {
   "cell_type": "code",
   "execution_count": 78,
   "id": "f31bf182",
   "metadata": {},
   "outputs": [],
   "source": [
    "def greet():\n",
    "    print(\"Good Evening all\")"
   ]
  },
  {
   "cell_type": "code",
   "execution_count": 79,
   "id": "d4228f5e",
   "metadata": {},
   "outputs": [
    {
     "name": "stdout",
     "output_type": "stream",
     "text": [
      "Good Evening all\n"
     ]
    }
   ],
   "source": [
    "greet()"
   ]
  },
  {
   "cell_type": "markdown",
   "id": "5551ee22",
   "metadata": {},
   "source": [
    "## Required arguments"
   ]
  },
  {
   "cell_type": "code",
   "execution_count": 80,
   "id": "06188f98",
   "metadata": {},
   "outputs": [],
   "source": [
    "def addition(a,b):\n",
    "    \"\"\"This function takes two args and returns addition of two args\"\"\"\n",
    "    print(a)\n",
    "    print(b)\n",
    "    print(a+b)"
   ]
  },
  {
   "cell_type": "code",
   "execution_count": 81,
   "id": "ff9b58ba",
   "metadata": {},
   "outputs": [
    {
     "name": "stdout",
     "output_type": "stream",
     "text": [
      "10\n",
      "20\n",
      "30\n"
     ]
    }
   ],
   "source": [
    "addition(10,20)"
   ]
  },
  {
   "cell_type": "code",
   "execution_count": 82,
   "id": "ee8969ff",
   "metadata": {},
   "outputs": [],
   "source": [
    "def addition(a,b):\n",
    "    return a+b,a*b,a ** b\n",
    "    print(a+b)\n",
    "    print(a,b)"
   ]
  },
  {
   "cell_type": "code",
   "execution_count": 83,
   "id": "17c54c63",
   "metadata": {},
   "outputs": [],
   "source": [
    "add = addition(5,5)"
   ]
  },
  {
   "cell_type": "code",
   "execution_count": 84,
   "id": "36fd5f52",
   "metadata": {},
   "outputs": [
    {
     "name": "stdout",
     "output_type": "stream",
     "text": [
      "(10, 25, 3125)\n"
     ]
    }
   ],
   "source": [
    "print(add)"
   ]
  },
  {
   "cell_type": "code",
   "execution_count": 85,
   "id": "67e04d1f",
   "metadata": {},
   "outputs": [],
   "source": [
    "def addition(a,b):\n",
    "    print(a+b,a*b,a ** b)\n",
    "    print(a+b)\n",
    "    print(a,b)"
   ]
  },
  {
   "cell_type": "code",
   "execution_count": 86,
   "id": "bf636cf1",
   "metadata": {},
   "outputs": [
    {
     "name": "stdout",
     "output_type": "stream",
     "text": [
      "10 25 3125\n",
      "10\n",
      "5 5\n"
     ]
    }
   ],
   "source": [
    "add = addition(5,5)"
   ]
  },
  {
   "cell_type": "markdown",
   "id": "efdf8d50",
   "metadata": {},
   "source": [
    "- Default argument"
   ]
  },
  {
   "cell_type": "code",
   "execution_count": 87,
   "id": "57c498ca",
   "metadata": {},
   "outputs": [],
   "source": [
    "def ad(a,b=0):\n",
    "    return a+b"
   ]
  },
  {
   "cell_type": "code",
   "execution_count": 88,
   "id": "d022021b",
   "metadata": {},
   "outputs": [
    {
     "name": "stdout",
     "output_type": "stream",
     "text": [
      "15\n",
      "6\n"
     ]
    }
   ],
   "source": [
    "print(ad(5,10))\n",
    "print(ad(6))"
   ]
  },
  {
   "cell_type": "code",
   "execution_count": 89,
   "id": "575842d8",
   "metadata": {},
   "outputs": [
    {
     "name": "stdout",
     "output_type": "stream",
     "text": [
      "range(0, 5)\n"
     ]
    }
   ],
   "source": [
    "print(range(5))"
   ]
  },
  {
   "cell_type": "markdown",
   "id": "b542fa9d",
   "metadata": {},
   "source": [
    "- Keyword arguments"
   ]
  },
  {
   "cell_type": "code",
   "execution_count": 90,
   "id": "3f54b22d",
   "metadata": {},
   "outputs": [],
   "source": [
    "def additn(a,b):\n",
    "    return a+b"
   ]
  },
  {
   "cell_type": "code",
   "execution_count": 91,
   "id": "c17504bf",
   "metadata": {},
   "outputs": [
    {
     "name": "stdout",
     "output_type": "stream",
     "text": [
      "abcdef\n",
      "defabc\n"
     ]
    }
   ],
   "source": [
    "print(additn(a='abc',b='def'))\n",
    "print(additn(b='abc',a='def'))"
   ]
  },
  {
   "cell_type": "code",
   "execution_count": 92,
   "id": "caa3aea7",
   "metadata": {},
   "outputs": [
    {
     "name": "stdout",
     "output_type": "stream",
     "text": [
      "abcdef\n"
     ]
    }
   ],
   "source": [
    "print(additn('abc','def'))"
   ]
  },
  {
   "cell_type": "code",
   "execution_count": 93,
   "id": "294edb66",
   "metadata": {},
   "outputs": [
    {
     "name": "stdout",
     "output_type": "stream",
     "text": [
      "defabcc\n"
     ]
    }
   ],
   "source": [
    "print(additn('def',b='abcc'))"
   ]
  },
  {
   "cell_type": "code",
   "execution_count": 94,
   "id": "df4c19e3",
   "metadata": {},
   "outputs": [
    {
     "ename": "SyntaxError",
     "evalue": "positional argument follows keyword argument (<ipython-input-94-bc5d3bb179db>, line 1)",
     "output_type": "error",
     "traceback": [
      "\u001b[1;36m  File \u001b[1;32m\"<ipython-input-94-bc5d3bb179db>\"\u001b[1;36m, line \u001b[1;32m1\u001b[0m\n\u001b[1;33m    print(additn(b='abcc','def'))\u001b[0m\n\u001b[1;37m                          ^\u001b[0m\n\u001b[1;31mSyntaxError\u001b[0m\u001b[1;31m:\u001b[0m positional argument follows keyword argument\n"
     ]
    }
   ],
   "source": [
    "print(additn(b='abcc','def'))"
   ]
  },
  {
   "cell_type": "code",
   "execution_count": 95,
   "id": "1a2a44ac",
   "metadata": {},
   "outputs": [
    {
     "name": "stdout",
     "output_type": "stream",
     "text": [
      "1 2 3 4 5 6\n",
      "['1', '2', '3', '4', '5', '6']\n"
     ]
    }
   ],
   "source": [
    "li = input().split()\n",
    "\n",
    "print(li)"
   ]
  },
  {
   "cell_type": "code",
   "execution_count": 96,
   "id": "0fa6cf3a",
   "metadata": {},
   "outputs": [
    {
     "name": "stdout",
     "output_type": "stream",
     "text": [
      "71468\n",
      "71468\n"
     ]
    }
   ],
   "source": [
    "li = input()\n",
    "\n",
    "print(li)"
   ]
  },
  {
   "cell_type": "code",
   "execution_count": 98,
   "id": "7d7a0ee7",
   "metadata": {},
   "outputs": [
    {
     "name": "stdout",
     "output_type": "stream",
     "text": [
      "123\n",
      "[123, 0, 1, 2, 3, 4, 5, 6, 7, 8, 9, 10, 11, 12, 13, 14, 15, 16, 17, 18, 19, 20, 21, 22, 23, 24, 25, 26, 27, 28, 29, 30, 31, 32, 33, 34, 35, 36, 37, 38, 39, 40, 41, 42, 43, 44, 45, 46, 47, 48, 49, 50, 51, 52, 53, 54, 55, 56, 57, 58, 59, 60, 61, 62, 63, 64, 65, 66, 67, 68, 69, 70, 71, 72, 73, 74, 75, 76, 77, 78, 79, 80, 81, 82, 83, 84, 85, 86, 87, 88, 89, 90, 91, 92, 93, 94, 95, 96, 97, 98, 99, 100, 101, 102, 103, 104, 105, 106, 107, 108, 109, 110, 111, 112, 113, 114, 115, 116, 117, 118, 119, 120, 121, 122]\n"
     ]
    }
   ],
   "source": [
    "n = int(input())\n",
    "li = []\n",
    "li.append(n)\n",
    "for i in range(n):\n",
    "    li.append(i)\n",
    "    \n",
    "print(li)"
   ]
  },
  {
   "cell_type": "code",
   "execution_count": 99,
   "id": "aff26249",
   "metadata": {},
   "outputs": [
    {
     "name": "stdout",
     "output_type": "stream",
     "text": [
      "range(0, 55)\n"
     ]
    }
   ],
   "source": [
    "range(55)\n",
    "\n",
    "print(range(55))"
   ]
  },
  {
   "cell_type": "code",
   "execution_count": null,
   "id": "0850012d",
   "metadata": {},
   "outputs": [],
   "source": []
  }
 ],
 "metadata": {
  "kernelspec": {
   "display_name": "Python 3",
   "language": "python",
   "name": "python3"
  },
  "language_info": {
   "codemirror_mode": {
    "name": "ipython",
    "version": 3
   },
   "file_extension": ".py",
   "mimetype": "text/x-python",
   "name": "python",
   "nbconvert_exporter": "python",
   "pygments_lexer": "ipython3",
   "version": "3.8.8"
  }
 },
 "nbformat": 4,
 "nbformat_minor": 5
}
