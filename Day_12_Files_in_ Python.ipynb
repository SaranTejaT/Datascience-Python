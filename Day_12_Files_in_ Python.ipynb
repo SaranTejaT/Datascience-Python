{
 "cells": [
  {
   "cell_type": "markdown",
   "id": "9efa3ee3",
   "metadata": {},
   "source": [
    "## Part 1"
   ]
  },
  {
   "cell_type": "code",
   "execution_count": 1,
   "id": "21184f4b",
   "metadata": {},
   "outputs": [],
   "source": [
    "# Types of functions in python\n",
    "# file and file operations in python"
   ]
  },
  {
   "cell_type": "code",
   "execution_count": 2,
   "id": "c2fabb0c",
   "metadata": {},
   "outputs": [],
   "source": [
    "# With and without return value"
   ]
  },
  {
   "cell_type": "code",
   "execution_count": 3,
   "id": "396c172b",
   "metadata": {},
   "outputs": [],
   "source": [
    "# File and files operations in python"
   ]
  },
  {
   "cell_type": "code",
   "execution_count": 4,
   "id": "dd21b0d0",
   "metadata": {},
   "outputs": [],
   "source": [
    "# File is collection of records\n",
    "# file operations\n",
    "# open file\n",
    "# read r+\n",
    "# write w+\n",
    "# append a+"
   ]
  },
  {
   "cell_type": "code",
   "execution_count": 5,
   "id": "b23ffba8",
   "metadata": {},
   "outputs": [
    {
     "data": {
      "text/plain": [
       "'C:\\\\Users\\\\Dell\\\\Desktop\\\\Data Science Internship files\\\\Notebooks'"
      ]
     },
     "execution_count": 5,
     "metadata": {},
     "output_type": "execute_result"
    }
   ],
   "source": [
    "pwd()"
   ]
  },
  {
   "cell_type": "code",
   "execution_count": 9,
   "id": "4dcd487b",
   "metadata": {},
   "outputs": [
    {
     "name": "stdout",
     "output_type": "stream",
     "text": [
      "12\n"
     ]
    }
   ],
   "source": [
    "fopen = open('data.txt','w')\n",
    "fw = fopen.write(\"Good Evening\")\n",
    "print(fw)\n",
    "fopen.close()"
   ]
  },
  {
   "cell_type": "code",
   "execution_count": 11,
   "id": "1f50064b",
   "metadata": {},
   "outputs": [],
   "source": [
    "fadd = open('data.txt','a')\n",
    "fa = fadd.write(\"Good Evening\\n\" * 10)\n",
    "fadd.close()"
   ]
  },
  {
   "cell_type": "code",
   "execution_count": 12,
   "id": "3188d28f",
   "metadata": {},
   "outputs": [
    {
     "name": "stdout",
     "output_type": "stream",
     "text": [
      "Good EveningGood Evening\n",
      "Good Evening\n",
      "Good Evening\n",
      "Good Evening\n",
      "Good Evening\n",
      "Good Evening\n",
      "Good Evening\n",
      "Good Evening\n",
      "Good Evening\n",
      "Good Evening\n",
      "\n"
     ]
    }
   ],
   "source": [
    "fread = open('data.txt')\n",
    "fr = fread.read()\n",
    "print(fr)\n",
    "fread.close()"
   ]
  },
  {
   "cell_type": "code",
   "execution_count": 13,
   "id": "1260ca57",
   "metadata": {},
   "outputs": [
    {
     "name": "stdout",
     "output_type": "stream",
     "text": [
      "['Good EveningGood Evening\\n', 'Good Evening\\n', 'Good Evening\\n', 'Good Evening\\n', 'Good Evening\\n', 'Good Evening\\n', 'Good Evening\\n', 'Good Evening\\n', 'Good Evening\\n', 'Good Evening\\n']\n"
     ]
    }
   ],
   "source": [
    "fread = open('data.txt')\n",
    "fre = fread.readlines()\n",
    "print(fre)\n",
    "fread.close()"
   ]
  },
  {
   "cell_type": "code",
   "execution_count": 14,
   "id": "726e636a",
   "metadata": {},
   "outputs": [
    {
     "name": "stdout",
     "output_type": "stream",
     "text": [
      "21\n"
     ]
    }
   ],
   "source": [
    "with open('data1.txt','w') as ds:\n",
    "    ff=ds.write(\"Good Evening Everyone\")\n",
    "    print(ff)"
   ]
  },
  {
   "cell_type": "code",
   "execution_count": 16,
   "id": "d644c722",
   "metadata": {},
   "outputs": [
    {
     "name": "stdout",
     "output_type": "stream",
     "text": [
      "120\n"
     ]
    }
   ],
   "source": [
    "with open('data2.txt','w') as fd:\n",
    "    fr = fd.write(\"Good Evening\" * 10)\n",
    "    print(fr)"
   ]
  },
  {
   "cell_type": "code",
   "execution_count": 17,
   "id": "73453696",
   "metadata": {},
   "outputs": [
    {
     "name": "stdout",
     "output_type": "stream",
     "text": [
      "Good EveningGood Evening\n",
      "Good Evening\n",
      "Good Evening\n",
      "Good Evening\n",
      "Good Evening\n",
      "Good Evening\n",
      "Good Evening\n",
      "Good Evening\n",
      "Good Evening\n",
      "Good Evening\n",
      "\n"
     ]
    }
   ],
   "source": [
    "with open('data.txt') as dt:\n",
    "    td = dt.read()\n",
    "    print(td)"
   ]
  },
  {
   "cell_type": "code",
   "execution_count": 19,
   "id": "8f3c04da",
   "metadata": {},
   "outputs": [
    {
     "name": "stdout",
     "output_type": "stream",
     "text": [
      "Number of lines in a file : 10\n",
      "Number of words in a file : 21\n",
      "Number of chars in a file:  142\n"
     ]
    }
   ],
   "source": [
    "# Number of lines in a file\n",
    "# Number of words in a file\n",
    "# Number of chars in a file\n",
    "\n",
    "with open('data.txt') as fg:\n",
    "    k = fg.read()\n",
    "    cnt = 0\n",
    "    wc = 0\n",
    "    for i in k:\n",
    "        if i=='\\n':\n",
    "            cnt += 1\n",
    "            wc = k.split()\n",
    "print(\"Number of lines in a file :\",cnt)\n",
    "print(\"Number of words in a file :\",len(wc))\n",
    "print(\"Number of chars in a file: \",len(k))"
   ]
  },
  {
   "cell_type": "markdown",
   "id": "1517f7f6",
   "metadata": {},
   "source": [
    "## Files in python\n",
    "\n",
    "- open() \n",
    "    - r -> read the file from existing\n",
    "    - w -> write data to new file\n",
    "    - a -> write data to existing file\n",
    "- Do some operations\n",
    "    - read data\n",
    "    - write data"
   ]
  },
  {
   "cell_type": "code",
   "execution_count": 1,
   "id": "58130581",
   "metadata": {},
   "outputs": [],
   "source": [
    "f = open('file.txt','w')\n",
    "f.close()"
   ]
  },
  {
   "cell_type": "code",
   "execution_count": 2,
   "id": "02425eef",
   "metadata": {},
   "outputs": [],
   "source": [
    "for i in range(1,3):\n",
    "    f = open('file'+str(i)+'.txt','w')\n",
    "    f.close()"
   ]
  },
  {
   "cell_type": "code",
   "execution_count": 4,
   "id": "de58e4ac",
   "metadata": {},
   "outputs": [],
   "source": [
    "f = open('file.txt','w')\n",
    "for i in range(1,26):\n",
    "    f.write('21APSSDC'+str(i)+'\\n')\n",
    "f.close()"
   ]
  },
  {
   "cell_type": "code",
   "execution_count": 5,
   "id": "34f2e64e",
   "metadata": {},
   "outputs": [
    {
     "name": "stdout",
     "output_type": "stream",
     "text": [
      "21apssdc1\n",
      "21apssdc2\n",
      "21apssdc3\n",
      "21apssdc4\n",
      "21apssdc5\n",
      "21apssdc6\n",
      "21apssdc7\n",
      "21apssdc8\n",
      "21apssdc9\n",
      "21apssdc10\n",
      "21apssdc11\n",
      "21apssdc12\n",
      "21apssdc13\n",
      "21apssdc14\n",
      "21apssdc15\n",
      "21apssdc16\n",
      "21apssdc17\n",
      "21apssdc18\n",
      "21apssdc19\n",
      "21apssdc20\n",
      "21apssdc21\n",
      "21apssdc22\n",
      "21apssdc23\n",
      "21apssdc24\n",
      "21apssdc25\n",
      "\n",
      "<class 'str'>\n"
     ]
    }
   ],
   "source": [
    "f = open('file.txt','r')\n",
    "\n",
    "data = f.read()\n",
    "\n",
    "print(data.lower())\n",
    "print(type(data))\n",
    "\n",
    "f.close()"
   ]
  },
  {
   "cell_type": "code",
   "execution_count": 6,
   "id": "e0917f8b",
   "metadata": {},
   "outputs": [
    {
     "name": "stdout",
     "output_type": "stream",
     "text": [
      "21APSSDC1\n",
      "\n",
      "21APSSDC2\n",
      "\n",
      "<class 'str'>\n"
     ]
    }
   ],
   "source": [
    "f = open('file.txt','r')\n",
    "\n",
    "data = f.readline()\n",
    "\n",
    "print(data)\n",
    "print(f.readline())\n",
    "print(type(data))\n",
    "\n",
    "f.close()"
   ]
  },
  {
   "cell_type": "code",
   "execution_count": 7,
   "id": "1802f142",
   "metadata": {},
   "outputs": [
    {
     "name": "stdout",
     "output_type": "stream",
     "text": [
      "21APSSDC1\n",
      "21APSSDC2\n",
      "\n",
      "<class 'str'>\n"
     ]
    }
   ],
   "source": [
    "f = open('file.txt','r')\n",
    "\n",
    "data = f.read(20)\n",
    "\n",
    "print(data)\n",
    "print(type(data))\n",
    "\n",
    "f.close()"
   ]
  },
  {
   "cell_type": "code",
   "execution_count": 8,
   "id": "4d44a853",
   "metadata": {},
   "outputs": [
    {
     "name": "stdout",
     "output_type": "stream",
     "text": [
      "['21APSSDC1\\n', '21APSSDC2\\n', '21APSSDC3\\n', '21APSSDC4\\n', '21APSSDC5\\n', '21APSSDC6\\n', '21APSSDC7\\n', '21APSSDC8\\n', '21APSSDC9\\n', '21APSSDC10\\n']\n",
      "<class 'list'>\n"
     ]
    }
   ],
   "source": [
    "f = open('file.txt','r')\n",
    "\n",
    "data = f.readlines()\n",
    "\n",
    "print(data[:10])\n",
    "print(type(data))\n",
    "\n",
    "f.close()"
   ]
  },
  {
   "cell_type": "code",
   "execution_count": 9,
   "id": "7eed33ed",
   "metadata": {},
   "outputs": [
    {
     "name": "stdout",
     "output_type": "stream",
     "text": [
      "['21APSSDC1\\n', '21APSSDC2\\n', '21APSSDC3\\n', '21APSSDC4\\n', '21APSSDC5\\n', '21APSSDC6\\n', '21APSSDC7\\n', '21APSSDC8\\n', '21APSSDC9\\n', '21APSSDC10\\n', '21APSSDC11\\n', '21APSSDC12\\n', '21APSSDC13\\n', '21APSSDC14\\n', '21APSSDC15\\n', '21APSSDC16\\n', '21APSSDC17\\n', '21APSSDC18\\n', '21APSSDC19\\n', '21APSSDC20\\n', '21APSSDC21\\n', '21APSSDC22\\n', '21APSSDC23\\n', '21APSSDC24\\n', '21APSSDC25\\n']\n",
      "<class 'list'>\n"
     ]
    }
   ],
   "source": [
    "f = open('file.txt','r')\n",
    "\n",
    "data = f.readlines()\n",
    "\n",
    "print(data)\n",
    "print(type(data))\n",
    "\n",
    "f.close()"
   ]
  },
  {
   "cell_type": "code",
   "execution_count": 10,
   "id": "3fa92797",
   "metadata": {},
   "outputs": [
    {
     "name": "stdout",
     "output_type": "stream",
     "text": [
      "21APSSDC1\n",
      "\n",
      "21APSSDC2\n",
      "\n",
      "21APSSDC3\n",
      "\n",
      "21APSSDC4\n",
      "\n",
      "21APSSDC5\n",
      "\n",
      "21APSSDC6\n",
      "\n",
      "21APSSDC7\n",
      "\n",
      "21APSSDC8\n",
      "\n",
      "21APSSDC9\n",
      "\n",
      "21APSSDC10\n",
      "\n",
      "21APSSDC11\n",
      "\n",
      "21APSSDC12\n",
      "\n",
      "21APSSDC13\n",
      "\n",
      "21APSSDC14\n",
      "\n",
      "21APSSDC15\n",
      "\n",
      "21APSSDC16\n",
      "\n",
      "21APSSDC17\n",
      "\n",
      "21APSSDC18\n",
      "\n",
      "21APSSDC19\n",
      "\n",
      "21APSSDC20\n",
      "\n",
      "21APSSDC21\n",
      "\n",
      "21APSSDC22\n",
      "\n",
      "21APSSDC23\n",
      "\n",
      "21APSSDC24\n",
      "\n",
      "21APSSDC25\n",
      "\n"
     ]
    }
   ],
   "source": [
    "f = open('file.txt','r')\n",
    "\n",
    "data = f.readlines()\n",
    "\n",
    "for line in data:\n",
    "    print(line)\n",
    "\n",
    "f.close()"
   ]
  },
  {
   "cell_type": "markdown",
   "id": "edc99938",
   "metadata": {},
   "source": [
    "- r+\n",
    "- w+\n",
    "- a+"
   ]
  },
  {
   "cell_type": "code",
   "execution_count": 12,
   "id": "e9533250",
   "metadata": {},
   "outputs": [],
   "source": [
    "f = open('file.txt','r+')\n",
    "\n",
    "data = f.read()\n",
    "f.write(data)\n",
    "\n",
    "f.close()"
   ]
  },
  {
   "cell_type": "code",
   "execution_count": 13,
   "id": "7fea2d6e",
   "metadata": {
    "collapsed": true
   },
   "outputs": [
    {
     "name": "stdout",
     "output_type": "stream",
     "text": [
      "1APSSDC3\n",
      "21APSSDC4\n",
      "21APSSDC5\n",
      "21APSSDC6\n",
      "21APSSDC7\n",
      "21APSSDC8\n",
      "21APSSDC9\n",
      "21APSSDC10\n",
      "21APSSDC11\n",
      "21APSSDC12\n",
      "21APSSDC13\n",
      "21APSSDC14\n",
      "21APSSDC15\n",
      "21APSSDC16\n",
      "21APSSDC17\n",
      "21APSSDC18\n",
      "21APSSDC19\n",
      "21APSSDC20\n",
      "21APSSDC21\n",
      "21APSSDC22\n",
      "21APSSDC23\n",
      "21APSSDC24\n",
      "21APSSDC25\n",
      "21APSSDC1\n",
      "21APSSDC2\n",
      "21APSSDC3\n",
      "21APSSDC4\n",
      "21APSSDC5\n",
      "21APSSDC6\n",
      "21APSSDC7\n",
      "21APSSDC8\n",
      "21APSSDC9\n",
      "21APSSDC10\n",
      "21APSSDC11\n",
      "21APSSDC12\n",
      "21APSSDC13\n",
      "21APSSDC14\n",
      "21APSSDC15\n",
      "21APSSDC16\n",
      "21APSSDC17\n",
      "21APSSDC18\n",
      "21APSSDC19\n",
      "21APSSDC20\n",
      "21APSSDC21\n",
      "21APSSDC22\n",
      "21APSSDC23\n",
      "21APSSDC24\n",
      "21APSSDC25\n",
      "21APSSDC1\n",
      "21APSSDC2\n",
      "21APSSDC3\n",
      "21APSSDC4\n",
      "21APSSDC5\n",
      "21APSSDC6\n",
      "21APSSDC7\n",
      "21APSSDC8\n",
      "21APSSDC9\n",
      "21APSSDC10\n",
      "21APSSDC11\n",
      "21APSSDC12\n",
      "21APSSDC13\n",
      "21APSSDC14\n",
      "21APSSDC15\n",
      "21APSSDC16\n",
      "21APSSDC17\n",
      "21APSSDC18\n",
      "21APSSDC19\n",
      "21APSSDC20\n",
      "21APSSDC21\n",
      "21APSSDC22\n",
      "21APSSDC23\n",
      "21APSSDC24\n",
      "21APSSDC25\n",
      "21APSSDC1\n",
      "21APSSDC2\n",
      "21APSSDC3\n",
      "21APSSDC4\n",
      "21APSSDC5\n",
      "21APSSDC6\n",
      "21APSSDC7\n",
      "21APSSDC8\n",
      "21APSSDC9\n",
      "21APSSDC10\n",
      "21APSSDC11\n",
      "21APSSDC12\n",
      "21APSSDC13\n",
      "21APSSDC14\n",
      "21APSSDC15\n",
      "21APSSDC16\n",
      "21APSSDC17\n",
      "21APSSDC18\n",
      "21APSSDC19\n",
      "21APSSDC20\n",
      "21APSSDC21\n",
      "21APSSDC22\n",
      "21APSSDC23\n",
      "21APSSDC24\n",
      "21APSSDC25\n",
      "\n"
     ]
    }
   ],
   "source": [
    "with open('file.txt','r+') as f:\n",
    "    f.write('\\n Day12 APSSDC Session')\n",
    "    print(f.read())"
   ]
  },
  {
   "cell_type": "markdown",
   "id": "88fb4a6f",
   "metadata": {},
   "source": [
    "#### Copy data from 1 file to many"
   ]
  },
  {
   "cell_type": "code",
   "execution_count": 17,
   "id": "1a74729b",
   "metadata": {},
   "outputs": [],
   "source": [
    "with open('file.txt','a+') as f:\n",
    "    data = f.read()\n",
    "    \n",
    "for i in range(1,3):\n",
    "    with open('file'+str(i)+'.txt','r+') as f:\n",
    "        f.write(data)"
   ]
  },
  {
   "cell_type": "code",
   "execution_count": 18,
   "id": "3b6dd45c",
   "metadata": {},
   "outputs": [],
   "source": [
    "with open('file.txt','w') as f:\n",
    "    f.write('New data to file')"
   ]
  },
  {
   "cell_type": "code",
   "execution_count": 20,
   "id": "ae7fcf5c",
   "metadata": {},
   "outputs": [],
   "source": [
    "with open('file.txt','a') as f:\n",
    "    f.write(\"\\nNew data to file\")"
   ]
  },
  {
   "cell_type": "code",
   "execution_count": null,
   "id": "0119c464",
   "metadata": {},
   "outputs": [],
   "source": []
  }
 ],
 "metadata": {
  "kernelspec": {
   "display_name": "Python 3",
   "language": "python",
   "name": "python3"
  },
  "language_info": {
   "codemirror_mode": {
    "name": "ipython",
    "version": 3
   },
   "file_extension": ".py",
   "mimetype": "text/x-python",
   "name": "python",
   "nbconvert_exporter": "python",
   "pygments_lexer": "ipython3",
   "version": "3.8.8"
  }
 },
 "nbformat": 4,
 "nbformat_minor": 5
}
